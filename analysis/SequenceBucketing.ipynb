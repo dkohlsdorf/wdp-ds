{
 "cells": [
  {
   "cell_type": "code",
   "execution_count": 1,
   "metadata": {},
   "outputs": [
    {
     "data": {
      "text/plain": [
       "<module 'ml_pipeline' from '../ml_pipeline/__init__.py'>"
      ]
     },
     "execution_count": 1,
     "metadata": {},
     "output_type": "execute_result"
    }
   ],
   "source": [
    "import yaml\n",
    "import sys\n",
    "import os \n",
    "import tensorflow as tf\n",
    "sys.path.append('..')\n",
    "\n",
    "import imp\n",
    "import ml_pipeline\n",
    "imp.reload(ml_pipeline)"
   ]
  },
  {
   "cell_type": "code",
   "execution_count": 2,
   "metadata": {},
   "outputs": [],
   "source": [
    "from ml_pipeline.audio import *\n",
    "from ml_pipeline.sequence_hashing import *\n",
    "from tensorflow.keras.models import *"
   ]
  },
  {
   "cell_type": "code",
   "execution_count": 3,
   "metadata": {},
   "outputs": [
    {
     "name": "stderr",
     "output_type": "stream",
     "text": [
      "/Users/daniel.kohlsdorf/anaconda3/lib/python3.7/site-packages/ipykernel_launcher.py:1: YAMLLoadWarning: calling yaml.load() without Loader=... is deprecated, as the default Loader is unsafe. Please read https://msg.pyyaml.org/load for full details.\n",
      "  \"\"\"Entry point for launching an IPython kernel.\n"
     ]
    },
    {
     "name": "stdout",
     "output_type": "stream",
     "text": [
      "Parameters: {'spec_win': 128, 'spec_step': 64, 'fft_win': 512, 'fft_step': 64, 'highpass': 25, 'output': 'models/v2_lstm_v8/', 'input': 'gs://wdp-ds-data/dolphin_ogg', 'version': 'v2.0', 'encoding': 'data/encodings.csv'}\n"
     ]
    },
    {
     "name": "stderr",
     "output_type": "stream",
     "text": [
      "WARNING: Logging before flag parsing goes to stderr.\n",
      "W0419 14:48:02.922008 4419687872 hdf5_format.py:177] No training configuration found in save file: the model was *not* compiled. Compile it manually.\n"
     ]
    }
   ],
   "source": [
    "c = yaml.load(open('../config/induction_config.yaml'))\n",
    "print(\"Parameters: {}\".format(c))\n",
    "params       = WindowParams(c['spec_win'], c['spec_step'], c['fft_win'], c['fft_step'], c['highpass'])\n",
    "inp          = c['input']\n",
    "output       = c['output'] \n",
    "enc_path     = c['encoding']\n",
    "enc          = load_model(\"{}/encoder.h5\".format('../models/v2_lstm_v8/'))"
   ]
  },
  {
   "cell_type": "code",
   "execution_count": 4,
   "metadata": {},
   "outputs": [],
   "source": [
    "sequences = []\n",
    "for filename in tf.io.gfile.listdir('../data/unsupervised/'):\n",
    "    if filename.endswith('.wav'):\n",
    "        path = '../data/unsupervised/{}'.format(filename)\n",
    "        x = [enc.predict(x.reshape(1, x.shape[0], x.shape[1], 1)).reshape((256)) for x, _, _, _  in spectrogram_windows(path, params)]\n",
    "        if len(x) > 0:\n",
    "            sequences.append(np.stack(x))\n",
    "    if len(sequences) > 20:\n",
    "        break"
   ]
  },
  {
   "cell_type": "code",
   "execution_count": 5,
   "metadata": {},
   "outputs": [
    {
     "name": "stdout",
     "output_type": "stream",
     "text": [
      "83\n",
      "8\n",
      "[ 4  0  5  0  0  0  2 10  0  1  2  0  2  3  1  5  0  1  0  0  1]\n"
     ]
    }
   ],
   "source": [
    "lbucket = length_bucketing(sequences, 10)\n",
    "print(lbucket)"
   ]
  },
  {
   "cell_type": "code",
   "execution_count": 8,
   "metadata": {},
   "outputs": [
    {
     "name": "stdout",
     "output_type": "stream",
     "text": [
      "3 (16, 256)\n",
      "(12, 256)\n",
      "(12,)\n",
      "(0, 0, 0, 0)\n",
      "(1, 1, 1, 0)\n",
      "(1, 0, 1, 1)\n"
     ]
    },
    {
     "data": {
      "text/plain": [
       "array([0, 1, 2], dtype=int32)"
      ]
     },
     "execution_count": 8,
     "metadata": {},
     "output_type": "execute_result"
    }
   ],
   "source": [
    "x = []\n",
    "for sequence, l in zip(sequences, lbucket):\n",
    "    if l == 2:\n",
    "        x.append(sequence)\n",
    "print(len(x), x[0].shape)\n",
    "similarity_bucketing(x, 4, 2)"
   ]
  },
  {
   "cell_type": "code",
   "execution_count": null,
   "metadata": {},
   "outputs": [],
   "source": []
  }
 ],
 "metadata": {
  "kernelspec": {
   "display_name": "Python 3",
   "language": "python",
   "name": "python3"
  },
  "language_info": {
   "codemirror_mode": {
    "name": "ipython",
    "version": 3
   },
   "file_extension": ".py",
   "mimetype": "text/x-python",
   "name": "python",
   "nbconvert_exporter": "python",
   "pygments_lexer": "ipython3",
   "version": "3.7.3"
  }
 },
 "nbformat": 4,
 "nbformat_minor": 2
}
