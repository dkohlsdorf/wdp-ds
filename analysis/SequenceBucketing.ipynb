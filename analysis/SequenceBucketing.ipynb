{
 "cells": [
  {
   "cell_type": "markdown",
   "metadata": {},
   "source": [
    "# Sequence Bucketing\n",
    "\n",
    "Instead of clustering directly, we start by pre bucketing using a SAX like algorithm.\n",
    "First we compress each sequence to `n` symbols and then quantize using k-means."
   ]
  },
  {
   "cell_type": "code",
   "execution_count": 1,
   "metadata": {},
   "outputs": [
    {
     "data": {
      "text/plain": [
       "<module 'ml_pipeline' from '../ml_pipeline/__init__.py'>"
      ]
     },
     "execution_count": 1,
     "metadata": {},
     "output_type": "execute_result"
    }
   ],
   "source": [
    "import yaml\n",
    "import sys\n",
    "import os \n",
    "import tensorflow as tf\n",
    "sys.path.append('..')\n",
    "import pickle\n",
    "import matplotlib.pyplot as plt\n",
    "import pandas as pd\n",
    "\n",
    "from sklearn.cluster import AgglomerativeClustering\n",
    "from tensorflow.keras.models import *\n",
    "\n",
    "import imp\n",
    "import ml_pipeline\n",
    "imp.reload(ml_pipeline)"
   ]
  },
  {
   "cell_type": "code",
   "execution_count": 2,
   "metadata": {},
   "outputs": [],
   "source": [
    "from ml_pipeline.audio import *\n",
    "from ml_pipeline.dtw import * \n",
    "from ml_pipeline.sequence_hashing import *\n",
    "from ml_pipeline.structured import * \n",
    "from ml_pipeline.audio_collection import * "
   ]
  },
  {
   "cell_type": "code",
   "execution_count": 3,
   "metadata": {
    "scrolled": true
   },
   "outputs": [
    {
     "name": "stdout",
     "output_type": "stream",
     "text": [
      "\tReading ../models/v3_lstm_v1//embedding_06231101C.csv\n",
      "\tReading ../models/v3_lstm_v1//embedding_072408Sb_RegPCa110.csv\n",
      "\tReading ../models/v3_lstm_v1//embedding_07291101.csv\n"
     ]
    },
    {
     "name": "stderr",
     "output_type": "stream",
     "text": [
      "/opt/conda/lib/python3.7/site-packages/ipykernel_launcher.py:11: SettingWithCopyWarning: \n",
      "A value is trying to be set on a copy of a slice from a DataFrame.\n",
      "Try using .loc[row_indexer,col_indexer] = value instead\n",
      "\n",
      "See the caveats in the documentation: https://pandas.pydata.org/pandas-docs/stable/user_guide/indexing.html#returning-a-view-versus-a-copy\n",
      "  # This is added back by InteractiveShellApp.init_path()\n"
     ]
    },
    {
     "name": "stdout",
     "output_type": "stream",
     "text": [
      "\tReading ../models/v3_lstm_v1//embedding_061310Night_PCB110(UDDAS).csv\n",
      "\tReading ../models/v3_lstm_v1//embedding_05250902_RegPCA110_new.csv\n",
      "\tReading ../models/v3_lstm_v1//embedding_07141201 Canon.csv\n",
      "\tReading ../models/v3_lstm_v1//embedding_05271102.csv\n",
      "\tReading ../models/v3_lstm_v1//embedding_05311001 HD.csv\n",
      "\tReading ../models/v3_lstm_v1//embedding_07050901_RegPCA110.csv\n",
      "\tReading ../models/v3_lstm_v1//embedding_06261101.csv\n",
      "\tReading ../models/v3_lstm_v1//embedding_07240804RegPca.csv\n",
      "\tReading ../models/v3_lstm_v1//embedding_07030901.csv\n",
      "\tReading ../models/v3_lstm_v1//embedding_07100601_RegPCA110_Part1.csv\n",
      "\tReading ../models/v3_lstm_v1//embedding_08070801_RegPCA110.csv\n",
      "\tReading ../models/v3_lstm_v1//embedding_06040602_RegPCA110.csv\n",
      "\tReading ../models/v3_lstm_v1//embedding_05131201 XR.csv\n",
      "\tReading ../models/v3_lstm_v1//embedding_081311N.csv\n",
      "\tReading ../models/v3_lstm_v1//embedding_07280801_RegPCA110.csv\n",
      "\tReading ../models/v3_lstm_v1//embedding_05200605_RegPCA110.csv\n",
      "\tReading ../models/v3_lstm_v1//embedding_06040601_RegPCA110.csv\n",
      "\tReading ../models/v3_lstm_v1//embedding_06091201 Canon.csv\n",
      "\tReading ../models/v3_lstm_v1//embedding_06210901_RegPCA110.csv\n",
      "\tReading ../models/v3_lstm_v1//embedding_05281103.csv\n",
      "\tReading ../models/v3_lstm_v1//embedding_06101002_RegPCA110.csv\n",
      "\tReading ../models/v3_lstm_v1//embedding_06021001_RegPCA110.csv\n",
      "\tReading ../models/v3_lstm_v1//embedding_07121002_RegPCA.csv\n",
      "\tReading ../models/v3_lstm_v1//embedding_06121102.csv\n",
      "\tReading ../models/v3_lstm_v1//embedding_06080903 1.csv\n",
      "\tReading ../models/v3_lstm_v1//embedding_081910N.csv\n",
      "\tReading ../models/v3_lstm_v1//embedding_07210902_RegPCA110.csv\n",
      "\tReading ../models/v3_lstm_v1//embedding_05251201 Canon.csv\n",
      "\tReading ../models/v3_lstm_v1//embedding_08020602_PCB110(UDDAS).csv\n",
      "\tReading ../models/v3_lstm_v1//embedding_05150801_RegPCA110.csv\n",
      "\tReading ../models/v3_lstm_v1//embedding_07210901_RegPCA110.csv\n",
      "\tReading ../models/v3_lstm_v1//embedding_06131001.csv\n",
      "\tReading ../models/v3_lstm_v1//embedding_05291201 Canon.csv\n",
      "\tReading ../models/v3_lstm_v1//embedding_06121101.csv\n",
      "\tReading ../models/v3_lstm_v1//embedding_08121201 Canon.csv\n",
      "\tReading ../models/v3_lstm_v1//embedding_07161201.Canon.csv\n",
      "\tReading ../models/v3_lstm_v1//embedding_07311201 Canon.csv\n",
      "\tReading ../models/v3_lstm_v1//embedding_062506Sb_RegPCA110.csv\n",
      "\tReading ../models/v3_lstm_v1//embedding_08031102.csv\n",
      "\tReading ../models/v3_lstm_v1//embedding_06100902.csv\n",
      "\tReading ../models/v3_lstm_v1//embedding_05190601_RegPCA110.csv\n",
      "\tReading ../models/v3_lstm_v1//embedding_08081201sb Canon.csv\n",
      "\tReading ../models/v3_lstm_v1//embedding_06091202 Canon.csv\n",
      "\tReading ../models/v3_lstm_v1//embedding_06040602_PCB110(UDDAS).csv\n",
      "\tReading ../models/v3_lstm_v1//embedding_07150901.csv\n",
      "\tReading ../models/v3_lstm_v1//embedding_08120802_RegPCA110.csv\n",
      "\tReading ../models/v3_lstm_v1//embedding_06030601_PCB110(UDDAS).csv\n",
      "\tReading ../models/v3_lstm_v1//embedding_07090602_RegPCA110.csv\n",
      "\tReading ../models/v3_lstm_v1//embedding_07240801_RegPCA110.csv\n",
      "\tReading ../models/v3_lstm_v1//embedding_06281002.csv\n",
      "\tReading ../models/v3_lstm_v1//embedding_08060802.csv\n",
      "\tReading ../models/v3_lstm_v1//embedding_05291002_RegPca.csv\n",
      "\tReading ../models/v3_lstm_v1//embedding_61009Night_PCB110(UDDAS).csv\n",
      "\tReading ../models/v3_lstm_v1//embedding_06121101C.csv\n",
      "\tReading ../models/v3_lstm_v1//embedding_060406Sb_RegPCA110.csv\n",
      "\tReading ../models/v3_lstm_v1//embedding_05161202 XR.csv\n",
      "\tReading ../models/v3_lstm_v1//embedding_05161201 XR.csv\n",
      "\tReading ../models/v3_lstm_v1//embedding_08121101C.csv\n",
      "\tReading ../models/v3_lstm_v1//embedding_08030601_RegPCA110.csv\n",
      "\tReading ../models/v3_lstm_v1//embedding_05111101.csv\n",
      "\tReading ../models/v3_lstm_v1//embedding_07091003_RegPCA110.csv\n",
      "\tReading ../models/v3_lstm_v1//embedding_06010802NEW_RegPCa110.csv\n",
      "\tReading ../models/v3_lstm_v1//embedding_05200601_RegPCA110.csv\n",
      "\tReading ../models/v3_lstm_v1//embedding_061608Sb_RegPCA110.csv\n",
      "\tReading ../models/v3_lstm_v1//embedding_07111003_RegPCA110.csv\n",
      "\tReading ../models/v3_lstm_v1//embedding_06141102C.csv\n",
      "\tReading ../models/v3_lstm_v1//embedding_07151202 Canon.csv\n",
      "\tReading ../models/v3_lstm_v1//embedding_06121201 XR.csv\n",
      "\tReading ../models/v3_lstm_v1//embedding_07121001_RegPCA110.csv\n",
      "\tReading ../models/v3_lstm_v1//embedding_07100601_RegPCA110 Part 2.csv\n",
      "\tReading ../models/v3_lstm_v1//embedding_08011201 Canon.csv\n",
      "\tReading ../models/v3_lstm_v1//embedding_06150802_RegPCA110.csv\n",
      "\tReading ../models/v3_lstm_v1//embedding_08111101C.csv\n",
      "\tReading ../models/v3_lstm_v1//embedding_07240601_PCB110(UDDAS).csv\n",
      "\tReading ../models/v3_lstm_v1//embedding_06150801_RegPCA110.csv\n",
      "\tReading ../models/v3_lstm_v1//embedding_07121202XRpartial.csv\n",
      "\tReading ../models/v3_lstm_v1//embedding_07141201 XR.csv\n",
      "\tReading ../models/v3_lstm_v1//embedding_060208Sb_RegPCA110.csv\n",
      "\tReading ../models/v3_lstm_v1//embedding_07141101C.csv\n",
      "\tReading ../models/v3_lstm_v1//embedding_06020801NEW_RegPCA110.csv\n",
      "\tReading ../models/v3_lstm_v1//embedding_05291001_RegPCA110.csv\n",
      "\tReading ../models/v3_lstm_v1//embedding_08081203 Canon.csv\n",
      "\tReading ../models/v3_lstm_v1//embedding_05261103C.csv\n",
      "\tReading ../models/v3_lstm_v1//embedding_06261001.csv\n",
      "\tReading ../models/v3_lstm_v1//embedding_07161104.csv\n",
      "\tReading ../models/v3_lstm_v1//embedding_08111201 Canon.csv\n",
      "\tReading ../models/v3_lstm_v1//embedding_060408Sb_RegPCA110.csv\n",
      "\tReading ../models/v3_lstm_v1//embedding_08151201 Canon.csv\n",
      "\tReading ../models/v3_lstm_v1//embedding_07110602_RegPCA110.csv\n",
      "\tReading ../models/v3_lstm_v1//embedding_08051001.csv\n",
      "\tReading ../models/v3_lstm_v1//embedding_06300801_RegPCA110.csv\n",
      "\tReading ../models/v3_lstm_v1//embedding_05161101.csv\n",
      "\tReading ../models/v3_lstm_v1//embedding_05281002_RegPCA110.csv\n",
      "\tReading ../models/v3_lstm_v1//embedding_07170901_RegPCA110.csv\n",
      "\tReading ../models/v3_lstm_v1//embedding_062808Sb_RegPCA110.csv\n",
      "\tReading ../models/v3_lstm_v1//embedding_07270801_RegPCA110.csv\n",
      "\tReading ../models/v3_lstm_v1//embedding_06170802_RegPCA110.csv\n",
      "\tReading ../models/v3_lstm_v1//embedding_07251201 Canon.csv\n",
      "\tReading ../models/v3_lstm_v1//embedding_06020601_RegPCA110.csv\n",
      "\tReading ../models/v3_lstm_v1//embedding_07250801_RegPCA110.csv\n",
      "\tReading ../models/v3_lstm_v1//embedding_060210N.csv\n",
      "\tReading ../models/v3_lstm_v1//embedding_06221201 XR.csv\n",
      "\tReading ../models/v3_lstm_v1//embedding_06091204 XR.csv\n",
      "\tReading ../models/v3_lstm_v1//embedding_06180901.csv\n",
      "\tReading ../models/v3_lstm_v1//embedding_08020601_PCB110(UDDAS).csv\n",
      "\tReading ../models/v3_lstm_v1//embedding_08201001.csv\n",
      "\tReading ../models/v3_lstm_v1//embedding_06141101C.csv\n",
      "\tReading ../models/v3_lstm_v1//embedding_080309Night_PCB110(UDDAS).csv\n",
      "\tReading ../models/v3_lstm_v1//embedding_061508Night_PCB110(UDDAS).csv\n",
      "\tReading ../models/v3_lstm_v1//embedding_080808Sb_RegPCA110.csv\n",
      "\tReading ../models/v3_lstm_v1//embedding_05281102.csv\n",
      "\tReading ../models/v3_lstm_v1//embedding_06180902_RegPCA110.csv\n",
      "\tReading ../models/v3_lstm_v1//embedding_07261201 Canon.csv\n",
      "\tReading ../models/v3_lstm_v1//embedding_08031101.csv\n",
      "\tReading ../models/v3_lstm_v1//embedding_07080602_RegPCA110.csv\n",
      "\tReading ../models/v3_lstm_v1//embedding_06061201 Canon.csv\n",
      "\tReading ../models/v3_lstm_v1//embedding_05091201 Canon.csv\n",
      "\tReading ../models/v3_lstm_v1//embedding_062206Sb_RegPCA110.csv\n",
      "\tReading ../models/v3_lstm_v1//embedding_06131103.csv\n",
      "\tReading ../models/v3_lstm_v1//embedding_07040902_RegPCA110.csv\n",
      "\tReading ../models/v3_lstm_v1//embedding_05240601_RegPCA110.csv\n",
      "\tReading ../models/v3_lstm_v1//embedding_06151101.csv\n",
      "\tReading ../models/v3_lstm_v1//embedding_080206Sb_PCB110(UDDAS).csv\n",
      "\tReading ../models/v3_lstm_v1//embedding_05291202 Canon.csv\n",
      "\tReading ../models/v3_lstm_v1//embedding_06101101C.csv\n",
      "\tReading ../models/v3_lstm_v1//embedding_05141203 XR.csv\n",
      "\tReading ../models/v3_lstm_v1//embedding_06140801_RegPCA110.csv\n",
      "\tReading ../models/v3_lstm_v1//embedding_082412sb Canon.csv\n",
      "\tReading ../models/v3_lstm_v1//embedding_05271101.csv\n",
      "\tReading ../models/v3_lstm_v1//embedding_07271202 Canon.csv\n",
      "\tReading ../models/v3_lstm_v1//embedding_06021001.csv\n",
      "\tReading ../models/v3_lstm_v1//embedding_07300801 2.csv\n",
      "\tReading ../models/v3_lstm_v1//embedding_06141001.csv\n",
      "\tReading ../models/v3_lstm_v1//embedding_05151203 XR.csv\n",
      "\tReading ../models/v3_lstm_v1//embedding_05261201 Canon.csv\n",
      "\tReading ../models/v3_lstm_v1//embedding_053008Sb_RegPCA110.csv\n",
      "\tReading ../models/v3_lstm_v1//embedding_06091101C.csv\n",
      "\tReading ../models/v3_lstm_v1//embedding_05141202 XR.csv\n",
      "\tReading ../models/v3_lstm_v1//embedding_06131201 XR.csv\n",
      "\tReading ../models/v3_lstm_v1//embedding_072506sb_RegPCA110.csv\n",
      "\tReading ../models/v3_lstm_v1//embedding_07100801_RegPCA110.csv\n",
      "\tReading ../models/v3_lstm_v1//embedding_070910Sb_RegPCA110.csv\n",
      "\tReading ../models/v3_lstm_v1//embedding_072508sb_RegPCA110.csv\n",
      "\tReading ../models/v3_lstm_v1//embedding_05311001_RegPca.csv\n",
      "\tReading ../models/v3_lstm_v1//embedding_08130901.csv\n",
      "\tReading ../models/v3_lstm_v1//embedding_08140901.csv\n",
      "\tReading ../models/v3_lstm_v1//embedding_06091202 XR.csv\n",
      "\tReading ../models/v3_lstm_v1//embedding_07040903_RegPCA110.csv\n",
      "\tReading ../models/v3_lstm_v1//embedding_06280601_RegPCA110.csv\n",
      "\tReading ../models/v3_lstm_v1//embedding_06101101.csv\n",
      "\tReading ../models/v3_lstm_v1//embedding_05271201 Canon.csv\n",
      "\tReading ../models/v3_lstm_v1//embedding_08020901.csv\n",
      "\tReading ../models/v3_lstm_v1//embedding_06101201 XR.csv\n",
      "\tReading ../models/v3_lstm_v1//embedding_06231201 XR.csv\n",
      "\tReading ../models/v3_lstm_v1//embedding_07160901 copy.csv\n",
      "\tReading ../models/v3_lstm_v1//embedding_05151202 XR.csv\n",
      "\tReading ../models/v3_lstm_v1//embedding_06091101.csv\n",
      "\tReading ../models/v3_lstm_v1//embedding_06271101.csv\n",
      "\tReading ../models/v3_lstm_v1//embedding_05200604_RegPCA110.csv\n",
      "\tReading ../models/v3_lstm_v1//embedding_052511sb.csv\n",
      "\tReading ../models/v3_lstm_v1//embedding_08071001.csv\n",
      "\tReading ../models/v3_lstm_v1//embedding_06261102.csv\n",
      "\tReading ../models/v3_lstm_v1//embedding_08071002_RegPCA110.csv\n",
      "\tReading ../models/v3_lstm_v1//embedding_06010801.csv\n",
      "\tReading ../models/v3_lstm_v1//embedding_07121201XR.csv\n",
      "\tReading ../models/v3_lstm_v1//embedding_06030801.csv\n",
      "\tReading ../models/v3_lstm_v1//embedding_08080801.csv\n",
      "\tReading ../models/v3_lstm_v1//embedding_07160901.csv\n",
      "\tReading ../models/v3_lstm_v1//embedding_06111101.csv\n",
      "\tReading ../models/v3_lstm_v1//embedding_08061002.csv\n",
      "\tReading ../models/v3_lstm_v1//embedding_08141101.csv\n",
      "\tReading ../models/v3_lstm_v1//embedding_05250901_RegPCA110.csv\n",
      "\tReading ../models/v3_lstm_v1//embedding_05161102.csv\n",
      "\tReading ../models/v3_lstm_v1//embedding_07261203 Canon.csv\n",
      "\tReading ../models/v3_lstm_v1//embedding_06190901.csv\n",
      "\tReading ../models/v3_lstm_v1//embedding_06100901_RegPCA110_Part2.csv\n",
      "\tReading ../models/v3_lstm_v1//embedding_05101201 XR.csv\n",
      "\tReading ../models/v3_lstm_v1//embedding_07081001_RegPCA.csv\n",
      "\tReading ../models/v3_lstm_v1//embedding_080409SB.csv\n",
      "\tReading ../models/v3_lstm_v1//embedding_08060801.csv\n",
      "\tReading ../models/v3_lstm_v1//embedding_08161101.csv\n",
      "\tReading ../models/v3_lstm_v1//embedding_06151001.csv\n",
      "\tReading ../models/v3_lstm_v1//embedding_05180802_RegPCA110.csv\n",
      "\tReading ../models/v3_lstm_v1//embedding_05270901_RegPCA110.csv\n",
      "\tReading ../models/v3_lstm_v1//embedding_070509Sb_RegPCA110.csv\n",
      "\tReading ../models/v3_lstm_v1//embedding_07261202 Canon.csv\n",
      "\tReading ../models/v3_lstm_v1//embedding_08170901.csv\n",
      "\tReading ../models/v3_lstm_v1//embedding_080309SB.csv\n",
      "\tReading ../models/v3_lstm_v1//embedding_07161101.csv\n",
      "\tReading ../models/v3_lstm_v1//embedding_07110801_RegPCA110.csv\n",
      "\tReading ../models/v3_lstm_v1//embedding_07110601_RegPCA110.csv\n",
      "\tReading ../models/v3_lstm_v1//embedding_08041001_RegPca 1.csv\n",
      "\tReading ../models/v3_lstm_v1//embedding_08081202 Canon.csv\n",
      "\tReading ../models/v3_lstm_v1//embedding_061211sbC.csv\n",
      "\tReading ../models/v3_lstm_v1//embedding_06160801_RegPCA110.csv\n",
      "\tReading ../models/v3_lstm_v1//embedding_07050601_RegPCA110.csv\n",
      "\tReading ../models/v3_lstm_v1//embedding_05301101.csv\n",
      "\tReading ../models/v3_lstm_v1//embedding_062906Sb_RegPCA110.csv\n",
      "\tReading ../models/v3_lstm_v1//embedding_07301101.csv\n",
      "\tReading ../models/v3_lstm_v1//embedding_07151202 XR.csv\n",
      "\tReading ../models/v3_lstm_v1//embedding_07230802_RegPCA110.csv\n",
      "\tReading ../models/v3_lstm_v1//embedding_06130801_RegPCA110.csv\n",
      "\tReading ../models/v3_lstm_v1//embedding_06231103.csv\n",
      "\tReading ../models/v3_lstm_v1//embedding_07240802_RegPCA110.csv\n",
      "\tReading ../models/v3_lstm_v1//embedding_07131001_RegPCA110.csv\n",
      "\tReading ../models/v3_lstm_v1//embedding_071311sb.csv\n",
      "\tReading ../models/v3_lstm_v1//embedding_072006sb_RegPCA110.csv\n",
      "\tReading ../models/v3_lstm_v1//embedding_08061001_regPCa.csv\n",
      "\tReading ../models/v3_lstm_v1//embedding_05200603_RegPCA110.csv\n",
      "\tReading ../models/v3_lstm_v1//embedding_072711sb.csv\n",
      "\tReading ../models/v3_lstm_v1//embedding_07020901_RegPCA110.csv\n",
      "\tReading ../models/v3_lstm_v1//embedding_06211201 XR.csv\n",
      "\tReading ../models/v3_lstm_v1//embedding_06121103.csv\n",
      "\tReading ../models/v3_lstm_v1//embedding_071611sb.csv\n",
      "\tReading ../models/v3_lstm_v1//embedding_05291103.csv\n",
      "\tReading ../models/v3_lstm_v1//embedding_05121101.csv\n",
      "\tReading ../models/v3_lstm_v1//embedding_06090901.csv\n",
      "\tReading ../models/v3_lstm_v1//embedding_06080904.csv\n",
      "\tReading ../models/v3_lstm_v1//embedding_09060601_RegPCA110.csv\n",
      "\tReading ../models/v3_lstm_v1//embedding_07040901.csv\n",
      "\tReading ../models/v3_lstm_v1//embedding_08190601_RegPCA110.csv\n",
      "\tReading ../models/v3_lstm_v1//embedding_071208sb_RegPCA110.csv\n",
      "\tReading ../models/v3_lstm_v1//embedding_08020601_RegPCA110.csv\n",
      "\tReading ../models/v3_lstm_v1//embedding_06291001.csv\n",
      "\tReading ../models/v3_lstm_v1//embedding_072808sb_RegPCA110.csv\n",
      "\tReading ../models/v3_lstm_v1//embedding_05311101.csv\n",
      "\tReading ../models/v3_lstm_v1//embedding_05131101.csv\n",
      "\tReading ../models/v3_lstm_v1//embedding_07090601_RegPCA110.csv\n",
      "\tReading ../models/v3_lstm_v1//embedding_05200801_RegPCA110.csv\n",
      "\tReading ../models/v3_lstm_v1//embedding_071108sb_RegPCA110.csv\n",
      "\tReading ../models/v3_lstm_v1//embedding_05261202 Canon.csv\n",
      "\tReading ../models/v3_lstm_v1//embedding_06200901 1.csv\n",
      "\tReading ../models/v3_lstm_v1//embedding_07131102.csv\n",
      "\tReading ../models/v3_lstm_v1//embedding_05141102.csv\n",
      "\tReading ../models/v3_lstm_v1//embedding_06210601_RegPCA110.csv\n",
      "\tReading ../models/v3_lstm_v1//embedding_08180601_RegPCA110.csv\n",
      "\tReading ../models/v3_lstm_v1//embedding_062811sbC.csv\n",
      "\tReading ../models/v3_lstm_v1//embedding_06030601_RegPCA110 1.csv\n",
      "\tReading ../models/v3_lstm_v1//embedding_07091004_RegPca.csv\n",
      "\tReading ../models/v3_lstm_v1//embedding_07151201 Canon.csv\n",
      "\tReading ../models/v3_lstm_v1//embedding_05161103.csv\n",
      "\tReading ../models/v3_lstm_v1//embedding_061308Sb_RegPCA110.csv\n",
      "\tReading ../models/v3_lstm_v1//embedding_06281102.csv\n",
      "\tReading ../models/v3_lstm_v1//embedding_07100804_RegPCA110.csv\n",
      "\tReading ../models/v3_lstm_v1//embedding_080710Sb_RegPCA110.csv\n",
      "\tReading ../models/v3_lstm_v1//embedding_060108Sb_RegPCA110.csv\n",
      "\tReading ../models/v3_lstm_v1//embedding_06281102C.csv\n",
      "\tReading ../models/v3_lstm_v1//embedding_080409Sb_RegPCA110.csv\n",
      "\tReading ../models/v3_lstm_v1//embedding_07100803_RegPCA110.csv\n",
      "\tReading ../models/v3_lstm_v1//embedding_061009Sb_RegPCA110.csv\n",
      "\tReading ../models/v3_lstm_v1//embedding_05141101.csv\n",
      "\tReading ../models/v3_lstm_v1//embedding_06091203 XR.csv\n",
      "\tReading ../models/v3_lstm_v1//embedding_08210601_RegPCA110.csv\n",
      "\tReading ../models/v3_lstm_v1//embedding_06100901_RegPCA110_Part1.csv\n",
      "\tReading ../models/v3_lstm_v1//embedding_06040601_PCB110(UDDAS).csv\n",
      "\tReading ../models/v3_lstm_v1//embedding_08050901.csv\n",
      "\tReading ../models/v3_lstm_v1//embedding_07150901_part2.csv\n",
      "\tReading ../models/v3_lstm_v1//embedding_05261102C.csv\n",
      "\tReading ../models/v3_lstm_v1//embedding_05111201 XR.csv\n",
      "\tReading ../models/v3_lstm_v1//embedding_06281101C.csv\n",
      "\tReading ../models/v3_lstm_v1//embedding_05281101.csv\n",
      "\tReading ../models/v3_lstm_v1//embedding_06290801_RegPCA110.csv\n",
      "\tReading ../models/v3_lstm_v1//embedding_08051001_RegPCA110.csv\n",
      "\tReading ../models/v3_lstm_v1//embedding_07131101.csv\n",
      "\tReading ../models/v3_lstm_v1//embedding_07290801.csv\n",
      "\tReading ../models/v3_lstm_v1//embedding_07161102.csv\n",
      "\tReading ../models/v3_lstm_v1//embedding_07131201 XR.csv\n",
      "\tReading ../models/v3_lstm_v1//embedding_05151201 XR.csv\n",
      "\tReading ../models/v3_lstm_v1//embedding_06170801_RegPCA110.csv\n",
      "\tReading ../models/v3_lstm_v1//embedding_06281001.csv\n",
      "\tReading ../models/v3_lstm_v1//embedding_07010801.csv\n",
      "\tReading ../models/v3_lstm_v1//embedding_08130902.csv\n",
      "\tReading ../models/v3_lstm_v1//embedding_07151101C.csv\n",
      "\tReading ../models/v3_lstm_v1//embedding_06081201 Canon.csv\n",
      "\tReading ../models/v3_lstm_v1//embedding_05281003_RegPCA110.csv\n",
      "\tReading ../models/v3_lstm_v1//embedding_07151102C.csv\n",
      "\tReading ../models/v3_lstm_v1//embedding_07250602_RegPCA110.csv\n",
      "\tReading ../models/v3_lstm_v1//embedding_06281001_RegPCA.csv\n",
      "\tReading ../models/v3_lstm_v1//embedding_08020603_PCB110(UDDAS).csv\n",
      "\tReading ../models/v3_lstm_v1//embedding_05141201 XR.csv\n",
      "\tReading ../models/v3_lstm_v1//embedding_062608Sb_RegPCA110.csv\n",
      "\tReading ../models/v3_lstm_v1//embedding_08120804_RegPCA110.csv\n",
      "\tReading ../models/v3_lstm_v1//embedding_06280801_RegPCA110.csv\n",
      "\tReading ../models/v3_lstm_v1//embedding_07250601_RegPCA110.csv\n",
      "\tReading ../models/v3_lstm_v1//embedding_07271201 Canon.csv\n",
      "\tReading ../models/v3_lstm_v1//embedding_08230601_RegPCA110.csv\n",
      "\tReading ../models/v3_lstm_v1//embedding_05261101C.csv\n",
      "\tReading ../models/v3_lstm_v1//embedding_060308Sb_RegPCA110.csv\n",
      "\tReading ../models/v3_lstm_v1//embedding_08011101.csv\n",
      "\tReading ../models/v3_lstm_v1//embedding_07100802_RegPCA110.csv\n",
      "\tReading ../models/v3_lstm_v1//embedding_06270601_PCB110(UDDAS).csv\n",
      "\tReading ../models/v3_lstm_v1//embedding_06111001.csv\n",
      "\tReading ../models/v3_lstm_v1//embedding_05141204 XR .csv\n",
      "\tReading ../models/v3_lstm_v1//embedding_06080903.csv\n",
      "\tReading ../models/v3_lstm_v1//embedding_07161103.csv\n",
      "\tReading ../models/v3_lstm_v1//embedding_08141101C.csv\n",
      "\tReading ../models/v3_lstm_v1//embedding_08120801_RegPCA110.csv\n",
      "\tReading ../models/v3_lstm_v1//embedding_073009Sb.csv\n",
      "\tReading ../models/v3_lstm_v1//embedding_07141102C.csv\n",
      "\tReading ../models/v3_lstm_v1//embedding_06131101.csv\n",
      "\tReading ../models/v3_lstm_v1//embedding_06080902.csv\n"
     ]
    }
   ],
   "source": [
    "re          = RegionExtractors(0)\n",
    "overlapping = []\n",
    "for file in tf.io.gfile.listdir('../models/v3_lstm_v1/'):        \n",
    "    if file.startswith(\"embedding\") and file.endswith(\".csv\"):\n",
    "        path = \"{}/{}\".format('../models/v3_lstm_v1/', file)\n",
    "        print(\"\\tReading {}\".format(path))\n",
    "        header                = [\"filename\", \"start\", \"stop\", \"type\", \"embedding\"]\n",
    "        df                    = pd.read_csv(path, sep=\"\\t\", header = None, names=header)\n",
    "        signals               = df[df['type'] >= 1]\n",
    "        signals['embedding']  = df['embedding'].apply(\n",
    "            lambda x: np.array([float(i) for i in x.split(\",\")]))\n",
    "        annotated             = [(row['start'], row['stop'], row['filename'], row['embedding'])\n",
    "                                 for _ , row in signals.iterrows()]\n",
    "        overlapping += groupBy(annotated, re.overlap)    "
   ]
  },
  {
   "cell_type": "code",
   "execution_count": 4,
   "metadata": {},
   "outputs": [],
   "source": [
    "pickle.dump(overlapping, open('overlapping.pkl', 'wb'))"
   ]
  },
  {
   "cell_type": "markdown",
   "metadata": {},
   "source": [
    "## Filtering size "
   ]
  },
  {
   "cell_type": "code",
   "execution_count": 3,
   "metadata": {},
   "outputs": [
    {
     "name": "stdout",
     "output_type": "stream",
     "text": [
      "{1, 2, 3, 4, 5, 6, 7, 8, 9, 10, 11, 12, 13, 14, 15, 16, 17, 18, 19, 20, 21, 22, 23, 24, 25, 26, 27, 28, 29, 30, 31, 32, 33, 34, 35, 36, 37, 38, 39, 40, 41, 42, 43, 44, 45, 46, 47, 48, 49, 50, 51, 52, 53, 54, 55, 56, 57, 58, 59, 60, 61, 62, 63, 64, 65, 66, 67, 68, 69, 70, 71, 72, 73, 74, 75, 76, 77, 78, 79, 80, 81, 82, 83, 84, 85, 86, 87, 88, 89, 90, 91, 92, 93, 94, 95, 96, 97, 98, 99, 100, 101, 102, 103, 104, 105, 106, 107, 108, 111, 112, 113, 114, 116, 118, 119, 120, 7801, 122, 123, 124, 128, 130, 131, 133, 137, 138, 139, 140, 142, 143, 144, 145, 152, 154, 159, 163, 165, 172, 175, 178, 183, 184, 188, 189, 195, 203, 219, 234, 236}\n",
      "44965 44965\n"
     ]
    }
   ],
   "source": [
    "min_th = 1\n",
    "max_th = 250\n",
    "overlapping = [x for x in pickle.load(open('overlapping.pkl', 'rb'))]\n",
    "lengths = [len(x[3]) for x in overlapping]\n",
    "print(set(lengths))\n",
    "overlapping = [x for x in overlapping if len(x[3]) > min_th and len(x[3]) < max_th]\n",
    "sequences = [np.stack(s) for _, _, _, s in overlapping]\n",
    "print(len(sequences), len(overlapping))"
   ]
  },
  {
   "cell_type": "markdown",
   "metadata": {},
   "source": [
    "## Bucket Result"
   ]
  },
  {
   "cell_type": "code",
   "execution_count": 5,
   "metadata": {},
   "outputs": [
    {
     "ename": "KeyboardInterrupt",
     "evalue": "",
     "output_type": "error",
     "traceback": [
      "\u001b[0;31m---------------------------------------------------------------------------\u001b[0m",
      "\u001b[0;31mKeyboardInterrupt\u001b[0m                         Traceback (most recent call last)",
      "\u001b[0;32m<ipython-input-5-4473c2532bb6>\u001b[0m in \u001b[0;36m<module>\u001b[0;34m\u001b[0m\n\u001b[0;32m----> 1\u001b[0;31m \u001b[0massignments\u001b[0m \u001b[0;34m=\u001b[0m \u001b[0msimilarity_bucketing\u001b[0m\u001b[0;34m(\u001b[0m\u001b[0msequences\u001b[0m\u001b[0;34m,\u001b[0m \u001b[0;36m4\u001b[0m\u001b[0;34m,\u001b[0m \u001b[0;36m25\u001b[0m\u001b[0;34m)\u001b[0m\u001b[0;34m\u001b[0m\u001b[0;34m\u001b[0m\u001b[0m\n\u001b[0m\u001b[1;32m      2\u001b[0m \u001b[0mclusters\u001b[0m \u001b[0;34m=\u001b[0m \u001b[0mmax\u001b[0m\u001b[0;34m(\u001b[0m\u001b[0massignments\u001b[0m\u001b[0;34m)\u001b[0m \u001b[0;34m+\u001b[0m \u001b[0;36m1\u001b[0m\u001b[0;34m\u001b[0m\u001b[0;34m\u001b[0m\u001b[0m\n\u001b[1;32m      3\u001b[0m \u001b[0mprint\u001b[0m\u001b[0;34m(\u001b[0m\u001b[0mclusters\u001b[0m\u001b[0;34m)\u001b[0m\u001b[0;34m\u001b[0m\u001b[0;34m\u001b[0m\u001b[0m\n",
      "\u001b[0;32mwdp-ds/ml_pipeline/sequence_hashing.pyx\u001b[0m in \u001b[0;36mml_pipeline.sequence_hashing.similarity_bucketing\u001b[0;34m()\u001b[0m\n",
      "\u001b[0;32mwdp-ds/ml_pipeline/sequence_hashing.pyx\u001b[0m in \u001b[0;36mml_pipeline.sequence_hashing.saxnd\u001b[0;34m()\u001b[0m\n",
      "\u001b[0;32m/opt/conda/lib/python3.7/site-packages/sklearn/cluster/_kmeans.py\u001b[0m in \u001b[0;36mfit_predict\u001b[0;34m(self, X, y, sample_weight)\u001b[0m\n\u001b[1;32m   1006\u001b[0m             \u001b[0mIndex\u001b[0m \u001b[0mof\u001b[0m \u001b[0mthe\u001b[0m \u001b[0mcluster\u001b[0m \u001b[0meach\u001b[0m \u001b[0msample\u001b[0m \u001b[0mbelongs\u001b[0m \u001b[0mto\u001b[0m\u001b[0;34m.\u001b[0m\u001b[0;34m\u001b[0m\u001b[0;34m\u001b[0m\u001b[0m\n\u001b[1;32m   1007\u001b[0m         \"\"\"\n\u001b[0;32m-> 1008\u001b[0;31m         \u001b[0;32mreturn\u001b[0m \u001b[0mself\u001b[0m\u001b[0;34m.\u001b[0m\u001b[0mfit\u001b[0m\u001b[0;34m(\u001b[0m\u001b[0mX\u001b[0m\u001b[0;34m,\u001b[0m \u001b[0msample_weight\u001b[0m\u001b[0;34m=\u001b[0m\u001b[0msample_weight\u001b[0m\u001b[0;34m)\u001b[0m\u001b[0;34m.\u001b[0m\u001b[0mlabels_\u001b[0m\u001b[0;34m\u001b[0m\u001b[0;34m\u001b[0m\u001b[0m\n\u001b[0m\u001b[1;32m   1009\u001b[0m \u001b[0;34m\u001b[0m\u001b[0m\n\u001b[1;32m   1010\u001b[0m     \u001b[0;32mdef\u001b[0m \u001b[0mfit_transform\u001b[0m\u001b[0;34m(\u001b[0m\u001b[0mself\u001b[0m\u001b[0;34m,\u001b[0m \u001b[0mX\u001b[0m\u001b[0;34m,\u001b[0m \u001b[0my\u001b[0m\u001b[0;34m=\u001b[0m\u001b[0;32mNone\u001b[0m\u001b[0;34m,\u001b[0m \u001b[0msample_weight\u001b[0m\u001b[0;34m=\u001b[0m\u001b[0;32mNone\u001b[0m\u001b[0;34m)\u001b[0m\u001b[0;34m:\u001b[0m\u001b[0;34m\u001b[0m\u001b[0;34m\u001b[0m\u001b[0m\n",
      "\u001b[0;32m/opt/conda/lib/python3.7/site-packages/sklearn/cluster/_kmeans.py\u001b[0m in \u001b[0;36mfit\u001b[0;34m(self, X, y, sample_weight)\u001b[0m\n\u001b[1;32m    935\u001b[0m                     \u001b[0mmax_iter\u001b[0m\u001b[0;34m=\u001b[0m\u001b[0mself\u001b[0m\u001b[0;34m.\u001b[0m\u001b[0mmax_iter\u001b[0m\u001b[0;34m,\u001b[0m \u001b[0minit\u001b[0m\u001b[0;34m=\u001b[0m\u001b[0minit\u001b[0m\u001b[0;34m,\u001b[0m \u001b[0mverbose\u001b[0m\u001b[0;34m=\u001b[0m\u001b[0mself\u001b[0m\u001b[0;34m.\u001b[0m\u001b[0mverbose\u001b[0m\u001b[0;34m,\u001b[0m\u001b[0;34m\u001b[0m\u001b[0;34m\u001b[0m\u001b[0m\n\u001b[1;32m    936\u001b[0m                     \u001b[0mprecompute_distances\u001b[0m\u001b[0;34m=\u001b[0m\u001b[0mprecompute_distances\u001b[0m\u001b[0;34m,\u001b[0m \u001b[0mtol\u001b[0m\u001b[0;34m=\u001b[0m\u001b[0mtol\u001b[0m\u001b[0;34m,\u001b[0m\u001b[0;34m\u001b[0m\u001b[0;34m\u001b[0m\u001b[0m\n\u001b[0;32m--> 937\u001b[0;31m                     x_squared_norms=x_squared_norms, random_state=seed)\n\u001b[0m\u001b[1;32m    938\u001b[0m                 \u001b[0;31m# determine if these results are the best so far\u001b[0m\u001b[0;34m\u001b[0m\u001b[0;34m\u001b[0m\u001b[0;34m\u001b[0m\u001b[0m\n\u001b[1;32m    939\u001b[0m                 \u001b[0;32mif\u001b[0m \u001b[0mbest_inertia\u001b[0m \u001b[0;32mis\u001b[0m \u001b[0;32mNone\u001b[0m \u001b[0;32mor\u001b[0m \u001b[0minertia\u001b[0m \u001b[0;34m<\u001b[0m \u001b[0mbest_inertia\u001b[0m\u001b[0;34m:\u001b[0m\u001b[0;34m\u001b[0m\u001b[0;34m\u001b[0m\u001b[0m\n",
      "\u001b[0;32m/opt/conda/lib/python3.7/site-packages/sklearn/cluster/_kmeans.py\u001b[0m in \u001b[0;36m_kmeans_single_elkan\u001b[0;34m(X, sample_weight, n_clusters, max_iter, init, verbose, x_squared_norms, random_state, tol, precompute_distances)\u001b[0m\n\u001b[1;32m    320\u001b[0m     centers, labels, n_iter = k_means_elkan(X, checked_sample_weight,\n\u001b[1;32m    321\u001b[0m                                             \u001b[0mn_clusters\u001b[0m\u001b[0;34m,\u001b[0m \u001b[0mcenters\u001b[0m\u001b[0;34m,\u001b[0m \u001b[0mtol\u001b[0m\u001b[0;34m=\u001b[0m\u001b[0mtol\u001b[0m\u001b[0;34m,\u001b[0m\u001b[0;34m\u001b[0m\u001b[0;34m\u001b[0m\u001b[0m\n\u001b[0;32m--> 322\u001b[0;31m                                             max_iter=max_iter, verbose=verbose)\n\u001b[0m\u001b[1;32m    323\u001b[0m     \u001b[0;32mif\u001b[0m \u001b[0msample_weight\u001b[0m \u001b[0;32mis\u001b[0m \u001b[0;32mNone\u001b[0m\u001b[0;34m:\u001b[0m\u001b[0;34m\u001b[0m\u001b[0;34m\u001b[0m\u001b[0m\n\u001b[1;32m    324\u001b[0m         \u001b[0minertia\u001b[0m \u001b[0;34m=\u001b[0m \u001b[0mnp\u001b[0m\u001b[0;34m.\u001b[0m\u001b[0msum\u001b[0m\u001b[0;34m(\u001b[0m\u001b[0;34m(\u001b[0m\u001b[0mX\u001b[0m \u001b[0;34m-\u001b[0m \u001b[0mcenters\u001b[0m\u001b[0;34m[\u001b[0m\u001b[0mlabels\u001b[0m\u001b[0;34m]\u001b[0m\u001b[0;34m)\u001b[0m \u001b[0;34m**\u001b[0m \u001b[0;36m2\u001b[0m\u001b[0;34m,\u001b[0m \u001b[0mdtype\u001b[0m\u001b[0;34m=\u001b[0m\u001b[0mnp\u001b[0m\u001b[0;34m.\u001b[0m\u001b[0mfloat64\u001b[0m\u001b[0;34m)\u001b[0m\u001b[0;34m\u001b[0m\u001b[0;34m\u001b[0m\u001b[0m\n",
      "\u001b[0;32msklearn/cluster/_k_means_elkan.pyx\u001b[0m in \u001b[0;36msklearn.cluster._k_means_elkan.k_means_elkan\u001b[0;34m()\u001b[0m\n",
      "\u001b[0;32m<__array_function__ internals>\u001b[0m in \u001b[0;36msum\u001b[0;34m(*args, **kwargs)\u001b[0m\n",
      "\u001b[0;31mKeyboardInterrupt\u001b[0m: "
     ]
    }
   ],
   "source": [
    "assignments = similarity_bucketing(sequences, 4, 25)\n",
    "clusters = max(assignments) + 1\n",
    "print(clusters)"
   ]
  },
  {
   "cell_type": "code",
   "execution_count": 5,
   "metadata": {},
   "outputs": [],
   "source": [
    "counts = np.zeros(clusters)\n",
    "for i in assignments:\n",
    "    counts[i] += 1"
   ]
  },
  {
   "cell_type": "code",
   "execution_count": 6,
   "metadata": {},
   "outputs": [
    {
     "name": "stdout",
     "output_type": "stream",
     "text": [
      "Percentile 5:  1.5500000000000007\n",
      "Percentile 10: 2.1000000000000014\n",
      "Percentile 50: 56.0\n",
      "Percentile 90: 541.5000000000002\n",
      "Percentile 95: 957.1999999999975\n"
     ]
    },
    {
     "data": {
      "image/png": "[encoded data removed]",
      "text/plain": [
       "<Figure size 432x288 with 1 Axes>"
      ]
     },
     "metadata": {
      "needs_background": "light"
     },
     "output_type": "display_data"
    }
   ],
   "source": [
    "print(\"Percentile 5:  {}\".format(np.percentile(counts, 5)))\n",
    "print(\"Percentile 10: {}\".format(np.percentile(counts, 10)))\n",
    "print(\"Percentile 50: {}\".format(np.percentile(counts, 50)))\n",
    "print(\"Percentile 90: {}\".format(np.percentile(counts, 90)))\n",
    "print(\"Percentile 95: {}\".format(np.percentile(counts, 95)))\n",
    "\n",
    "plt.plot(sorted(counts))\n",
    "plt.show()"
   ]
  },
  {
   "cell_type": "code",
   "execution_count": 7,
   "metadata": {},
   "outputs": [],
   "source": [
    "by_assignment = {}\n",
    "for o, s in zip(overlapping, assignments):\n",
    "    if s not in by_assignment:\n",
    "        by_assignment[s] = []\n",
    "    by_assignment[s].append(o)"
   ]
  },
  {
   "cell_type": "markdown",
   "metadata": {},
   "source": [
    "## Clustering In Each Bucket\n",
    "\n",
    "+ Make this faster using all processors\n",
    "+ https://wltrimbl.github.io/2014-06-10-spelman/intermediate/python/04-multiprocessing.html"
   ]
  },
  {
   "cell_type": "code",
   "execution_count": null,
   "metadata": {
    "scrolled": true
   },
   "outputs": [],
   "source": [
    "import warnings\n",
    "warnings.filterwarnings('ignore')\n",
    "\n",
    "\n",
    "import multiprocessing as mp\n",
    "\n",
    "\n",
    "def process(assignment, overlapping, max_dist = 1.0):\n",
    "    n = len(overlapping)\n",
    "    if n > 1:\n",
    "        max_len = int(max([len(e) for _, _, _, e in overlapping]) + 1)\n",
    "        dtw = DTW(max_len)\n",
    "        dist = np.zeros((n, n))\n",
    "        for i, (start_x, stop_x, f_x, embedding_x) in enumerate(overlapping):\n",
    "            if i % 250 == 0 and i > 0:\n",
    "                print(\"\\t\\t Processing: {} {}\".format(i, len(overlapping)))\n",
    "            for j, (start_y, stop_y, f_y, embedding_y) in enumerate(overlapping):\n",
    "                if i < j:\n",
    "                    x = np.array([embedding_x]).reshape(len(embedding_x), 256)\n",
    "                    y = np.array([embedding_y]).reshape(len(embedding_y), 256)\n",
    "                    d, _       = dtw.align(x, y) \n",
    "                    dist[i, j] = d / (len(x) * len(y))\n",
    "                    dist[j, i] = d / (len(x) * len(y))\n",
    "        print(\"\\t {} {} {} {} {} {} \".format(assignment, n, np.percentile(dist.flatten(), 5), np.percentile(dist.flatten(), 95), np.mean(dist), np.std(dist)))\n",
    "        agg = AgglomerativeClustering(n_clusters = None, \n",
    "                                      distance_threshold = max_dist, linkage = 'average', affinity='precomputed')\n",
    "        clustering = agg.fit_predict(dist)\n",
    "        return clustering, overlapping\n",
    "    return [], []\n",
    "\n",
    "\n",
    "pool = mp.Pool(processes=10)\n",
    "results = [pool.apply_async(process, args=(assignment, overlapping, 1.0)) for assignment, overlapping in by_assignment.items()]\n",
    "outputs = [p.get() for p in results]\n",
    "\n",
    "\n",
    "with open('clustering.csv', \"w\") as fp:\n",
    "    cur = 0\n",
    "    for clustering, overlapping in outputs:\n",
    "        if len(clustering) > 0:\n",
    "            for c, (start, stop, f, _) in zip(clustering, overlapping):\n",
    "                fp.write(\"{},{},{},{}\\n\".format(start, stop, f, c + cur))\n",
    "            for c in range(len(set(clustering))):\n",
    "                cur += 1"
   ]
  },
  {
   "cell_type": "code",
   "execution_count": 3,
   "metadata": {},
   "outputs": [],
   "source": [
    "df = pd.read_csv('clustering.csv', names=['start', 'stop', 'file', 'clusters'], header = None)"
   ]
  },
  {
   "cell_type": "code",
   "execution_count": 4,
   "metadata": {},
   "outputs": [
    {
     "name": "stdout",
     "output_type": "stream",
     "text": [
      "Clusters: 16447\n"
     ]
    },
    {
     "data": {
      "image/png": "[encoded data removed]",
      "text/plain": [
       "<Figure size 432x288 with 1 Axes>"
      ]
     },
     "metadata": {
      "needs_background": "light"
     },
     "output_type": "display_data"
    }
   ],
   "source": [
    "grouped_by_filename = {}\n",
    "# instance id\n",
    "clusters = []\n",
    "for i, row in df.iterrows():\n",
    "    start = row[0]\n",
    "    stop = row[1]\n",
    "    f = row[2]\n",
    "    c = row[3]\n",
    "    \n",
    "    if f not in grouped_by_filename:\n",
    "        grouped_by_filename[f] = []\n",
    "    grouped_by_filename[f].append((start, stop, c, i))\n",
    "    clusters.append(c)\n",
    "    \n",
    "k = max(clusters) + 1\n",
    "instances_clusters = np.zeros(k)\n",
    "for c in clusters:\n",
    "    instances_clusters[c] += 1\n",
    "    \n",
    "print(\"Clusters: {}\".format(k))\n",
    "plt.plot(instances_clusters)\n",
    "plt.show()"
   ]
  },
  {
   "cell_type": "code",
   "execution_count": 5,
   "metadata": {
    "scrolled": true
   },
   "outputs": [
    {
     "name": "stdout",
     "output_type": "stream",
     "text": [
      "Audio result for cluster: 177 22.0\n",
      "Audio result for cluster: 179 35.0\n",
      "Audio result for cluster: 408 13.0\n",
      "Audio result for cluster: 475 11.0\n",
      "Audio result for cluster: 477 96.0\n",
      "Audio result for cluster: 614 12.0\n",
      "Audio result for cluster: 736 140.0\n",
      "Audio result for cluster: 737 11.0\n",
      "Audio result for cluster: 746 22.0\n",
      "Audio result for cluster: 1041 13.0\n",
      "Audio result for cluster: 1042 87.0\n",
      "Audio result for cluster: 1233 21.0\n",
      "Audio result for cluster: 1614 142.0\n",
      "Audio result for cluster: 1624 12.0\n",
      "Audio result for cluster: 1781 14.0\n",
      "Audio result for cluster: 1863 87.0\n",
      "Audio result for cluster: 2131 110.0\n",
      "Audio result for cluster: 2435 390.0\n",
      "Audio result for cluster: 2437 12.0\n",
      "Audio result for cluster: 2444 19.0\n"
     ]
    },
    {
     "ename": "NameError",
     "evalue": "name 'println' is not defined",
     "output_type": "error",
     "traceback": [
      "\u001b[0;31m---------------------------------------------------------------------------\u001b[0m",
      "\u001b[0;31mRemoteTraceback\u001b[0m                           Traceback (most recent call last)",
      "\u001b[0;31mRemoteTraceback\u001b[0m: \n\"\"\"\nTraceback (most recent call last):\n  File \"/opt/conda/lib/python3.7/multiprocessing/pool.py\", line 121, in worker\n    result = (True, func(*args, **kwds))\n  File \"<ipython-input-5-1e4b89ece98e>\", line 16, in write_audio\n    println(\"Done: {}\".format(cluster_id))\nNameError: name 'println' is not defined\n\"\"\"",
      "\nThe above exception was the direct cause of the following exception:\n",
      "\u001b[0;31mNameError\u001b[0m                                 Traceback (most recent call last)",
      "\u001b[0;32m<ipython-input-5-1e4b89ece98e>\u001b[0m in \u001b[0;36m<module>\u001b[0;34m\u001b[0m\n\u001b[1;32m     17\u001b[0m \u001b[0mpool\u001b[0m \u001b[0;34m=\u001b[0m \u001b[0mmp\u001b[0m\u001b[0;34m.\u001b[0m\u001b[0mPool\u001b[0m\u001b[0;34m(\u001b[0m\u001b[0mprocesses\u001b[0m\u001b[0;34m=\u001b[0m\u001b[0;36m10\u001b[0m\u001b[0;34m)\u001b[0m\u001b[0;34m\u001b[0m\u001b[0;34m\u001b[0m\u001b[0m\n\u001b[1;32m     18\u001b[0m \u001b[0mresults\u001b[0m \u001b[0;34m=\u001b[0m \u001b[0;34m[\u001b[0m\u001b[0mpool\u001b[0m\u001b[0;34m.\u001b[0m\u001b[0mapply_async\u001b[0m\u001b[0;34m(\u001b[0m\u001b[0mwrite_audio\u001b[0m\u001b[0;34m,\u001b[0m \u001b[0margs\u001b[0m\u001b[0;34m=\u001b[0m\u001b[0;34m(\u001b[0m\u001b[0mcluster_id\u001b[0m\u001b[0;34m,\u001b[0m \u001b[0minstances_clusters\u001b[0m\u001b[0;34m,\u001b[0m \u001b[0mgrouped_by_filename\u001b[0m\u001b[0;34m,\u001b[0m \u001b[0;36m10\u001b[0m\u001b[0;34m)\u001b[0m\u001b[0;34m)\u001b[0m \u001b[0;32mfor\u001b[0m \u001b[0mcluster_id\u001b[0m \u001b[0;32min\u001b[0m \u001b[0mrange\u001b[0m\u001b[0;34m(\u001b[0m\u001b[0;36m0\u001b[0m\u001b[0;34m,\u001b[0m \u001b[0mk\u001b[0m\u001b[0;34m)\u001b[0m\u001b[0;34m]\u001b[0m\u001b[0;34m\u001b[0m\u001b[0;34m\u001b[0m\u001b[0m\n\u001b[0;32m---> 19\u001b[0;31m \u001b[0moutputs\u001b[0m \u001b[0;34m=\u001b[0m \u001b[0;34m[\u001b[0m\u001b[0mp\u001b[0m\u001b[0;34m.\u001b[0m\u001b[0mget\u001b[0m\u001b[0;34m(\u001b[0m\u001b[0;34m)\u001b[0m \u001b[0;32mfor\u001b[0m \u001b[0mp\u001b[0m \u001b[0;32min\u001b[0m \u001b[0mresults\u001b[0m\u001b[0;34m]\u001b[0m\u001b[0;34m\u001b[0m\u001b[0;34m\u001b[0m\u001b[0m\n\u001b[0m",
      "\u001b[0;32m<ipython-input-5-1e4b89ece98e>\u001b[0m in \u001b[0;36m<listcomp>\u001b[0;34m(.0)\u001b[0m\n\u001b[1;32m     17\u001b[0m \u001b[0mpool\u001b[0m \u001b[0;34m=\u001b[0m \u001b[0mmp\u001b[0m\u001b[0;34m.\u001b[0m\u001b[0mPool\u001b[0m\u001b[0;34m(\u001b[0m\u001b[0mprocesses\u001b[0m\u001b[0;34m=\u001b[0m\u001b[0;36m10\u001b[0m\u001b[0;34m)\u001b[0m\u001b[0;34m\u001b[0m\u001b[0;34m\u001b[0m\u001b[0m\n\u001b[1;32m     18\u001b[0m \u001b[0mresults\u001b[0m \u001b[0;34m=\u001b[0m \u001b[0;34m[\u001b[0m\u001b[0mpool\u001b[0m\u001b[0;34m.\u001b[0m\u001b[0mapply_async\u001b[0m\u001b[0;34m(\u001b[0m\u001b[0mwrite_audio\u001b[0m\u001b[0;34m,\u001b[0m \u001b[0margs\u001b[0m\u001b[0;34m=\u001b[0m\u001b[0;34m(\u001b[0m\u001b[0mcluster_id\u001b[0m\u001b[0;34m,\u001b[0m \u001b[0minstances_clusters\u001b[0m\u001b[0;34m,\u001b[0m \u001b[0mgrouped_by_filename\u001b[0m\u001b[0;34m,\u001b[0m \u001b[0;36m10\u001b[0m\u001b[0;34m)\u001b[0m\u001b[0;34m)\u001b[0m \u001b[0;32mfor\u001b[0m \u001b[0mcluster_id\u001b[0m \u001b[0;32min\u001b[0m \u001b[0mrange\u001b[0m\u001b[0;34m(\u001b[0m\u001b[0;36m0\u001b[0m\u001b[0;34m,\u001b[0m \u001b[0mk\u001b[0m\u001b[0;34m)\u001b[0m\u001b[0;34m]\u001b[0m\u001b[0;34m\u001b[0m\u001b[0;34m\u001b[0m\u001b[0m\n\u001b[0;32m---> 19\u001b[0;31m \u001b[0moutputs\u001b[0m \u001b[0;34m=\u001b[0m \u001b[0;34m[\u001b[0m\u001b[0mp\u001b[0m\u001b[0;34m.\u001b[0m\u001b[0mget\u001b[0m\u001b[0;34m(\u001b[0m\u001b[0;34m)\u001b[0m \u001b[0;32mfor\u001b[0m \u001b[0mp\u001b[0m \u001b[0;32min\u001b[0m \u001b[0mresults\u001b[0m\u001b[0;34m]\u001b[0m\u001b[0;34m\u001b[0m\u001b[0;34m\u001b[0m\u001b[0m\n\u001b[0m",
      "\u001b[0;32m/opt/conda/lib/python3.7/multiprocessing/pool.py\u001b[0m in \u001b[0;36mget\u001b[0;34m(self, timeout)\u001b[0m\n\u001b[1;32m    655\u001b[0m             \u001b[0;32mreturn\u001b[0m \u001b[0mself\u001b[0m\u001b[0;34m.\u001b[0m\u001b[0m_value\u001b[0m\u001b[0;34m\u001b[0m\u001b[0;34m\u001b[0m\u001b[0m\n\u001b[1;32m    656\u001b[0m         \u001b[0;32melse\u001b[0m\u001b[0;34m:\u001b[0m\u001b[0;34m\u001b[0m\u001b[0;34m\u001b[0m\u001b[0m\n\u001b[0;32m--> 657\u001b[0;31m             \u001b[0;32mraise\u001b[0m \u001b[0mself\u001b[0m\u001b[0;34m.\u001b[0m\u001b[0m_value\u001b[0m\u001b[0;34m\u001b[0m\u001b[0;34m\u001b[0m\u001b[0m\n\u001b[0m\u001b[1;32m    658\u001b[0m \u001b[0;34m\u001b[0m\u001b[0m\n\u001b[1;32m    659\u001b[0m     \u001b[0;32mdef\u001b[0m \u001b[0m_set\u001b[0m\u001b[0;34m(\u001b[0m\u001b[0mself\u001b[0m\u001b[0;34m,\u001b[0m \u001b[0mi\u001b[0m\u001b[0;34m,\u001b[0m \u001b[0mobj\u001b[0m\u001b[0;34m)\u001b[0m\u001b[0;34m:\u001b[0m\u001b[0;34m\u001b[0m\u001b[0;34m\u001b[0m\u001b[0m\n",
      "\u001b[0;31mNameError\u001b[0m: name 'println' is not defined"
     ]
    },
    {
     "name": "stdout",
     "output_type": "stream",
     "text": [
      "Audio result for cluster: 2842 90.0\n",
      "Audio result for cluster: 2997 76.0\n",
      "Audio result for cluster: 3131 141.0\n",
      "Audio result for cluster: 3135 15.0\n",
      "Audio result for cluster: 3312 123.0\n",
      "Audio result for cluster: 3316 11.0\n",
      "Audio result for cluster: 3872 13.0\n",
      "Audio result for cluster: 4006 11.0\n",
      "Audio result for cluster: 4100 12.0\n",
      "Audio result for cluster: 4114 137.0\n",
      "Audio result for cluster: 4434 202.0\n",
      "Audio result for cluster: 4461 12.0\n",
      "Audio result for cluster: 4482 17.0\n",
      "Audio result for cluster: 4843 54.0\n",
      "Audio result for cluster: 5072 15.0\n",
      "Audio result for cluster: 5079 165.0\n",
      "Audio result for cluster: 5274 17.0\n",
      "Audio result for cluster: 5374 15.0\n",
      "Audio result for cluster: 5459 15.0\n",
      "Audio result for cluster: 5466 141.0\n",
      "Audio result for cluster: 5666 57.0\n",
      "Audio result for cluster: 5665 18.0\n",
      "Audio result for cluster: 5818 20.0\n",
      "Audio result for cluster: 6140 11.0\n",
      "Audio result for cluster: 6225 69.0\n",
      "Audio result for cluster: 6709 24.0\n",
      "Audio result for cluster: 6808 11.0\n",
      "Audio result for cluster: 7067 12.0\n",
      "Audio result for cluster: 7275 22.0\n",
      "Audio result for cluster: 7446 41.0\n",
      "Audio result for cluster: 8211 124.0\n",
      "Audio result for cluster: 8233 17.0\n",
      "Audio result for cluster: 8657 12.0\n",
      "Audio result for cluster: 9339 17.0\n",
      "Audio result for cluster: 9739 20.0\n",
      "Audio result for cluster: 10484 13.0\n",
      "Audio result for cluster: 10485 11.0\n",
      "Audio result for cluster: 11289 17.0\n",
      "Audio result for cluster: 11500 20.0\n",
      "Audio result for cluster: 11629 13.0\n",
      "Audio result for cluster: 13598 28.0\n",
      "Audio result for cluster: 13599 16.0\n"
     ]
    }
   ],
   "source": [
    "import multiprocessing as mp\n",
    "\n",
    "out = \"../models/v2_lstm_v8\"\n",
    "\n",
    "def write_audio(cluster_id, instances_clusters, grouped_by_filename, min_support):\n",
    "    if instances_clusters[cluster_id] > min_support:\n",
    "        print(\"Audio result for cluster: {} {}\".format(cluster_id, instances_clusters[cluster_id]))\n",
    "        audio_bank = AudioSnippetCollection(\"{}/seq_cluster_{}.wav\".format(out, cluster_id))\n",
    "        for f, regions in grouped_by_filename.items():\n",
    "            snippets        = [(start, stop) for start, stop, _, _ in regions]\n",
    "            cluster_snippet = [c for _, _, c,_ in regions] \n",
    "            for audio_snippet, c in zip(audio_regions(f, snippets), cluster_snippet):\n",
    "                if c == cluster_id:\n",
    "                    audio_bank.write(audio_snippet)\n",
    "        audio_bank.close()\n",
    "        print(\"Done: {}\".format(cluster_id))\n",
    "        \n",
    "pool = mp.Pool(processes=10)\n",
    "results = [pool.apply_async(write_audio, args=(cluster_id, instances_clusters, grouped_by_filename, 10)) for cluster_id in range(0, k)]\n",
    "outputs = [p.get() for p in results]"
   ]
  },
  {
   "cell_type": "code",
   "execution_count": null,
   "metadata": {},
   "outputs": [],
   "source": [
    "for cluster_id in range(0, k):\n",
    "    for f, regions in grouped_by_filename.items():\n",
    "        filename = f.split(\".\")[0].split(\"/\")[-1]\n",
    "        log_path = \"{}/seq_clustering_log_{}.csv\".format(out, filename)\n",
    "        #instance id\n",
    "        with open(log_path, \"a+\") as fp:\n",
    "            for start, stop, c, i in regions:\n",
    "                if c == cluster_id:\n",
    "                    fp.write(\"{},{},{},{},{}\\n\".format(start, stop, f, c, i))                        "
   ]
  }
 ],
 "metadata": {
  "kernelspec": {
   "display_name": "Python 3",
   "language": "python",
   "name": "python3"
  },
  "language_info": {
   "codemirror_mode": {
    "name": "ipython",
    "version": 3
   },
   "file_extension": ".py",
   "mimetype": "text/x-python",
   "name": "python",
   "nbconvert_exporter": "python",
   "pygments_lexer": "ipython3",
   "version": "3.7.6"
  }
 },
 "nbformat": 4,
 "nbformat_minor": 4
}
