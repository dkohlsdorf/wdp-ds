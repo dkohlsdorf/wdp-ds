{
 "cells": [
  {
   "cell_type": "code",
   "execution_count": 36,
   "metadata": {},
   "outputs": [
    {
     "data": {
      "text/plain": [
       "<module 'ml_pipeline' from '../ml_pipeline/__init__.py'>"
      ]
     },
     "execution_count": 36,
     "metadata": {},
     "output_type": "execute_result"
    }
   ],
   "source": [
    "import yaml\n",
    "import sys\n",
    "import os \n",
    "import tensorflow as tf\n",
    "sys.path.append('..')\n",
    "import pickle\n",
    "from sklearn.cluster import AgglomerativeClustering\n",
    "\n",
    "import imp\n",
    "import ml_pipeline\n",
    "imp.reload(ml_pipeline)"
   ]
  },
  {
   "cell_type": "code",
   "execution_count": 30,
   "metadata": {},
   "outputs": [],
   "source": [
    "from ml_pipeline.audio import *\n",
    "from ml_pipeline.dtw import * \n",
    "from ml_pipeline.sequence_hashing import *\n",
    "from tensorflow.keras.models import *\n",
    "from ml_pipeline.structured import * "
   ]
  },
  {
   "cell_type": "code",
   "execution_count": null,
   "metadata": {
    "scrolled": true
   },
   "outputs": [],
   "source": [
    "re          = RegionExtractors(0)\n",
    "overlapping = []\n",
    "for file in tf.io.gfile.listdir('../models/v2_lstm_v8/'):        \n",
    "    if file.startswith(\"embedding\") and file.endswith(\".csv\"):\n",
    "        path = \"{}/{}\".format('../models/v2_lstm_v8/', file)\n",
    "        print(\"\\tReading {}\".format(path))\n",
    "        header                = [\"filename\", \"start\", \"stop\", \"type\", \"embedding\"]\n",
    "        df                    = pd.read_csv(path, sep=\"\\t\", header = None, names=header)\n",
    "        signals               = df[df['type'] >= 1]\n",
    "        signals['embedding']  = df['embedding'].apply(\n",
    "            lambda x: np.array([float(i) for i in x.split(\",\")]))\n",
    "        annotated             = [(row['start'], row['stop'], row['filename'], row['embedding'])\n",
    "                                 for _ , row in signals.iterrows()]\n",
    "        overlapping += groupBy(annotated, re.overlap)    "
   ]
  },
  {
   "cell_type": "code",
   "execution_count": null,
   "metadata": {},
   "outputs": [],
   "source": [
    "pickle.dump(overlapping, open('overlapping.pkl', 'wb'))"
   ]
  },
  {
   "cell_type": "code",
   "execution_count": 11,
   "metadata": {},
   "outputs": [
    {
     "name": "stdout",
     "output_type": "stream",
     "text": [
      "20682 20682\n"
     ]
    }
   ],
   "source": [
    "min_th = 4\n",
    "max_th = 250\n",
    "overlapping = [x for x in pickle.load(open('overlapping.pkl', 'rb')) if len(x[3]) > min_th and len(x[3]) < max_th]\n",
    "sequences = [np.stack(s) for _, _, _, s in overlapping]\n",
    "print(len(sequences), len(overlapping))"
   ]
  },
  {
   "cell_type": "code",
   "execution_count": 12,
   "metadata": {},
   "outputs": [
    {
     "name": "stdout",
     "output_type": "stream",
     "text": [
      "611\n"
     ]
    }
   ],
   "source": [
    "assignments = similarity_bucketing(sequences, 4, 5)\n",
    "clusters = max(assignments) + 1\n",
    "print(clusters)"
   ]
  },
  {
   "cell_type": "code",
   "execution_count": 13,
   "metadata": {},
   "outputs": [],
   "source": [
    "counts = np.zeros(clusters)\n",
    "for i in assignments:\n",
    "    counts[i] += 1"
   ]
  },
  {
   "cell_type": "code",
   "execution_count": 24,
   "metadata": {},
   "outputs": [
    {
     "name": "stdout",
     "output_type": "stream",
     "text": [
      "Percentile 5:  2.0\n",
      "Percentile 10: 3.0\n",
      "Percentile 50: 13.0\n",
      "Percentile 90: 80.0\n",
      "Percentile 95: 124.5\n"
     ]
    },
    {
     "data": {
      "image/png": "[encoded data removed]",
      "text/plain": [
       "<Figure size 432x288 with 1 Axes>"
      ]
     },
     "metadata": {
      "needs_background": "light"
     },
     "output_type": "display_data"
    }
   ],
   "source": [
    "import matplotlib.pyplot as plt\n",
    "\n",
    "print(\"Percentile 5:  {}\".format(np.percentile(counts, 5)))\n",
    "print(\"Percentile 10: {}\".format(np.percentile(counts, 10)))\n",
    "print(\"Percentile 50: {}\".format(np.percentile(counts, 50)))\n",
    "print(\"Percentile 90: {}\".format(np.percentile(counts, 90)))\n",
    "print(\"Percentile 95: {}\".format(np.percentile(counts, 95)))\n",
    "\n",
    "plt.plot(sorted(counts))\n",
    "plt.show()"
   ]
  },
  {
   "cell_type": "code",
   "execution_count": 26,
   "metadata": {},
   "outputs": [],
   "source": [
    "by_assignment = {}\n",
    "for o, s in zip(overlapping, assignments):\n",
    "    if s not in by_assignment:\n",
    "        by_assignment[s] = []\n",
    "    by_assignment[s].append(o)"
   ]
  },
  {
   "cell_type": "code",
   "execution_count": null,
   "metadata": {
    "scrolled": true
   },
   "outputs": [
    {
     "name": "stdout",
     "output_type": "stream",
     "text": [
      "\t found 8 signals\n",
      "\t found 86 signals\n"
     ]
    },
    {
     "name": "stderr",
     "output_type": "stream",
     "text": [
      "/opt/conda/lib/python3.7/site-packages/ipykernel_launcher.py:15: RuntimeWarning: invalid value encountered in multiply\n",
      "  from ipykernel import kernelapp as app\n",
      "/opt/conda/lib/python3.7/site-packages/ipykernel_launcher.py:15: RuntimeWarning: invalid value encountered in multiply\n",
      "  from ipykernel import kernelapp as app\n"
     ]
    },
    {
     "name": "stdout",
     "output_type": "stream",
     "text": [
      "\t found 280 signals\n"
     ]
    },
    {
     "name": "stderr",
     "output_type": "stream",
     "text": [
      "/opt/conda/lib/python3.7/site-packages/ipykernel_launcher.py:15: RuntimeWarning: invalid value encountered in multiply\n",
      "  from ipykernel import kernelapp as app\n"
     ]
    }
   ],
   "source": [
    "with open('clustering.csv', \"w\") as fp:\n",
    "    max_dist = 5.0\n",
    "    cur = 0\n",
    "    for i, overlapping in by_assignment.items():\n",
    "        max_len = int(max([len(e) for _, _, _, e in overlapping]) + 1)\n",
    "        dtw = DTW(max_len)\n",
    "        n = len(overlapping)\n",
    "        print(\"\\t found {} signals\".format(n))\n",
    "        dist = np.zeros((n, n))\n",
    "        for i, (start_x, stop_x, f_x, embedding_x) in enumerate(overlapping):\n",
    "            for j, (start_y, stop_y, f_y, embedding_y) in enumerate(overlapping):\n",
    "                if i < j:\n",
    "                    x = np.array([embedding_x]).reshape(len(embedding_x), 256)\n",
    "                    y = np.array([embedding_y]).reshape(len(embedding_y), 256)\n",
    "                    d, _       = dtw.align(x, y) \n",
    "                    dist[i, j] = d / (len(x) * len(y))\n",
    "                    dist[j, i] = d / (len(x) * len(y))\n",
    "        agg = AgglomerativeClustering(n_clusters = None, distance_threshold = 5.0, linkage = 'average', affinity='precomputed')\n",
    "        clustering = agg.fit_predict(dist)\n",
    "        for c, (start, stop, f, _) in zip(clustering, overlapping):\n",
    "            fp.write(\"{},{},{},{}\\n\".format(start, stop, f, c + cur))\n",
    "        for c in range(len(set(clustering))):\n",
    "            cur += 1"
   ]
  },
  {
   "cell_type": "code",
   "execution_count": null,
   "metadata": {},
   "outputs": [],
   "source": []
  },
  {
   "cell_type": "code",
   "execution_count": null,
   "metadata": {},
   "outputs": [],
   "source": [
    "grouped_by_filename = {}\n",
    "# instance id\n",
    "for i, (start, stop, f, c) in enumerate(clusters):\n",
    "    if f not in grouped_by_filename:\n",
    "        grouped_by_filename[f] = []\n",
    "    grouped_by_filename[f].append((start, stop, c, i))\n",
    "\n",
    "k = max([c for _, _, _, c in clusters]) + 1\n",
    "instances_clusters = np.zeros(k)\n",
    "for _, _, _, c in clusters:\n",
    "    instances_clusters[c] += 1\n",
    "\n",
    "for cluster_id in range(0, k):\n",
    "    if instances_clusters[cluster_id] > min_support:\n",
    "        audio_bank = AudioSnippetCollection(\"{}/seq_cluster_{}.wav\".format(out, cluster_id))\n",
    "        for f, regions in grouped_by_filename.items():\n",
    "            filename = f.split(\".\")[0].split(\"/\")[-1]\n",
    "            log_path = \"{}/seq_clustering_log_{}.csv\".format(out, filename)\n",
    "            #instance id\n",
    "            with open(log_path, \"a+\") as fp:\n",
    "                for start, stop, c, i in regions:\n",
    "                    if c == cluster_id:\n",
    "                        fp.write(\"{},{},{},{},{}\\n\".format(start, stop, f, c, i))                \n",
    "            snippets        = [(start, stop, f) for start, stop, _, _ in regions]\n",
    "            cluster_snippet = [c for _, _, c,_ in regions] \n",
    "            for audio_snippet, c in zip(audio_snippets(snippets), cluster_snippet):\n",
    "                if c == cluster_id:\n",
    "                    audio_bank.write(audio_snippet)\n",
    "        audio_bank.close()\n"
   ]
  }
 ],
 "metadata": {
  "kernelspec": {
   "display_name": "Python 3",
   "language": "python",
   "name": "python3"
  },
  "language_info": {
   "codemirror_mode": {
    "name": "ipython",
    "version": 3
   },
   "file_extension": ".py",
   "mimetype": "text/x-python",
   "name": "python",
   "nbconvert_exporter": "python",
   "pygments_lexer": "ipython3",
   "version": "3.7.6"
  }
 },
 "nbformat": 4,
 "nbformat_minor": 4
}
