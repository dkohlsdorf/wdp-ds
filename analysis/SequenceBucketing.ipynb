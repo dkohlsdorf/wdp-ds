{
 "cells": [
  {
   "cell_type": "markdown",
   "metadata": {},
   "source": [
    "# Sequence Bucketing\n",
    "\n",
    "Instead of clustering directly, we start by pre bucketing using a SAX like algorithm.\n",
    "First we compress each sequence to `n` symbols and then quantize using k-means."
   ]
  },
  {
   "cell_type": "code",
   "execution_count": 1,
   "metadata": {},
   "outputs": [
    {
     "data": {
      "text/plain": [
       "<module 'ml_pipeline' from '../ml_pipeline/__init__.py'>"
      ]
     },
     "execution_count": 1,
     "metadata": {},
     "output_type": "execute_result"
    }
   ],
   "source": [
    "import yaml\n",
    "import sys\n",
    "import os \n",
    "import tensorflow as tf\n",
    "sys.path.append('..')\n",
    "import pickle\n",
    "import matplotlib.pyplot as plt\n",
    "import pandas as pd\n",
    "\n",
    "from sklearn.cluster import AgglomerativeClustering\n",
    "from tensorflow.keras.models import *\n",
    "\n",
    "import imp\n",
    "import ml_pipeline\n",
    "imp.reload(ml_pipeline)"
   ]
  },
  {
   "cell_type": "code",
   "execution_count": 2,
   "metadata": {},
   "outputs": [],
   "source": [
    "from ml_pipeline.audio import *\n",
    "from ml_pipeline.dtw import * \n",
    "from ml_pipeline.sequence_hashing import *\n",
    "from ml_pipeline.structured import * \n",
    "from ml_pipeline.audio_collection import * "
   ]
  },
  {
   "cell_type": "code",
   "execution_count": null,
   "metadata": {},
   "outputs": [],
   "source": [
    "for filename in tf.io.gfile.listdir(inp):\n",
    "    if filename.endswith('.ogg') or filename.endswith('.wav'):\n",
    "        name = filename.replace(\".wav\", \"\")\n",
    "        name = name.replace(\".ogg\", \"\")            \n",
    "        in_path  = \"{}/{}\".format(inp, filename)\n",
    "        out_path = \"{}/embedding_{}.csv\".format(out, name)\n",
    "        print(\"\\t {}\".format(in_path))\n",
    "        if not os.path.isfile(out_path):\n",
    "            inducer = TypeExtraction.from_audiofile(in_path, embedder)\n",
    "            inducer.save(out_path, append=True)"
   ]
  },
  {
   "cell_type": "code",
   "execution_count": null,
   "metadata": {
    "scrolled": true
   },
   "outputs": [],
   "source": [
    "re          = RegionExtractors(0)\n",
    "overlapping = []\n",
    "for file in tf.io.gfile.listdir('../models/v2_lstm_v8/'):        \n",
    "    if file.startswith(\"embedding\") and file.endswith(\".csv\"):\n",
    "        path = \"{}/{}\".format('../models/v2_lstm_v8/', file)\n",
    "        print(\"\\tReading {}\".format(path))\n",
    "        header                = [\"filename\", \"start\", \"stop\", \"type\", \"embedding\"]\n",
    "        df                    = pd.read_csv(path, sep=\"\\t\", header = None, names=header)\n",
    "        signals               = df[df['type'] >= 1]\n",
    "        signals['embedding']  = df['embedding'].apply(\n",
    "            lambda x: np.array([float(i) for i in x.split(\",\")]))\n",
    "        annotated             = [(row['start'], row['stop'], row['filename'], row['embedding'])\n",
    "                                 for _ , row in signals.iterrows()]\n",
    "        overlapping += groupBy(annotated, re.overlap)    "
   ]
  },
  {
   "cell_type": "code",
   "execution_count": null,
   "metadata": {},
   "outputs": [],
   "source": [
    "pickle.dump(overlapping, open('overlapping.pkl', 'wb'))"
   ]
  },
  {
   "cell_type": "markdown",
   "metadata": {},
   "source": [
    "## Filtering size "
   ]
  },
  {
   "cell_type": "code",
   "execution_count": 3,
   "metadata": {},
   "outputs": [
    {
     "name": "stdout",
     "output_type": "stream",
     "text": [
      "20682 20682\n"
     ]
    }
   ],
   "source": [
    "min_th = 4\n",
    "max_th = 250\n",
    "overlapping = [x for x in pickle.load(open('overlapping.pkl', 'rb')) if len(x[3]) > min_th and len(x[3]) < max_th]\n",
    "sequences = [np.stack(s) for _, _, _, s in overlapping]\n",
    "print(len(sequences), len(overlapping))"
   ]
  },
  {
   "cell_type": "markdown",
   "metadata": {},
   "source": [
    "## Bucket Result"
   ]
  },
  {
   "cell_type": "code",
   "execution_count": 4,
   "metadata": {},
   "outputs": [
    {
     "name": "stdout",
     "output_type": "stream",
     "text": [
      "608\n"
     ]
    }
   ],
   "source": [
    "assignments = similarity_bucketing(sequences, 4, 5)\n",
    "clusters = max(assignments) + 1\n",
    "print(clusters)"
   ]
  },
  {
   "cell_type": "code",
   "execution_count": 5,
   "metadata": {},
   "outputs": [],
   "source": [
    "counts = np.zeros(clusters)\n",
    "for i in assignments:\n",
    "    counts[i] += 1"
   ]
  },
  {
   "cell_type": "code",
   "execution_count": 6,
   "metadata": {},
   "outputs": [
    {
     "name": "stdout",
     "output_type": "stream",
     "text": [
      "Percentile 5:  2.0\n",
      "Percentile 10: 3.0\n",
      "Percentile 50: 13.0\n",
      "Percentile 90: 80.30000000000007\n",
      "Percentile 95: 131.29999999999995\n"
     ]
    },
    {
     "data": {
      "image/png": "[encoded data removed]",
      "text/plain": [
       "<Figure size 432x288 with 1 Axes>"
      ]
     },
     "metadata": {
      "needs_background": "light"
     },
     "output_type": "display_data"
    }
   ],
   "source": [
    "print(\"Percentile 5:  {}\".format(np.percentile(counts, 5)))\n",
    "print(\"Percentile 10: {}\".format(np.percentile(counts, 10)))\n",
    "print(\"Percentile 50: {}\".format(np.percentile(counts, 50)))\n",
    "print(\"Percentile 90: {}\".format(np.percentile(counts, 90)))\n",
    "print(\"Percentile 95: {}\".format(np.percentile(counts, 95)))\n",
    "\n",
    "plt.plot(sorted(counts))\n",
    "plt.show()"
   ]
  },
  {
   "cell_type": "code",
   "execution_count": 7,
   "metadata": {},
   "outputs": [],
   "source": [
    "by_assignment = {}\n",
    "for o, s in zip(overlapping, assignments):\n",
    "    if s not in by_assignment:\n",
    "        by_assignment[s] = []\n",
    "    by_assignment[s].append(o)"
   ]
  },
  {
   "cell_type": "markdown",
   "metadata": {},
   "source": [
    "## Clustering In Each Bucket\n",
    "\n",
    "+ Make this faster using all processors\n",
    "+ https://wltrimbl.github.io/2014-06-10-spelman/intermediate/python/04-multiprocessing.html"
   ]
  },
  {
   "cell_type": "code",
   "execution_count": null,
   "metadata": {
    "scrolled": true
   },
   "outputs": [],
   "source": [
    "import warnings\n",
    "warnings.filterwarnings('ignore')\n",
    "\n",
    "import multiprocessing as mp\n",
    "\n",
    "def process(assignment, overlapping, max_dist = 1.0):\n",
    "    n = len(overlapping)\n",
    "    if n > 1:\n",
    "        max_len = int(max([len(e) for _, _, _, e in overlapping]) + 1)\n",
    "        dtw = DTW(max_len)\n",
    "        dist = np.zeros((n, n))\n",
    "        for i, (start_x, stop_x, f_x, embedding_x) in enumerate(overlapping):\n",
    "            for j, (start_y, stop_y, f_y, embedding_y) in enumerate(overlapping):\n",
    "                if i < j:\n",
    "                    x = np.array([embedding_x]).reshape(len(embedding_x), 256)\n",
    "                    y = np.array([embedding_y]).reshape(len(embedding_y), 256)\n",
    "                    d, _       = dtw.align(x, y) \n",
    "                    dist[i, j] = d / (len(x) * len(y))\n",
    "                    dist[j, i] = d / (len(x) * len(y))\n",
    "        print(\"\\t {} {} {} {} {} {} \".format(assignment, n, np.percentile(dist.flatten(), 5), np.percentile(dist.flatten(), 95), np.mean(dist), np.std(dist)))\n",
    "        agg = AgglomerativeClustering(n_clusters = None, \n",
    "                                      distance_threshold = max_dist, linkage = 'average', affinity='precomputed')\n",
    "        clustering = agg.fit_predict(dist)\n",
    "        return clustering, overlapping\n",
    "    return [], []\n",
    "\n",
    "pool = mp.Pool(processes=10)\n",
    "results = [pool.apply_async(process, args=(assignment, overlapping, 1.0)) for assignment, overlapping in by_assignment.items()]\n",
    "outputs = [p.get() for p in results]\n",
    "\n",
    "with open('clustering.csv', \"w\") as fp:\n",
    "    cur = 0\n",
    "    for clustering, overlapping in outputs:\n",
    "        if len(clustering) > 0:\n",
    "            for c, (start, stop, f, _) in zip(clustering, overlapping):\n",
    "                fp.write(\"{},{},{},{}\\n\".format(start, stop, f, c + cur))\n",
    "            for c in range(len(set(clustering))):\n",
    "                cur += 1\n"
   ]
  },
  {
   "cell_type": "code",
   "execution_count": 3,
   "metadata": {},
   "outputs": [],
   "source": [
    "df = pd.read_csv('clustering.csv', names=['start', 'stop', 'file', 'clusters'], header = None)"
   ]
  },
  {
   "cell_type": "code",
   "execution_count": 4,
   "metadata": {},
   "outputs": [
    {
     "name": "stdout",
     "output_type": "stream",
     "text": [
      "Clusters: 16447\n"
     ]
    },
    {
     "data": {
      "image/png": "[encoded data removed]",
      "text/plain": [
       "<Figure size 432x288 with 1 Axes>"
      ]
     },
     "metadata": {
      "needs_background": "light"
     },
     "output_type": "display_data"
    }
   ],
   "source": [
    "grouped_by_filename = {}\n",
    "# instance id\n",
    "clusters = []\n",
    "for i, row in df.iterrows():\n",
    "    start = row[0]\n",
    "    stop = row[1]\n",
    "    f = row[2]\n",
    "    c = row[3]\n",
    "    \n",
    "    if f not in grouped_by_filename:\n",
    "        grouped_by_filename[f] = []\n",
    "    grouped_by_filename[f].append((start, stop, c, i))\n",
    "    clusters.append(c)\n",
    "    \n",
    "k = max(clusters) + 1\n",
    "instances_clusters = np.zeros(k)\n",
    "for c in clusters:\n",
    "    instances_clusters[c] += 1\n",
    "    \n",
    "print(\"Clusters: {}\".format(k))\n",
    "plt.plot(instances_clusters)\n",
    "plt.show()"
   ]
  },
  {
   "cell_type": "code",
   "execution_count": 5,
   "metadata": {
    "scrolled": true
   },
   "outputs": [
    {
     "name": "stdout",
     "output_type": "stream",
     "text": [
      "Audio result for cluster: 177 22.0\n",
      "Audio result for cluster: 179 35.0\n",
      "Audio result for cluster: 408 13.0\n",
      "Audio result for cluster: 475 11.0\n",
      "Audio result for cluster: 477 96.0\n",
      "Audio result for cluster: 614 12.0\n",
      "Audio result for cluster: 736 140.0\n",
      "Audio result for cluster: 737 11.0\n",
      "Audio result for cluster: 746 22.0\n",
      "Audio result for cluster: 1041 13.0\n",
      "Audio result for cluster: 1042 87.0\n",
      "Audio result for cluster: 1233 21.0\n",
      "Audio result for cluster: 1614 142.0\n",
      "Audio result for cluster: 1624 12.0\n",
      "Audio result for cluster: 1781 14.0\n",
      "Audio result for cluster: 1863 87.0\n",
      "Audio result for cluster: 2131 110.0\n",
      "Audio result for cluster: 2435 390.0\n",
      "Audio result for cluster: 2437 12.0\n",
      "Audio result for cluster: 2444 19.0\n"
     ]
    },
    {
     "ename": "NameError",
     "evalue": "name 'println' is not defined",
     "output_type": "error",
     "traceback": [
      "\u001b[0;31m---------------------------------------------------------------------------\u001b[0m",
      "\u001b[0;31mRemoteTraceback\u001b[0m                           Traceback (most recent call last)",
      "\u001b[0;31mRemoteTraceback\u001b[0m: \n\"\"\"\nTraceback (most recent call last):\n  File \"/opt/conda/lib/python3.7/multiprocessing/pool.py\", line 121, in worker\n    result = (True, func(*args, **kwds))\n  File \"<ipython-input-5-1e4b89ece98e>\", line 16, in write_audio\n    println(\"Done: {}\".format(cluster_id))\nNameError: name 'println' is not defined\n\"\"\"",
      "\nThe above exception was the direct cause of the following exception:\n",
      "\u001b[0;31mNameError\u001b[0m                                 Traceback (most recent call last)",
      "\u001b[0;32m<ipython-input-5-1e4b89ece98e>\u001b[0m in \u001b[0;36m<module>\u001b[0;34m\u001b[0m\n\u001b[1;32m     17\u001b[0m \u001b[0mpool\u001b[0m \u001b[0;34m=\u001b[0m \u001b[0mmp\u001b[0m\u001b[0;34m.\u001b[0m\u001b[0mPool\u001b[0m\u001b[0;34m(\u001b[0m\u001b[0mprocesses\u001b[0m\u001b[0;34m=\u001b[0m\u001b[0;36m10\u001b[0m\u001b[0;34m)\u001b[0m\u001b[0;34m\u001b[0m\u001b[0;34m\u001b[0m\u001b[0m\n\u001b[1;32m     18\u001b[0m \u001b[0mresults\u001b[0m \u001b[0;34m=\u001b[0m \u001b[0;34m[\u001b[0m\u001b[0mpool\u001b[0m\u001b[0;34m.\u001b[0m\u001b[0mapply_async\u001b[0m\u001b[0;34m(\u001b[0m\u001b[0mwrite_audio\u001b[0m\u001b[0;34m,\u001b[0m \u001b[0margs\u001b[0m\u001b[0;34m=\u001b[0m\u001b[0;34m(\u001b[0m\u001b[0mcluster_id\u001b[0m\u001b[0;34m,\u001b[0m \u001b[0minstances_clusters\u001b[0m\u001b[0;34m,\u001b[0m \u001b[0mgrouped_by_filename\u001b[0m\u001b[0;34m,\u001b[0m \u001b[0;36m10\u001b[0m\u001b[0;34m)\u001b[0m\u001b[0;34m)\u001b[0m \u001b[0;32mfor\u001b[0m \u001b[0mcluster_id\u001b[0m \u001b[0;32min\u001b[0m \u001b[0mrange\u001b[0m\u001b[0;34m(\u001b[0m\u001b[0;36m0\u001b[0m\u001b[0;34m,\u001b[0m \u001b[0mk\u001b[0m\u001b[0;34m)\u001b[0m\u001b[0;34m]\u001b[0m\u001b[0;34m\u001b[0m\u001b[0;34m\u001b[0m\u001b[0m\n\u001b[0;32m---> 19\u001b[0;31m \u001b[0moutputs\u001b[0m \u001b[0;34m=\u001b[0m \u001b[0;34m[\u001b[0m\u001b[0mp\u001b[0m\u001b[0;34m.\u001b[0m\u001b[0mget\u001b[0m\u001b[0;34m(\u001b[0m\u001b[0;34m)\u001b[0m \u001b[0;32mfor\u001b[0m \u001b[0mp\u001b[0m \u001b[0;32min\u001b[0m \u001b[0mresults\u001b[0m\u001b[0;34m]\u001b[0m\u001b[0;34m\u001b[0m\u001b[0;34m\u001b[0m\u001b[0m\n\u001b[0m",
      "\u001b[0;32m<ipython-input-5-1e4b89ece98e>\u001b[0m in \u001b[0;36m<listcomp>\u001b[0;34m(.0)\u001b[0m\n\u001b[1;32m     17\u001b[0m \u001b[0mpool\u001b[0m \u001b[0;34m=\u001b[0m \u001b[0mmp\u001b[0m\u001b[0;34m.\u001b[0m\u001b[0mPool\u001b[0m\u001b[0;34m(\u001b[0m\u001b[0mprocesses\u001b[0m\u001b[0;34m=\u001b[0m\u001b[0;36m10\u001b[0m\u001b[0;34m)\u001b[0m\u001b[0;34m\u001b[0m\u001b[0;34m\u001b[0m\u001b[0m\n\u001b[1;32m     18\u001b[0m \u001b[0mresults\u001b[0m \u001b[0;34m=\u001b[0m \u001b[0;34m[\u001b[0m\u001b[0mpool\u001b[0m\u001b[0;34m.\u001b[0m\u001b[0mapply_async\u001b[0m\u001b[0;34m(\u001b[0m\u001b[0mwrite_audio\u001b[0m\u001b[0;34m,\u001b[0m \u001b[0margs\u001b[0m\u001b[0;34m=\u001b[0m\u001b[0;34m(\u001b[0m\u001b[0mcluster_id\u001b[0m\u001b[0;34m,\u001b[0m \u001b[0minstances_clusters\u001b[0m\u001b[0;34m,\u001b[0m \u001b[0mgrouped_by_filename\u001b[0m\u001b[0;34m,\u001b[0m \u001b[0;36m10\u001b[0m\u001b[0;34m)\u001b[0m\u001b[0;34m)\u001b[0m \u001b[0;32mfor\u001b[0m \u001b[0mcluster_id\u001b[0m \u001b[0;32min\u001b[0m \u001b[0mrange\u001b[0m\u001b[0;34m(\u001b[0m\u001b[0;36m0\u001b[0m\u001b[0;34m,\u001b[0m \u001b[0mk\u001b[0m\u001b[0;34m)\u001b[0m\u001b[0;34m]\u001b[0m\u001b[0;34m\u001b[0m\u001b[0;34m\u001b[0m\u001b[0m\n\u001b[0;32m---> 19\u001b[0;31m \u001b[0moutputs\u001b[0m \u001b[0;34m=\u001b[0m \u001b[0;34m[\u001b[0m\u001b[0mp\u001b[0m\u001b[0;34m.\u001b[0m\u001b[0mget\u001b[0m\u001b[0;34m(\u001b[0m\u001b[0;34m)\u001b[0m \u001b[0;32mfor\u001b[0m \u001b[0mp\u001b[0m \u001b[0;32min\u001b[0m \u001b[0mresults\u001b[0m\u001b[0;34m]\u001b[0m\u001b[0;34m\u001b[0m\u001b[0;34m\u001b[0m\u001b[0m\n\u001b[0m",
      "\u001b[0;32m/opt/conda/lib/python3.7/multiprocessing/pool.py\u001b[0m in \u001b[0;36mget\u001b[0;34m(self, timeout)\u001b[0m\n\u001b[1;32m    655\u001b[0m             \u001b[0;32mreturn\u001b[0m \u001b[0mself\u001b[0m\u001b[0;34m.\u001b[0m\u001b[0m_value\u001b[0m\u001b[0;34m\u001b[0m\u001b[0;34m\u001b[0m\u001b[0m\n\u001b[1;32m    656\u001b[0m         \u001b[0;32melse\u001b[0m\u001b[0;34m:\u001b[0m\u001b[0;34m\u001b[0m\u001b[0;34m\u001b[0m\u001b[0m\n\u001b[0;32m--> 657\u001b[0;31m             \u001b[0;32mraise\u001b[0m \u001b[0mself\u001b[0m\u001b[0;34m.\u001b[0m\u001b[0m_value\u001b[0m\u001b[0;34m\u001b[0m\u001b[0;34m\u001b[0m\u001b[0m\n\u001b[0m\u001b[1;32m    658\u001b[0m \u001b[0;34m\u001b[0m\u001b[0m\n\u001b[1;32m    659\u001b[0m     \u001b[0;32mdef\u001b[0m \u001b[0m_set\u001b[0m\u001b[0;34m(\u001b[0m\u001b[0mself\u001b[0m\u001b[0;34m,\u001b[0m \u001b[0mi\u001b[0m\u001b[0;34m,\u001b[0m \u001b[0mobj\u001b[0m\u001b[0;34m)\u001b[0m\u001b[0;34m:\u001b[0m\u001b[0;34m\u001b[0m\u001b[0;34m\u001b[0m\u001b[0m\n",
      "\u001b[0;31mNameError\u001b[0m: name 'println' is not defined"
     ]
    },
    {
     "name": "stdout",
     "output_type": "stream",
     "text": [
      "Audio result for cluster: 2842 90.0\n",
      "Audio result for cluster: 2997 76.0\n",
      "Audio result for cluster: 3131 141.0\n",
      "Audio result for cluster: 3135 15.0\n",
      "Audio result for cluster: 3312 123.0\n",
      "Audio result for cluster: 3316 11.0\n",
      "Audio result for cluster: 3872 13.0\n",
      "Audio result for cluster: 4006 11.0\n",
      "Audio result for cluster: 4100 12.0\n",
      "Audio result for cluster: 4114 137.0\n",
      "Audio result for cluster: 4434 202.0\n",
      "Audio result for cluster: 4461 12.0\n",
      "Audio result for cluster: 4482 17.0\n",
      "Audio result for cluster: 4843 54.0\n",
      "Audio result for cluster: 5072 15.0\n",
      "Audio result for cluster: 5079 165.0\n",
      "Audio result for cluster: 5274 17.0\n",
      "Audio result for cluster: 5374 15.0\n",
      "Audio result for cluster: 5459 15.0\n",
      "Audio result for cluster: 5466 141.0\n",
      "Audio result for cluster: 5666 57.0\n",
      "Audio result for cluster: 5665 18.0\n",
      "Audio result for cluster: 5818 20.0\n",
      "Audio result for cluster: 6140 11.0\n",
      "Audio result for cluster: 6225 69.0\n",
      "Audio result for cluster: 6709 24.0\n",
      "Audio result for cluster: 6808 11.0\n",
      "Audio result for cluster: 7067 12.0\n",
      "Audio result for cluster: 7275 22.0\n",
      "Audio result for cluster: 7446 41.0\n",
      "Audio result for cluster: 8211 124.0\n",
      "Audio result for cluster: 8233 17.0\n",
      "Audio result for cluster: 8657 12.0\n",
      "Audio result for cluster: 9339 17.0\n",
      "Audio result for cluster: 9739 20.0\n",
      "Audio result for cluster: 10484 13.0\n",
      "Audio result for cluster: 10485 11.0\n",
      "Audio result for cluster: 11289 17.0\n",
      "Audio result for cluster: 11500 20.0\n",
      "Audio result for cluster: 11629 13.0\n",
      "Audio result for cluster: 13598 28.0\n",
      "Audio result for cluster: 13599 16.0\n"
     ]
    }
   ],
   "source": [
    "import multiprocessing as mp\n",
    "\n",
    "out = \"../models/v2_lstm_v8\"\n",
    "\n",
    "def write_audio(cluster_id, instances_clusters, grouped_by_filename, min_support):\n",
    "    if instances_clusters[cluster_id] > min_support:\n",
    "        print(\"Audio result for cluster: {} {}\".format(cluster_id, instances_clusters[cluster_id]))\n",
    "        audio_bank = AudioSnippetCollection(\"{}/seq_cluster_{}.wav\".format(out, cluster_id))\n",
    "        for f, regions in grouped_by_filename.items():\n",
    "            snippets        = [(start, stop) for start, stop, _, _ in regions]\n",
    "            cluster_snippet = [c for _, _, c,_ in regions] \n",
    "            for audio_snippet, c in zip(audio_regions(f, snippets), cluster_snippet):\n",
    "                if c == cluster_id:\n",
    "                    audio_bank.write(audio_snippet)\n",
    "        audio_bank.close()\n",
    "        print(\"Done: {}\".format(cluster_id))\n",
    "        \n",
    "pool = mp.Pool(processes=10)\n",
    "results = [pool.apply_async(write_audio, args=(cluster_id, instances_clusters, grouped_by_filename, 10)) for cluster_id in range(0, k)]\n",
    "outputs = [p.get() for p in results]"
   ]
  },
  {
   "cell_type": "code",
   "execution_count": null,
   "metadata": {},
   "outputs": [],
   "source": [
    "for cluster_id in range(0, k):\n",
    "    for f, regions in grouped_by_filename.items():\n",
    "        filename = f.split(\".\")[0].split(\"/\")[-1]\n",
    "        log_path = \"{}/seq_clustering_log_{}.csv\".format(out, filename)\n",
    "        #instance id\n",
    "        with open(log_path, \"a+\") as fp:\n",
    "            for start, stop, c, i in regions:\n",
    "                if c == cluster_id:\n",
    "                    fp.write(\"{},{},{},{},{}\\n\".format(start, stop, f, c, i))                        "
   ]
  }
 ],
 "metadata": {
  "kernelspec": {
   "display_name": "Python 3",
   "language": "python",
   "name": "python3"
  },
  "language_info": {
   "codemirror_mode": {
    "name": "ipython",
    "version": 3
   },
   "file_extension": ".py",
   "mimetype": "text/x-python",
   "name": "python",
   "nbconvert_exporter": "python",
   "pygments_lexer": "ipython3",
   "version": "3.7.6"
  }
 },
 "nbformat": 4,
 "nbformat_minor": 4
}
