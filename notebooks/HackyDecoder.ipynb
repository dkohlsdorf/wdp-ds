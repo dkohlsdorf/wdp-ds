{
 "cells": [
  {
   "cell_type": "code",
   "execution_count": null,
   "id": "1a2f7279-61cd-4a19-b50b-abc387de6a70",
   "metadata": {},
   "outputs": [],
   "source": [
    "import tensorflow as tf\n",
    "import os\n",
    "import sys\n",
    "\n",
    "sys.path.append(\"../\")\n",
    "\n",
    "\n",
    "from collections import defaultdict\n",
    "from scipy.signal import triang\n",
    "\n",
    "from tensorflow.keras.models import load_model\n",
    "from lib_dolphin.audio import *\n",
    "from lib_dolphin.sequential import *\n",
    "from lib_dolphin.eval import *\n",
    "from lib_dolphin.discrete import *\n",
    "\n",
    "FFT_STEP     = 128\n",
    "FFT_WIN      = 512\n",
    "FFT_HI       = 230\n",
    "FFT_LO       = 100\n",
    "\n",
    "D            = FFT_WIN // 2 - FFT_LO - (FFT_WIN // 2 - FFT_HI)\n",
    "T            = int((RAW_AUDIO - FFT_WIN) / FFT_STEP)\n",
    "\n",
    "MODEL_PATH = 'model_v2/'\n",
    "\n",
    "ids           = pkl.load(open(f\"{MODEL_PATH}/ids.pkl\", \"rb\"))\n",
    "inst          = pkl.load(open(f\"{MODEL_PATH}/instances.pkl\", \"rb\"))\n",
    "predictions   = [x for x in pkl.load(open(f\"{MODEL_PATH}/predictions.pkl\", \"rb\"))]\n",
    "lab           = pkl.load(open(f\"{MODEL_PATH}/labels.pkl\", \"rb\"))\n",
    "clst          = pkl.load(open(f\"{MODEL_PATH}/clusters_window.pkl\", \"rb\"))\n",
    "label_mapping = LabelMapping.mapping(clst)\n",
    "dim = np.sum([c.n_clusters for c in clst.values()]) + 1\n",
    "supervised    = load_model(f'{MODEL_PATH}/supervised.h5')    \n",
    "encoder       = load_model(f'{MODEL_PATH}/encoder.h5')    \n",
    "reverse       = {v:k for k, v in lab.items()}\n",
    "encoder.summary()"
   ]
  },
  {
   "cell_type": "code",
   "execution_count": null,
   "id": "f126e2cc-004f-42f7-983e-714569e26512",
   "metadata": {},
   "outputs": [],
   "source": [
    "def spec(x):\n",
    "    return spectrogram(x, FFT_LO, FFT_HI, FFT_WIN, FFT_STEP)            "
   ]
  },
  {
   "cell_type": "code",
   "execution_count": null,
   "id": "9b546375-ad1c-44f6-b321-78a741c80483",
   "metadata": {},
   "outputs": [],
   "source": [
    "step =  T // 2\n",
    "path = '../test_encode/larger/'\n",
    "for file in os.listdir(path):\n",
    "    if file.endswith('.wav'):\n",
    "        print(file)\n",
    "        fp = f\"{path}{file}\"\n",
    "        x = raw(fp)\n",
    "        s = spec(x)\n",
    "        plottable = spectrogram(x, 0, FFT_WIN // 2, FFT_WIN, FFT_STEP)\n",
    "        w = windowing(s, T)\n",
    "        p = supervised.predict(w)\n",
    "        e = encoder.predict(w)\n",
    "        print(s.shape, w.shape, p.shape, np.stack(e).shape)\n",
    "        cur = 0\n",
    "        labels = []\n",
    "        for j in range(p.shape[0]):\n",
    "            l = np.argmax(p[j])            \n",
    "            if l == 4:\n",
    "                c = 0\n",
    "                for i in range(0, step):\n",
    "                    labels.append(c)\n",
    "            else:\n",
    "                x = e[j].reshape(1, e[j].shape[0])\n",
    "                score = clst[l].score(x)\n",
    "                cluster_number = clst[l].predict(x)[0]                                \n",
    "                ci = 1 + label_mapping.fwd(l, cluster_number) \n",
    "                print(i2name(ci, reverse, label_mapping), score)\n",
    "                if score > -50:\n",
    "                    for i in range(0, step):                \n",
    "                        labels.append(ci)\n",
    "                else:\n",
    "                    for i in range(0, step):\n",
    "                        labels.append(0)\n",
    "                    \n",
    "            cur += step\n",
    "        c = compress_neural(labels, len(s), reverse, label_mapping)\n",
    "        plot_neural(plottable, c, None)  \n",
    "        "
   ]
  },
  {
   "cell_type": "code",
   "execution_count": null,
   "id": "31aecb14-0400-4327-afca-6dff78bb2676",
   "metadata": {},
   "outputs": [],
   "source": []
  }
 ],
 "metadata": {
  "kernelspec": {
   "display_name": "Python 3 (ipykernel)",
   "language": "python",
   "name": "python3"
  },
  "language_info": {
   "codemirror_mode": {
    "name": "ipython",
    "version": 3
   },
   "file_extension": ".py",
   "mimetype": "text/x-python",
   "name": "python",
   "nbconvert_exporter": "python",
   "pygments_lexer": "ipython3",
   "version": "3.10.6"
  }
 },
 "nbformat": 4,
 "nbformat_minor": 5
}
