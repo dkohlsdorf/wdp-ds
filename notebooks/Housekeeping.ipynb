{
 "cells": [
  {
   "cell_type": "code",
   "execution_count": 1,
   "id": "74856d90-66c2-48fe-898e-2df63a762b21",
   "metadata": {},
   "outputs": [],
   "source": [
    "import os\n",
    "import json\n",
    "import numpy as np\n",
    "import matplotlib.pyplot as plt\n",
    "from PIL import Image\n",
    "import pickle as pkl\n",
    "\n",
    "import sys \n",
    "sys.path.append(\"../\")"
   ]
  },
  {
   "cell_type": "code",
   "execution_count": 2,
   "id": "8532cf4d-6b2a-400e-9fa4-99c3787abd90",
   "metadata": {},
   "outputs": [],
   "source": [
    "from lib_dolphin.sequential import * \n",
    "from lib_dolphin.parameters import *\n"
   ]
  },
  {
   "cell_type": "markdown",
   "id": "3ebaa73d-256f-457a-b59a-7b1a2a1ac0d1",
   "metadata": {},
   "source": [
    "# Find a label based on feature dim"
   ]
  },
  {
   "cell_type": "code",
   "execution_count": 3,
   "id": "c76d1b74-73c5-4589-a016-ed54c3c7ce15",
   "metadata": {},
   "outputs": [
    {
     "data": {
      "text/plain": [
       "'Bb'"
      ]
     },
     "execution_count": 3,
     "metadata": {},
     "output_type": "execute_result"
    }
   ],
   "source": [
    "lab           = pkl.load(open(f\"../{MODEL_PATH}/labels.pkl\", \"rb\"))\n",
    "reverse       = {v:k for k, v in lab.items()}\n",
    "label_mapping = pkl.load(open(f'../{MODEL_PATH}/label_mapping.pkl', 'rb'))\n",
    "i2name(10, reverse, label_mapping)\n"
   ]
  },
  {
   "cell_type": "code",
   "execution_count": null,
   "id": "b2715b84-1ade-47d0-a1ac-33350866ef7e",
   "metadata": {},
   "outputs": [],
   "source": []
  }
 ],
 "metadata": {
  "kernelspec": {
   "display_name": "Python 3 (ipykernel)",
   "language": "python",
   "name": "python3"
  },
  "language_info": {
   "codemirror_mode": {
    "name": "ipython",
    "version": 3
   },
   "file_extension": ".py",
   "mimetype": "text/x-python",
   "name": "python",
   "nbconvert_exporter": "python",
   "pygments_lexer": "ipython3",
   "version": "3.10.6"
  }
 },
 "nbformat": 4,
 "nbformat_minor": 5
}
