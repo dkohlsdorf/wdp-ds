{
 "cells": [
  {
   "cell_type": "code",
   "execution_count": 1,
   "id": "c578df29-65ee-4049-a3d6-0eb7744472f5",
   "metadata": {},
   "outputs": [],
   "source": [
    "import numpy as np\n",
    "import sys\n",
    "import os\n",
    "import pickle\n",
    "\n",
    "sys.path.append(\"../\")\n",
    "\n",
    "from lib_dolphin.indexing import *"
   ]
  },
  {
   "cell_type": "code",
   "execution_count": 2,
   "id": "6ba7bcd1-030f-4508-9de0-f4f413990011",
   "metadata": {},
   "outputs": [
    {
     "name": "stdout",
     "output_type": "stream",
     "text": [
      "86438\n"
     ]
    }
   ],
   "source": [
    "PATH = '../../web_service/relaxed_search_may23/raw_prob/'\n",
    "\n",
    "sequences = []\n",
    "for file in os.listdir(PATH):\n",
    "    if file.endswith(\".npy\"):\n",
    "        x = np.load(f'{PATH}/{file}')\n",
    "        sequences.append(x)\n",
    "        \n",
    "WINDOW = 1024\n",
    "STEP   = int(WINDOW * 0.75)\n",
    "windows = []\n",
    "for sequence in sequences:\n",
    "    N = len(sequence)\n",
    "    for i in range(WINDOW, N, STEP):        \n",
    "        windows.append(sequence[i-WINDOW:i])     \n",
    "print(len(windows))"
   ]
  },
  {
   "cell_type": "code",
   "execution_count": 3,
   "id": "eb482c5b-3abd-4a21-baa1-6b0ca5e886ba",
   "metadata": {},
   "outputs": [],
   "source": [
    "fh = open(\"windows.pkl\",\"wb\")\n",
    "pickle.dump(windows, fh)"
   ]
  },
  {
   "cell_type": "code",
   "execution_count": 4,
   "id": "0d46f355-037c-4109-8ad5-ce8805a7e280",
   "metadata": {},
   "outputs": [
    {
     "name": "stderr",
     "output_type": "stream",
     "text": [
      "\n",
      "KeyboardInterrupt\n",
      "\n"
     ]
    }
   ],
   "source": [
    "root = build_tree(windows, dtw_selector)                                                                                                                                                                                           "
   ]
  },
  {
   "cell_type": "code",
   "execution_count": null,
   "id": "cfd1de63-4961-4df2-aea2-54890e5d5344",
   "metadata": {},
   "outputs": [],
   "source": [
    "\n",
    "fh = open(\"index.pkl\",\"wb\")\n",
    "pickle.dump(root, fh)"
   ]
  },
  {
   "cell_type": "code",
   "execution_count": null,
   "id": "0e4123e8-e0bb-4ec8-912c-a1517a8f5671",
   "metadata": {},
   "outputs": [],
   "source": []
  }
 ],
 "metadata": {
  "kernelspec": {
   "display_name": "Python 3 (ipykernel)",
   "language": "python",
   "name": "python3"
  },
  "language_info": {
   "codemirror_mode": {
    "name": "ipython",
    "version": 3
   },
   "file_extension": ".py",
   "mimetype": "text/x-python",
   "name": "python",
   "nbconvert_exporter": "python",
   "pygments_lexer": "ipython3",
   "version": "3.10.6"
  }
 },
 "nbformat": 4,
 "nbformat_minor": 5
}
