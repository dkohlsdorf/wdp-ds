{
 "cells": [
  {
   "cell_type": "code",
   "execution_count": 1,
   "id": "c578df29-65ee-4049-a3d6-0eb7744472f5",
   "metadata": {},
   "outputs": [],
   "source": [
    "import numpy as np\n",
    "import sys\n",
    "import os\n",
    "\n",
    "sys.path.append(\"../\")\n",
    "\n",
    "from lib_dolphin.indexing import *"
   ]
  },
  {
   "cell_type": "code",
   "execution_count": 2,
   "id": "6ba7bcd1-030f-4508-9de0-f4f413990011",
   "metadata": {},
   "outputs": [],
   "source": [
    "PATH = '../../web_service/relaxed_search_may23/raw_prob/'\n",
    "\n",
    "sequences = []\n",
    "for file in os.listdir(PATH):\n",
    "    if file.endswith(\".npy\"):\n",
    "        x = np.load(f'{PATH}/{file}')\n",
    "        sequences.append(x)\n",
    "        \n",
    "WINDOW = 250\n",
    "STEP   = WINDOW // 2\n",
    "windows = []\n",
    "for sequence in sequences:\n",
    "    N = len(sequence)\n",
    "    for i in range(WINDOW, N, STEP):        \n",
    "        windows.append(sequence[i-WINDOW:i])        "
   ]
  },
  {
   "cell_type": "code",
   "execution_count": 3,
   "id": "eb482c5b-3abd-4a21-baa1-6b0ca5e886ba",
   "metadata": {},
   "outputs": [
    {
     "data": {
      "text/plain": [
       "545240"
      ]
     },
     "execution_count": 3,
     "metadata": {},
     "output_type": "execute_result"
    }
   ],
   "source": [
    "len(windows)"
   ]
  },
  {
   "cell_type": "code",
   "execution_count": null,
   "id": "0d46f355-037c-4109-8ad5-ce8805a7e280",
   "metadata": {},
   "outputs": [
    {
     "name": "stderr",
     "output_type": "stream",
     "text": [
      "/home/dkohlsdorf/Documents/wdp-ds/notebooks/../lib_dolphin/indexing.py:60: NumbaWarning: \n",
      "Compilation is falling back to object mode WITH looplifting enabled because Function \"build_tree\" failed type inference due to: Untyped global name 'IndexingTree': Cannot determine Numba type of <class 'type'>\n",
      "\n",
      "File \"../lib_dolphin/indexing.py\", line 65:\n",
      "def build_tree(data, make_selector, n_leaf=100):\n",
      "    <source elided>\n",
      "    selections = np.zeros(N)\n",
      "    root = IndexingTree()\n",
      "    ^\n",
      "\n",
      "  @jit\n"
     ]
    }
   ],
   "source": [
    "root = build_tree(windows, dtw_selector)                                                                                                                                                                                           "
   ]
  },
  {
   "cell_type": "code",
   "execution_count": null,
   "id": "cfd1de63-4961-4df2-aea2-54890e5d5344",
   "metadata": {},
   "outputs": [],
   "source": []
  }
 ],
 "metadata": {
  "kernelspec": {
   "display_name": "Python 3 (ipykernel)",
   "language": "python",
   "name": "python3"
  },
  "language_info": {
   "codemirror_mode": {
    "name": "ipython",
    "version": 3
   },
   "file_extension": ".py",
   "mimetype": "text/x-python",
   "name": "python",
   "nbconvert_exporter": "python",
   "pygments_lexer": "ipython3",
   "version": "3.10.6"
  }
 },
 "nbformat": 4,
 "nbformat_minor": 5
}
