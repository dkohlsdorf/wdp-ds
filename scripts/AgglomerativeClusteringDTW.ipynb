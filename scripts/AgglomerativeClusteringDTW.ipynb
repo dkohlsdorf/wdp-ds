{
 "cells": [
  {
   "cell_type": "code",
   "execution_count": null,
   "metadata": {},
   "outputs": [],
   "source": [
    "!python3 -m pip install cython\n",
    "!python3 -m pip install PyMySQL\n",
    "!python3 -m pip install SQLAlchemy\n",
    "!python3 -m pip install google-cloud-storage\n",
    "!python3 -m pip install --upgrade --quiet scikit-sound\n",
    "!python3 -m pip install --upgrade --quiet pygame\n",
    "!python3 -m pip install scikit-learn==0.21rc2\n",
    "\n",
    "!sudo apt-get -y install ffmpeg\n",
    "!sudo apt-get -y install python3-pymysql"
   ]
  },
  {
   "cell_type": "code",
   "execution_count": 1,
   "metadata": {},
   "outputs": [
    {
     "name": "stdout",
     "output_type": "stream",
     "text": [
      "pygame 1.9.6\n",
      "Hello from the pygame community. https://www.pygame.org/contribute.html\n"
     ]
    }
   ],
   "source": [
    "import sqlalchemy\n",
    "import numpy as np\n",
    "\n",
    "from google.cloud import storage\n",
    "from numpy.fft import fft, ifft\n",
    "from sksound.sounds import Sound\n",
    "\n",
    "from tensorflow.keras.models import load_model"
   ]
  },
  {
   "cell_type": "code",
   "execution_count": 2,
   "metadata": {},
   "outputs": [],
   "source": [
    "# PASSWORDS AND STUFF HERE"
   ]
  },
  {
   "cell_type": "code",
   "execution_count": 3,
   "metadata": {},
   "outputs": [],
   "source": [
    "settings = {\n",
    "   'user': db_user,\n",
    "   'pass': db_password,\n",
    "   'host': host,\n",
    "     'db': db_name\n",
    "}\n",
    "url = 'mysql+pymysql://{user}:{pass}@{host}/{db}'.format(**settings)  # 5432 is the default port\n",
    "db = sqlalchemy.create_engine(url)\n",
    "\n",
    "def run_query(query):\n",
    "    with db.connect() as conn:\n",
    "        rows = []\n",
    "        for row in conn.execute(query).fetchall():\n",
    "            rows.append(dict(row.items()))\n",
    "        return rows\n",
    "    \n",
    "regions = run_query(\"\"\"\n",
    "    SELECT \n",
    "        x.encoding, y.year, x.filename, x.start, x.stop\n",
    "    FROM \n",
    "        wdp_ds.not_silent x\n",
    "    JOIN \n",
    "        wdp_ds.encoding y \n",
    "    ON x.encoding = y.encoding;\n",
    "\"\"\")"
   ]
  },
  {
   "cell_type": "code",
   "execution_count": 4,
   "metadata": {},
   "outputs": [],
   "source": [
    "client = storage.Client.from_service_account_json('../secret.json')\n",
    "bucket = client.get_bucket('wdp-data')"
   ]
  },
  {
   "cell_type": "code",
   "execution_count": 5,
   "metadata": {},
   "outputs": [
    {
     "name": "stdout",
     "output_type": "stream",
     "text": [
      "39\n"
     ]
    }
   ],
   "source": [
    "regions_by_file = {}\n",
    "for region in regions:\n",
    "    k = \"audio_files/{}/{}\".format(region['year'], region['filename'])\n",
    "    r = region\n",
    "    if k not in regions_by_file:\n",
    "        regions_by_file[k] = []\n",
    "    regions_by_file[k].append(r)\n",
    "print(len(regions_by_file))"
   ]
  },
  {
   "cell_type": "code",
   "execution_count": 6,
   "metadata": {},
   "outputs": [],
   "source": [
    "highpass=25\n",
    "\n",
    "class StreamSpectrogram:\n",
    "    \n",
    "    def __init__(self, filename, starts, stops, win=128):\n",
    "        sound = Sound(filename)      \n",
    "        self.ranges = [x for x in zip(starts, stops)]\n",
    "        self.starts = starts\n",
    "        self.stops = stops\n",
    "        self.data  = sound.data\n",
    "        self.fs    = sound.rate\n",
    "        if len(self.data.shape) > 1:\n",
    "            self.data = self.data[:, 0]    \n",
    "        self.win = win\n",
    "\n",
    "    def __iter__(self):\n",
    "        self.i = 0\n",
    "        return self\n",
    "\n",
    "    def __next__(self):        \n",
    "        if self.i < len(self.ranges): \n",
    "            start, stop = self.ranges[self.i]\n",
    "            w = 512 + 2 * highpass\n",
    "            if start - w > 0:\n",
    "                raw   = self.data[start - w:stop]\n",
    "                spec  = fwd_spectrogram(raw, win=w)[:, 0:256] \n",
    "                t,d   = spec.shape\n",
    "                if t >= self.win:\n",
    "                    current = []        \n",
    "                    for i in range(self.win, t + 1, self.win // 10):\n",
    "                        x      = np.reshape(spec[i - self.win:i], (self.win, d, 1))\n",
    "                        mu     = np.mean(x)\n",
    "                        std    = np.std(x) + 1.0\n",
    "                        window = (x - mu) / std\n",
    "                        current.append(window)\n",
    "                    self.i += 1\n",
    "                    return np.stack(current)\n",
    "                else:\n",
    "                    self.i += 1\n",
    "                    return None\n",
    "            else:\n",
    "                self.i += 1\n",
    "                return None\n",
    "        else:\n",
    "            raise StopIteration                    \n",
    "            \n",
    "def fwd_spectrogram(audio, win=512, step=64):\n",
    "    '''\n",
    "    Compute the spectrogram of audio data\n",
    "\n",
    "    audio: one channel audio\n",
    "    win: window size for dft sliding window\n",
    "    step: step size for dft sliding windo\n",
    "    '''\n",
    "    spectrogram = []\n",
    "    hanning = np.hanning(win)\n",
    "    for i in range(win, len(audio), step):\n",
    "        start = win // 2\n",
    "        dft = np.abs(fft(audio[i - win: i] * hanning))[start:win]\n",
    "        spectrogram.append(dft)\n",
    "    return np.array(spectrogram)"
   ]
  },
  {
   "cell_type": "code",
   "execution_count": 7,
   "metadata": {
    "scrolled": true
   },
   "outputs": [
    {
     "name": "stdout",
     "output_type": "stream",
     "text": [
      "WARNING:tensorflow:No training configuration found in save file: the model was *not* compiled. Compile it manually.\n",
      "Infile converted from .m4a to \".wav\"\n",
      "data read in!\n",
      "audio_files/2011/05281101.m4a 31 31\n",
      "Infile converted from .m4a to \".wav\"\n",
      "data read in!\n",
      "audio_files/2011/05261103C.m4a 32 1\n",
      "Infile converted from .m4a to \".wav\"\n",
      "data read in!\n",
      "audio_files/2011/05141101.m4a 38 6\n",
      "Infile converted from .m4a to \".wav\"\n",
      "data read in!\n",
      "audio_files/2011/05271101.m4a 55 17\n",
      "Infile converted from .m4a to \".wav\"\n",
      "data read in!\n",
      "audio_files/2011/05131101.m4a 58 3\n",
      "Infile converted from .m4a to \".wav\"\n",
      "data read in!\n",
      "audio_files/2011/06281102C.m4a 63 5\n",
      "Infile converted from .m4a to \".wav\"\n",
      "data read in!\n",
      "audio_files/2011/05121101.m4a 134 71\n",
      "Infile converted from .m4a to \".wav\"\n",
      "data read in!\n",
      "audio_files/2011/06131101.m4a 141 7\n",
      "Infile converted from .m4a to \".wav\"\n",
      "data read in!\n",
      "audio_files/2011/06111101.m4a 148 7\n",
      "Infile converted from .m4a to \".wav\"\n",
      "data read in!\n",
      "audio_files/2011/06261102.m4a 155 7\n",
      "Infile converted from .m4a to \".wav\"\n",
      "data read in!\n",
      "audio_files/2011/08161101.m4a 161 6\n",
      "Infile converted from .m4a to \".wav\"\n",
      "data read in!\n",
      "audio_files/2011/06231101C.m4a 164 3\n",
      "Infile converted from .m4a to \".wav\"\n",
      "data read in!\n",
      "audio_files/2011/05301101.m4a 189 25\n",
      "Infile converted from .m4a to \".wav\"\n",
      "data read in!\n",
      "audio_files/2011/05111101.m4a 292 103\n",
      "Infile converted from .m4a to \".wav\"\n",
      "data read in!\n",
      "audio_files/2011/06151101.m4a 301 9\n",
      "Infile converted from .m4a to \".wav\"\n",
      "data read in!\n",
      "audio_files/2011/06281102.m4a 310 9\n",
      "Infile converted from .m4a to \".wav\"\n",
      "data read in!\n",
      "audio_files/2011/05311101.m4a 320 10\n",
      "Infile converted from .m4a to \".wav\"\n",
      "data read in!\n",
      "audio_files/2011/08141101.m4a 363 43\n",
      "Infile converted from .m4a to \".wav\"\n",
      "data read in!\n",
      "audio_files/2011/07151102C.m4a 364 1\n",
      "Infile converted from .m4a to \".wav\"\n",
      "data read in!\n",
      "audio_files/2011/05141102.m4a 365 1\n",
      "Infile converted from .m4a to \".wav\"\n",
      "data read in!\n",
      "audio_files/2011/05161101.m4a 367 2\n",
      "Infile converted from .m4a to \".wav\"\n",
      "data read in!\n",
      "audio_files/2011/06121101C.m4a 368 1\n",
      "Infile converted from .m4a to \".wav\"\n",
      "data read in!\n",
      "audio_files/2011/07141101C.m4a 369 1\n",
      "Infile converted from .m4a to \".wav\"\n",
      "data read in!\n",
      "audio_files/2011/05261101C.m4a 370 1\n",
      "Infile converted from .m4a to \".wav\"\n",
      "data read in!\n",
      "audio_files/2011/08031101.m4a 384 14\n",
      "Infile converted from .m4a to \".wav\"\n",
      "data read in!\n",
      "audio_files/2011/07131101.m4a 413 29\n",
      "Infile converted from .m4a to \".wav\"\n",
      "data read in!\n",
      "audio_files/2011/06271101.m4a 417 4\n",
      "Infile converted from .m4a to \".wav\"\n",
      "data read in!\n",
      "audio_files/2011/06121101.m4a 488 71\n",
      "Infile converted from .m4a to \".wav\"\n",
      "data read in!\n",
      "audio_files/2011/07141102C.m4a 489 1\n",
      "Infile converted from .m4a to \".wav\"\n",
      "data read in!\n",
      "audio_files/2011/08111101C.m4a 491 2\n",
      "Infile converted from .m4a to \".wav\"\n",
      "data read in!\n",
      "audio_files/2011/05161102.m4a 504 13\n",
      "Infile converted from .m4a to \".wav\"\n",
      "data read in!\n",
      "audio_files/2011/05281102.m4a 513 9\n",
      "Infile converted from .m4a to \".wav\"\n",
      "data read in!\n",
      "audio_files/2011/06131103.m4a 516 3\n",
      "Infile converted from .m4a to \".wav\"\n",
      "data read in!\n",
      "audio_files/2011/06231103.m4a 521 5\n",
      "Infile converted from .m4a to \".wav\"\n",
      "data read in!\n",
      "audio_files/2011/07131102.m4a 527 6\n",
      "Infile converted from .m4a to \".wav\"\n",
      "data read in!\n",
      "audio_files/2011/05271102.m4a 528 1\n",
      "Infile converted from .m4a to \".wav\"\n",
      "data read in!\n",
      "audio_files/2011/06121102.m4a 530 2\n",
      "Infile converted from .m4a to \".wav\"\n",
      "data read in!\n",
      "audio_files/2011/08031102.m4a 538 8\n",
      "Infile converted from .m4a to \".wav\"\n",
      "data read in!\n",
      "audio_files/2011/08141101C.m4a 556 18\n"
     ]
    }
   ],
   "source": [
    "encoder = load_model('../models/convnet_v5/v5.1/encoder.h5')\n",
    "idx     = list(regions_by_file.keys()) \n",
    "files   = {}\n",
    "latent  = [] \n",
    "for path in idx:    \n",
    "    with open(\"/tmp/audio.m4a\", \"wb\") as file_obj:\n",
    "        blob = bucket.blob(path)\n",
    "        blob.download_to_file(file_obj)\n",
    "    stream = StreamSpectrogram(\"/tmp/audio.m4a\", [r['start'] for r in regions_by_file[path]], [r['stop'] for r in regions_by_file[path]])\n",
    "    for i, region in enumerate(stream):\n",
    "        r = regions_by_file[path][i]\n",
    "        x = region\n",
    "        if x is not None:\n",
    "            h = encoder.predict(x)\n",
    "            latent.append([h, r])\n",
    "    print(path, len(latent), len(regions_by_file[path]))"
   ]
  },
  {
   "cell_type": "code",
   "execution_count": 8,
   "metadata": {},
   "outputs": [
    {
     "name": "stdout",
     "output_type": "stream",
     "text": [
      "556\n"
     ]
    }
   ],
   "source": [
    "import pickle\n",
    "print(len(latent))\n",
    "pickle.dump( latent, open( \"data.p\", \"wb\" ) )"
   ]
  },
  {
   "cell_type": "code",
   "execution_count": 9,
   "metadata": {},
   "outputs": [
    {
     "name": "stdout",
     "output_type": "stream",
     "text": [
      "556\n"
     ]
    },
    {
     "data": {
      "image/png": "[encoded data removed]",
      "text/plain": [
       "<Figure size 432x288 with 1 Axes>"
      ]
     },
     "metadata": {
      "needs_background": "light"
     },
     "output_type": "display_data"
    }
   ],
   "source": [
    "import pickle\n",
    "import matplotlib.pyplot as plt\n",
    "\n",
    "latent = pickle.load( open( \"data.p\", \"rb\" ) )\n",
    "print(len(latent))\n",
    "x = [len(l[0]) for l in latent]\n",
    "plt.hist(x, bins=250)\n",
    "plt.show()"
   ]
  },
  {
   "cell_type": "code",
   "execution_count": 10,
   "metadata": {},
   "outputs": [],
   "source": [
    "%load_ext Cython"
   ]
  },
  {
   "cell_type": "code",
   "execution_count": 75,
   "metadata": {
    "scrolled": true
   },
   "outputs": [
    {
     "name": "stdout",
     "output_type": "stream",
     "text": [
      "556\n",
      "\t0 / 556 in 0.0022754669189453125 [sec]\n",
      "\t10 / 556 in 0.19964194297790527 [sec]\n",
      "\t20 / 556 in 0.21923184394836426 [sec]\n",
      "\t30 / 556 in 0.241379976272583 [sec]\n",
      "\t40 / 556 in 0.1447591781616211 [sec]\n",
      "\t50 / 556 in 0.1978437900543213 [sec]\n",
      "\t60 / 556 in 0.20783567428588867 [sec]\n",
      "\t70 / 556 in 0.16149544715881348 [sec]\n",
      "\t80 / 556 in 0.15022063255310059 [sec]\n",
      "\t90 / 556 in 0.15404272079467773 [sec]\n",
      "\t100 / 556 in 0.13394784927368164 [sec]\n",
      "\t110 / 556 in 0.14118361473083496 [sec]\n",
      "\t120 / 556 in 0.15190792083740234 [sec]\n",
      "\t130 / 556 in 0.14298129081726074 [sec]\n",
      "\t140 / 556 in 0.14258623123168945 [sec]\n",
      "\t150 / 556 in 0.12884116172790527 [sec]\n",
      "\t160 / 556 in 0.13837003707885742 [sec]\n",
      "\t170 / 556 in 0.13757538795471191 [sec]\n",
      "\t180 / 556 in 0.13482880592346191 [sec]\n",
      "\t190 / 556 in 0.1170036792755127 [sec]\n",
      "\t200 / 556 in 0.11469650268554688 [sec]\n",
      "\t210 / 556 in 0.11383628845214844 [sec]\n",
      "\t220 / 556 in 0.10460829734802246 [sec]\n",
      "\t230 / 556 in 0.11584997177124023 [sec]\n",
      "\t240 / 556 in 0.0888221263885498 [sec]\n",
      "\t250 / 556 in 0.08091282844543457 [sec]\n",
      "\t260 / 556 in 0.0858299732208252 [sec]\n",
      "\t270 / 556 in 0.11654949188232422 [sec]\n",
      "\t280 / 556 in 0.07333993911743164 [sec]\n",
      "\t290 / 556 in 0.07116031646728516 [sec]\n",
      "\t300 / 556 in 0.10245704650878906 [sec]\n",
      "\t310 / 556 in 0.07288193702697754 [sec]\n",
      "\t320 / 556 in 0.061531782150268555 [sec]\n",
      "\t330 / 556 in 0.06663870811462402 [sec]\n",
      "\t340 / 556 in 0.062211036682128906 [sec]\n",
      "\t350 / 556 in 0.06985116004943848 [sec]\n",
      "\t360 / 556 in 0.06337547302246094 [sec]\n",
      "\t370 / 556 in 0.08179402351379395 [sec]\n",
      "\t380 / 556 in 0.061530113220214844 [sec]\n",
      "\t390 / 556 in 0.047957420349121094 [sec]\n",
      "\t400 / 556 in 0.07647085189819336 [sec]\n",
      "\t410 / 556 in 0.046567440032958984 [sec]\n",
      "\t420 / 556 in 0.04874396324157715 [sec]\n",
      "\t430 / 556 in 0.048021793365478516 [sec]\n",
      "\t440 / 556 in 0.040427207946777344 [sec]\n",
      "\t450 / 556 in 0.03438997268676758 [sec]\n",
      "\t460 / 556 in 0.03393840789794922 [sec]\n",
      "\t470 / 556 in 0.03677082061767578 [sec]\n",
      "\t480 / 556 in 0.04016470909118652 [sec]\n",
      "\t490 / 556 in 0.023592710494995117 [sec]\n",
      "\t500 / 556 in 0.03223919868469238 [sec]\n",
      "\t510 / 556 in 0.02698993682861328 [sec]\n",
      "\t520 / 556 in 0.01866769790649414 [sec]\n",
      "\t530 / 556 in 0.012707710266113281 [sec]\n",
      "\t540 / 556 in 0.014799833297729492 [sec]\n",
      "\t550 / 556 in 0.004327058792114258 [sec]\n"
     ]
    }
   ],
   "source": [
    "%%cython\n",
    "import pickle\n",
    "import numpy as np\n",
    "import matplotlib.pyplot as plt\n",
    "cimport numpy as np\n",
    "import time\n",
    "\n",
    "DTYPE = np.float\n",
    "GAP_PENALTY = 10.0\n",
    "\n",
    "cdef double euc(np.ndarray x, np.ndarray y):\n",
    "    return np.sqrt(np.sum(np.square(x - y)))\n",
    "\n",
    "cdef double min3(float x, float y, float z):\n",
    "    cdef float minimum = x\n",
    "    if y < minimum:\n",
    "        minimum = y\n",
    "    if z < minimum:\n",
    "        minimum = z\n",
    "    return minimum\n",
    "\n",
    "cdef double dtw(np.ndarray x, np.ndarray y):\n",
    "    cdef int n = x.shape[0]\n",
    "    cdef int m = y.shape[0]\n",
    "    cdef int w = max(round((n + m) / 10), abs(n - m) + 2)\n",
    "    \n",
    "    cdef np.ndarray dp = np.ones((n + 1, m + 1)) * float('inf')\n",
    "    cdef int i,j\n",
    "    dp[0,0] = 0.0\n",
    "    for i in range(1, n + 1):\n",
    "        for j in range(max(1, i-w), min(m + 1, i+w)):\n",
    "            dp[i][j] = euc(x[i - 1, :], y[j - 1, :]) + min3(\n",
    "                dp[i - 1][j - 1],\n",
    "                GAP_PENALTY + dp[i - 1][j    ],\n",
    "                GAP_PENALTY + dp[i    ][j - 1]\n",
    "            )\n",
    "    if np.isinf(dp[n][m]):\n",
    "        print('\\t\\tERROR: inf in warping')\n",
    "    return dp[n][m] / (n + m)\n",
    "\n",
    "latent = pickle.load( open( \"data.p\", \"rb\" ) )\n",
    "print(len(latent))\n",
    "n = len(latent)\n",
    "start = time.time()\n",
    "cdef np.ndarray distances = np.ones((n, n)) * float('inf')\n",
    "cdef int i,j\n",
    "for i in range(0, n):\n",
    "    if i % 10 == 0:\n",
    "        end = time.time()\n",
    "        print(\"\\t{} / {} in {} [sec]\".format(i, n, end - start))\n",
    "        start = time.time()\n",
    "    for j in range(i, n):\n",
    "        x = latent[i]\n",
    "        y = latent[j]\n",
    "        if np.abs(len(x[0]) - len(y[0])) < 5:\n",
    "            distances[i][j] = dtw(x[0], y[0])\n",
    "pickle.dump(distances, open( \"distances.p\", \"wb\" ) )"
   ]
  },
  {
   "cell_type": "code",
   "execution_count": 93,
   "metadata": {},
   "outputs": [
    {
     "data": {
      "image/png": "[encoded data removed]",
      "text/plain": [
       "<Figure size 432x288 with 1 Axes>"
      ]
     },
     "metadata": {
      "needs_background": "light"
     },
     "output_type": "display_data"
    },
    {
     "name": "stdout",
     "output_type": "stream",
     "text": [
      "5.373010011514028\n",
      "9.393783569335938\n"
     ]
    },
    {
     "data": {
      "image/png": "[encoded data removed]",
      "text/plain": [
       "<Figure size 432x288 with 1 Axes>"
      ]
     },
     "metadata": {
      "needs_background": "light"
     },
     "output_type": "display_data"
    }
   ],
   "source": [
    "import numpy as np\n",
    "import pickle\n",
    "import matplotlib.pyplot as plt\n",
    "import random\n",
    "\n",
    "latent    = pickle.load( open( \"data.p\", \"rb\" ) )\n",
    "distances = pickle.load( open( \"distances.p\", \"rb\" ) )\n",
    "\n",
    "f = [f for f in distances.flatten() if not np.isinf(f)]\n",
    "random.shuffle(f)\n",
    "th = np.percentile(f, 15)\n",
    "\n",
    "plt.plot(sorted(f[0:1000]))\n",
    "plt.plot(np.ones(1000) * th)\n",
    "plt.show()\n",
    "print(th)\n",
    "max_val = np.max([d for d in distances.flatten() if not np.isinf(d)])\n",
    "print(max_val)\n",
    "for i in range(len(distances)):\n",
    "    for j in range(len(distances)):\n",
    "        if np.isinf(distances[i][j]):\n",
    "            distances[i][j] = distances[j][i]\n",
    "        if np.isnan(distances[i][j]) or np.isinf(distances[i][j]):\n",
    "            distances[i][j] = max_val\n",
    "plt.imshow(distances, cmap='gray')\n",
    "plt.show()"
   ]
  },
  {
   "cell_type": "code",
   "execution_count": 94,
   "metadata": {},
   "outputs": [
    {
     "name": "stdout",
     "output_type": "stream",
     "text": [
      "Distances < 5.373010011514028: 21036 / 309136 = 0.06804772009730345\n"
     ]
    }
   ],
   "source": [
    "n = len([x for x in distances.flatten() if x < th])\n",
    "print(\"Distances < {}: {} / {} = {}\".format(th, n, len(distances.flatten()), n / len(distances.flatten())))"
   ]
  },
  {
   "cell_type": "code",
   "execution_count": 95,
   "metadata": {},
   "outputs": [],
   "source": [
    "pickle.dump(distances, open( \"distances_normal.p\", \"wb\" ))"
   ]
  },
  {
   "cell_type": "code",
   "execution_count": 96,
   "metadata": {},
   "outputs": [],
   "source": [
    "import pickle\n",
    "import matplotlib.pyplot as plt\n",
    "latent = pickle.load( open( \"data.p\", \"rb\" ) )\n",
    "distances = pickle.load( open( \"distances_normal.p\", \"rb\" ) )"
   ]
  },
  {
   "cell_type": "code",
   "execution_count": 97,
   "metadata": {},
   "outputs": [],
   "source": [
    "import sklearn\n",
    "from sklearn.cluster import AgglomerativeClustering"
   ]
  },
  {
   "cell_type": "code",
   "execution_count": 98,
   "metadata": {},
   "outputs": [],
   "source": [
    "ac = AgglomerativeClustering(\n",
    "    n_clusters=None, \n",
    "    affinity='precomputed', \n",
    "    linkage='average', \n",
    "    distance_threshold=th\n",
    ")\n",
    "clusters = ac.fit_predict(distances)"
   ]
  },
  {
   "cell_type": "code",
   "execution_count": 99,
   "metadata": {},
   "outputs": [],
   "source": [
    "c = [[] for i in range(len(set(clusters)))]\n",
    "for i, cluster_id in enumerate(clusters):\n",
    "    latent[i][1:][0]['cluster'] = cluster_id\n",
    "    c[cluster_id].append(latent[i][1:][0])"
   ]
  },
  {
   "cell_type": "code",
   "execution_count": 100,
   "metadata": {},
   "outputs": [
    {
     "name": "stdout",
     "output_type": "stream",
     "text": [
      "91\n",
      "[4, 5, 4, 2, 2, 2, 2, 3, 10, 2, 22, 2, 5, 2, 3, 2, 3, 2, 3, 2, 4, 2, 3, 2, 2, 3, 7, 3, 2, 5, 2, 2, 5, 112, 2, 2, 2, 3, 2, 3, 3, 2, 4, 3, 2, 2, 2, 2, 4, 3, 2, 2, 3, 2, 2, 3, 2, 3, 2, 2, 2, 3, 2, 2, 2, 3, 2, 3, 2, 2, 6, 2, 3, 2, 2, 2, 2, 2, 2, 2, 3, 2, 2, 2, 2, 2, 2, 2, 2, 2, 2]\n",
      "371\n"
     ]
    }
   ],
   "source": [
    "final_clustering = [c for c in c if len(c) > 1 and len(c) < 800]\n",
    "pickle.dump(final_clustering, open( \"final_clustering.p\", \"wb\" ) )\n",
    "print(len(final_clustering))\n",
    "print([len(c) for c in final_clustering])\n",
    "print(sum([len(c) for c in final_clustering]))"
   ]
  },
  {
   "cell_type": "code",
   "execution_count": 101,
   "metadata": {
    "scrolled": true
   },
   "outputs": [
    {
     "name": "stdout",
     "output_type": "stream",
     "text": [
      "Infile converted from .m4a to \".wav\"\n",
      "data read in!\n",
      "864\n",
      "Infile converted from .m4a to \".wav\"\n",
      "data read in!\n",
      "864\n",
      "Infile converted from .m4a to \".wav\"\n",
      "data read in!\n",
      "864\n",
      "Cluster: 2 11\n",
      "Infile converted from .m4a to \".wav\"\n",
      "data read in!\n",
      "864\n",
      "Cluster: 5 12\n",
      "Cluster: 2 13\n",
      "Cluster: 3 14\n",
      "Infile converted from .m4a to \".wav\"\n",
      "data read in!\n",
      "864\n",
      "Cluster: 2 15\n",
      "Cluster: 3 16\n",
      "Infile converted from .m4a to \".wav\"\n",
      "data read in!\n",
      "864\n",
      "Cluster: 2 17\n",
      "Infile converted from .m4a to \".wav\"\n",
      "data read in!\n",
      "864\n",
      "Cluster: 3 18\n",
      "Cluster: 2 19\n",
      "Cluster: 4 20\n",
      "Cluster: 2 21\n",
      "Cluster: 3 22\n",
      "Cluster: 2 23\n",
      "Cluster: 2 24\n",
      "Cluster: 3 25\n",
      "Cluster: 7 26\n",
      "Infile converted from .m4a to \".wav\"\n",
      "data read in!\n",
      "1632\n",
      "Cluster: 3 27\n",
      "Cluster: 2 28\n",
      "Cluster: 5 29\n",
      "Cluster: 2 30\n",
      "Infile converted from .m4a to \".wav\"\n",
      "data read in!\n",
      "1632\n",
      "Cluster: 2 31\n",
      "Cluster: 5 32\n",
      "Cluster: 112 33\n",
      "Infile converted from .m4a to \".wav\"\n",
      "data read in!\n",
      "1632\n",
      "Infile converted from .m4a to \".wav\"\n",
      "data read in!\n",
      "1632\n",
      "Infile converted from .m4a to \".wav\"\n",
      "data read in!\n",
      "1632\n",
      "Infile converted from .m4a to \".wav\"\n",
      "data read in!\n",
      "1632\n",
      "Infile converted from .m4a to \".wav\"\n",
      "data read in!\n",
      "1632\n",
      "Infile converted from .m4a to \".wav\"\n",
      "data read in!\n",
      "1632\n",
      "Infile converted from .m4a to \".wav\"\n",
      "data read in!\n",
      "1632\n",
      "Infile converted from .m4a to \".wav\"\n",
      "data read in!\n",
      "1632\n",
      "Cluster: 2 34\n",
      "Cluster: 2 35\n",
      "Cluster: 2 36\n",
      "Cluster: 3 37\n",
      "Cluster: 2 38\n",
      "Infile converted from .m4a to \".wav\"\n",
      "data read in!\n",
      "1632\n",
      "Cluster: 3 39\n",
      "Cluster: 3 40\n",
      "Cluster: 2 41\n",
      "Cluster: 4 42\n",
      "Cluster: 3 43\n",
      "Cluster: 2 44\n",
      "Cluster: 2 45\n",
      "Cluster: 2 46\n",
      "Cluster: 2 47\n",
      "Cluster: 4 48\n",
      "Cluster: 3 49\n",
      "Cluster: 2 50\n",
      "Cluster: 2 51\n",
      "Cluster: 3 52\n",
      "Cluster: 2 53\n",
      "Cluster: 2 54\n",
      "Cluster: 3 55\n",
      "Infile converted from .m4a to \".wav\"\n",
      "data read in!\n",
      "1632\n",
      "Cluster: 2 56\n",
      "Cluster: 3 57\n",
      "Cluster: 2 58\n",
      "Cluster: 2 59\n",
      "Cluster: 2 60\n",
      "Cluster: 3 61\n",
      "Cluster: 2 62\n",
      "Cluster: 2 63\n",
      "Infile converted from .m4a to \".wav\"\n",
      "data read in!\n",
      "1632\n",
      "Cluster: 2 64\n",
      "Cluster: 3 65\n",
      "Cluster: 2 66\n",
      "Cluster: 3 67\n",
      "Infile converted from .m4a to \".wav\"\n",
      "data read in!\n",
      "1632\n",
      "Cluster: 2 68\n",
      "Cluster: 2 69\n",
      "Cluster: 6 70\n",
      "Cluster: 2 71\n",
      "Cluster: 3 72\n",
      "Cluster: 2 73\n",
      "Cluster: 2 74\n",
      "Cluster: 2 75\n",
      "Cluster: 2 76\n",
      "Cluster: 2 77\n",
      "Cluster: 2 78\n",
      "Cluster: 2 79\n",
      "Cluster: 3 80\n",
      "Cluster: 2 81\n",
      "Cluster: 2 82\n",
      "Cluster: 2 83\n",
      "Cluster: 2 84\n",
      "Cluster: 2 85\n",
      "Cluster: 2 86\n",
      "Cluster: 2 87\n",
      "Cluster: 2 88\n",
      "Cluster: 2 89\n",
      "Cluster: 2 90\n"
     ]
    }
   ],
   "source": [
    "from scipy.io import wavfile\n",
    "import sys\n",
    "from google.cloud import storage\n",
    "import pickle\n",
    "import random \n",
    "\n",
    "final_clustering = pickle.load(open( \"final_clustering.p\", \"rb\" ))\n",
    "print([len(c) for c in final_clustering])\n",
    "\n",
    "print(\"CLUSTERS: \", len(final_clustering))\n",
    "\n",
    "cache = {}\n",
    "client = storage.Client.from_service_account_json('../secret.json')\n",
    "bucket = client.get_bucket('wdp-data')\n",
    "\n",
    "cx = 0\n",
    "skip = 0\n",
    "for cluster in final_clustering:\n",
    "    if cx >= skip:\n",
    "        n = len(cluster)\n",
    "        print(\"Cluster: {} {}\".format(n, cx))\n",
    "        audio = []\n",
    "        sampled_cluster = cluster.copy()\n",
    "        random.shuffle(sampled_cluster)\n",
    "        #sampled_cluster = sampled_cluster[:10]\n",
    "        for i, region in enumerate(sampled_cluster):\n",
    "            path = \"audio_files/{}/{}\".format(region['year'], region['filename'])\n",
    "            if path in cache:\n",
    "                stream = cache[path]\n",
    "            else:                \n",
    "                with open(\"/tmp/audio.m4a\", \"wb\") as file_obj:\n",
    "                    blob = bucket.blob(path)\n",
    "                    blob.download_to_file(file_obj)\n",
    "                stream = StreamSpectrogram(\"/tmp/audio.m4a\", [region['start']], [region['stop']])\n",
    "                cache[path] = stream              \n",
    "                print(sys.getsizeof(cache))\n",
    "            spec = fwd_spectrogram(stream.data[region['start']:region['stop']])\n",
    "            audio.extend(stream.data[region['start']:region['stop']])\n",
    "            audio.extend(np.zeros(stream.fs // 10))    \n",
    "        audio = np.array(audio, dtype=audio[0].dtype)\n",
    "        wavfile.write('../data/results/cluster_{}.wav'.format(cx), stream.fs, audio)\n",
    "    cx += 1"
   ]
  },
  {
   "cell_type": "code",
   "execution_count": 102,
   "metadata": {},
   "outputs": [
    {
     "name": "stdout",
     "output_type": "stream",
     "text": [
      "4046\n"
     ]
    }
   ],
   "source": [
    "max_id = run_query(\"\"\"\n",
    "    SELECT \n",
    "        max(id)\n",
    "    FROM \n",
    "        wdp_ds.clustering_results\n",
    "    \"\"\")\n",
    "if max_id[0]['max(id)'] is None:\n",
    "    max_id = 0\n",
    "else:\n",
    "    max_id = max_id[0]['max(id)']\n",
    "print(max_id)"
   ]
  },
  {
   "cell_type": "code",
   "execution_count": 103,
   "metadata": {},
   "outputs": [],
   "source": [
    "import pickle\n",
    "final_clustering = pickle.load(open( \"final_clustering.p\", \"rb\" ))\n",
    "\n",
    "with db.connect() as conn:\n",
    "    id = max_id + 1\n",
    "    for cluster in final_clustering:\n",
    "        for r in cluster:\n",
    "            query = \"INSERT INTO wdp_ds.clustering_results VALUES({}, {}, '{}', {}, {}, '{}', {}, CURRENT_TIMESTAMP)\".format(\n",
    "                id, r['encoding'], r['filename'], r['start'], r['stop'], 'agglomerative_dtw_convnet_v5_1', r['cluster'])        \n",
    "            conn.execute(query)  \n",
    "            id += 1"
   ]
  },
  {
   "cell_type": "code",
   "execution_count": null,
   "metadata": {},
   "outputs": [],
   "source": []
  }
 ],
 "metadata": {
  "kernelspec": {
   "display_name": "Python 3",
   "language": "python",
   "name": "python3"
  },
  "language_info": {
   "codemirror_mode": {
    "name": "ipython",
    "version": 3
   },
   "file_extension": ".py",
   "mimetype": "text/x-python",
   "name": "python",
   "nbconvert_exporter": "python",
   "pygments_lexer": "ipython3",
   "version": "3.5.3"
  }
 },
 "nbformat": 4,
 "nbformat_minor": 4
}
