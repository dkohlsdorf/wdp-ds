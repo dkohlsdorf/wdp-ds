{
 "cells": [
  {
   "cell_type": "code",
   "execution_count": null,
   "metadata": {},
   "outputs": [],
   "source": [
    "!python3 -m pip install cython\n",
    "!python3 -m pip install PyMySQL\n",
    "!python3 -m pip install SQLAlchemy\n",
    "!python3 -m pip install google-cloud-storage\n",
    "!python3 -m pip install --upgrade --quiet scikit-sound\n",
    "!python3 -m pip install --upgrade --quiet pygame\n",
    "!python3 -m pip install scikit-learn==0.21rc2\n",
    "\n",
    "!sudo apt-get -y install ffmpeg\n",
    "!sudo apt-get -y install python3-pymysql"
   ]
  },
  {
   "cell_type": "code",
   "execution_count": 19,
   "metadata": {},
   "outputs": [],
   "source": [
    "import sqlalchemy\n",
    "import numpy as np\n",
    "\n",
    "from google.cloud import storage\n",
    "from numpy.fft import fft, ifft\n",
    "from sksound.sounds import Sound\n",
    "\n",
    "from tensorflow.keras.models import load_model"
   ]
  },
  {
   "cell_type": "code",
   "execution_count": 3,
   "metadata": {},
   "outputs": [],
   "source": [
    "# PASSWORDS AND STUFF HERE"
   ]
  },
  {
   "cell_type": "code",
   "execution_count": 4,
   "metadata": {},
   "outputs": [],
   "source": [
    "settings = {\n",
    "   'user': db_user,\n",
    "   'pass': db_password,\n",
    "   'host': host,\n",
    "     'db': db_name\n",
    "}\n",
    "url = 'mysql+pymysql://{user}:{pass}@{host}/{db}'.format(**settings)  # 5432 is the default port\n",
    "db = sqlalchemy.create_engine(url)\n",
    "\n",
    "def run_query(query):\n",
    "    with db.connect() as conn:\n",
    "        rows = []\n",
    "        for row in conn.execute(query).fetchall():\n",
    "            rows.append(dict(row.items()))\n",
    "        return rows\n",
    "    \n",
    "regions = run_query(\"\"\"\n",
    "    SELECT \n",
    "        x.encoding, y.year, x.filename, x.start, x.stop\n",
    "    FROM \n",
    "        wdp_ds.not_silent x\n",
    "    JOIN \n",
    "        wdp_ds.encoding y \n",
    "    ON x.encoding = y.encoding;\n",
    "\"\"\")"
   ]
  },
  {
   "cell_type": "code",
   "execution_count": 4,
   "metadata": {},
   "outputs": [],
   "source": [
    "client = storage.Client.from_service_account_json('../secret.json')\n",
    "bucket = client.get_bucket('wdp-data')"
   ]
  },
  {
   "cell_type": "code",
   "execution_count": 5,
   "metadata": {},
   "outputs": [
    {
     "name": "stdout",
     "output_type": "stream",
     "text": [
      "43\n"
     ]
    }
   ],
   "source": [
    "regions_by_file = {}\n",
    "for region in regions:\n",
    "    k = \"audio_files/{}/{}\".format(region['year'], region['filename'])\n",
    "    r = region\n",
    "    if k not in regions_by_file:\n",
    "        regions_by_file[k] = []\n",
    "    regions_by_file[k].append(r)\n",
    "print(len(regions_by_file))"
   ]
  },
  {
   "cell_type": "code",
   "execution_count": 20,
   "metadata": {},
   "outputs": [],
   "source": [
    "highpass=25\n",
    "\n",
    "class StreamSpectrogram:\n",
    "    \n",
    "    def __init__(self, filename, starts, stops, win=128):\n",
    "        sound = Sound(filename)      \n",
    "        self.ranges = [x for x in zip(starts, stops)]\n",
    "        self.starts = starts\n",
    "        self.stops = stops\n",
    "        self.data  = sound.data\n",
    "        self.fs    = sound.rate\n",
    "        if len(self.data.shape) > 1:\n",
    "            self.data = self.data[:, 0]    \n",
    "        self.win = win\n",
    "\n",
    "    def __iter__(self):\n",
    "        self.i = 0\n",
    "        return self\n",
    "\n",
    "    def __next__(self):        \n",
    "        if self.i < len(self.ranges): \n",
    "            start, stop = self.ranges[self.i]\n",
    "            w = 512 + 2 * highpass\n",
    "            if start - w > 0:\n",
    "                raw   = self.data[start - w:stop]\n",
    "                spec  = fwd_spectrogram(raw, win=w)[:, 0:256] \n",
    "                t,d   = spec.shape\n",
    "                if t >= self.win:\n",
    "                    current = []        \n",
    "                    for i in range(self.win, t + 1, self.win // 10):\n",
    "                        x      = np.reshape(spec[i - self.win:i], (self.win, d, 1))\n",
    "                        mu     = np.mean(x)\n",
    "                        std    = np.std(x) + 1.0\n",
    "                        window = (x - mu) / std\n",
    "                        current.append(window)\n",
    "                    self.i += 1\n",
    "                    return np.stack(current)\n",
    "                else:\n",
    "                    self.i += 1\n",
    "                    return None\n",
    "            else:\n",
    "                self.i += 1\n",
    "                return None\n",
    "        else:\n",
    "            raise StopIteration                    \n",
    "            \n",
    "def fwd_spectrogram(audio, win=512, step=64):\n",
    "    '''\n",
    "    Compute the spectrogram of audio data\n",
    "\n",
    "    audio: one channel audio\n",
    "    win: window size for dft sliding window\n",
    "    step: step size for dft sliding windo\n",
    "    '''\n",
    "    spectrogram = []\n",
    "    hanning = np.hanning(win)\n",
    "    for i in range(win, len(audio), step):\n",
    "        start = win // 2\n",
    "        dft = np.abs(fft(audio[i - win: i] * hanning))[start:win]\n",
    "        spectrogram.append(dft)\n",
    "    return np.array(spectrogram)"
   ]
  },
  {
   "cell_type": "code",
   "execution_count": 8,
   "metadata": {
    "scrolled": true
   },
   "outputs": [
    {
     "name": "stdout",
     "output_type": "stream",
     "text": [
      "audio_files/2011/05111101.m4a 2267 794\n",
      "Infile converted from .m4a to \".wav\"\n",
      "data read in!\n",
      "audio_files/2011/06121102.m4a 2287 20\n",
      "Infile converted from .m4a to \".wav\"\n",
      "data read in!\n",
      "audio_files/2011/06111101.m4a 2336 49\n",
      "Infile converted from .m4a to \".wav\"\n",
      "data read in!\n",
      "audio_files/2011/06141101C.m4a 2358 22\n",
      "Infile converted from .m4a to \".wav\"\n",
      "data read in!\n",
      "audio_files/2011/05271101.m4a 2543 185\n",
      "Infile converted from .m4a to \".wav\"\n",
      "data read in!\n",
      "audio_files/2011/07131101.m4a 2777 234\n",
      "Infile converted from .m4a to \".wav\"\n",
      "data read in!\n",
      "audio_files/2011/05161101.m4a 2827 50\n",
      "Infile converted from .m4a to \".wav\"\n",
      "data read in!\n",
      "audio_files/2011/05161102.m4a 2924 97\n",
      "Infile converted from .m4a to \".wav\"\n",
      "data read in!\n",
      "audio_files/2011/06121101C.m4a 2950 27\n",
      "Infile converted from .m4a to \".wav\"\n",
      "data read in!\n",
      "audio_files/2011/06281102C.m4a 3016 66\n",
      "Infile converted from .m4a to \".wav\"\n",
      "data read in!\n",
      "audio_files/2011/08111101C.m4a 3023 7\n",
      "Infile converted from .m4a to \".wav\"\n",
      "data read in!\n",
      "audio_files/2011/05141102.m4a 3041 18\n",
      "Infile converted from .m4a to \".wav\"\n",
      "data read in!\n",
      "audio_files/2011/05261103C.m4a 3047 6\n",
      "Infile converted from .m4a to \".wav\"\n",
      "data read in!\n",
      "audio_files/2011/05261102C.m4a 3069 22\n",
      "Infile converted from .m4a to \".wav\"\n",
      "data read in!\n",
      "audio_files/2011/06281102.m4a 3168 99\n",
      "Infile converted from .m4a to \".wav\"\n",
      "data read in!\n",
      "audio_files/2011/05261101C.m4a 3184 16\n",
      "Infile converted from .m4a to \".wav\"\n",
      "data read in!\n",
      "audio_files/2011/05291103.m4a 3200 16\n",
      "Infile converted from .m4a to \".wav\"\n",
      "data read in!\n",
      "audio_files/2011/06151101.m4a 3222 22\n",
      "Infile converted from .m4a to \".wav\"\n",
      "data read in!\n",
      "audio_files/2011/06121103.m4a 3230 8\n",
      "Infile converted from .m4a to \".wav\"\n",
      "data read in!\n",
      "audio_files/2011/08031101.m4a 3359 129\n",
      "Infile converted from .m4a to \".wav\"\n",
      "data read in!\n",
      "audio_files/2011/05121101.m4a 3819 460\n",
      "Infile converted from .m4a to \".wav\"\n",
      "data read in!\n",
      "audio_files/2011/08141101.m4a 4500 681\n",
      "Infile converted from .m4a to \".wav\"\n",
      "data read in!\n",
      "audio_files/2011/06261102.m4a 4565 65\n",
      "Infile converted from .m4a to \".wav\"\n",
      "data read in!\n",
      "audio_files/2011/05131101.m4a 4625 60\n",
      "Infile converted from .m4a to \".wav\"\n",
      "data read in!\n",
      "audio_files/2011/06231103.m4a 4718 93\n",
      "Infile converted from .m4a to \".wav\"\n",
      "data read in!\n",
      "audio_files/2011/08161101.m4a 4858 140\n",
      "Infile converted from .m4a to \".wav\"\n",
      "data read in!\n",
      "audio_files/2011/05311101.m4a 4984 126\n",
      "Infile converted from .m4a to \".wav\"\n",
      "data read in!\n",
      "audio_files/2011/05281101.m4a 5085 101\n",
      "Infile converted from .m4a to \".wav\"\n",
      "data read in!\n",
      "audio_files/2011/06271101.m4a 5158 73\n",
      "Infile converted from .m4a to \".wav\"\n",
      "data read in!\n",
      "audio_files/2011/06131103.m4a 5188 30\n"
     ]
    }
   ],
   "source": [
    "#encoder = load_model('../models/lstm_v4/v4.2/encoder.h5')\n",
    "import sys\n",
    "sys.path.append(\"../ml\") \n",
    "\n",
    "models = '../models/lstm_v4/v4.2/'\n",
    "\n",
    "from train_silence_detector import detector\n",
    "from train_lstm_auto_encoder_variational import VAE\n",
    "\n",
    "vae = VAE()\n",
    "vae.auto_encoder((128, 256, 1), 128, 256 * 128, 128)\n",
    "encoder = vae.encoder \n",
    "encoder.load_weights('{}encoder.h5'.format(models))\n",
    "\n",
    "idx     = list(regions_by_file.keys()) \n",
    "files   = {}\n",
    "latent  = [] \n",
    "for path in idx:    \n",
    "    with open(\"/tmp/audio.m4a\", \"wb\") as file_obj:\n",
    "        blob = bucket.blob(path)\n",
    "        blob.download_to_file(file_obj)\n",
    "    stream = StreamSpectrogram(\"/tmp/audio.m4a\", [r['start'] for r in regions_by_file[path]], [r['stop'] for r in regions_by_file[path]])\n",
    "    for i, region in enumerate(stream):\n",
    "        r = regions_by_file[path][i]\n",
    "        x = region\n",
    "        if x is not None:\n",
    "            h = encoder.predict(x)\n",
    "            latent.append([h, r])\n",
    "    print(path, len(latent), len(regions_by_file[path]))"
   ]
  },
  {
   "cell_type": "code",
   "execution_count": 9,
   "metadata": {},
   "outputs": [
    {
     "name": "stdout",
     "output_type": "stream",
     "text": [
      "5188\n"
     ]
    }
   ],
   "source": [
    "import pickle\n",
    "print(len(latent))\n",
    "pickle.dump( latent, open( \"data.p\", \"wb\" ) )"
   ]
  },
  {
   "cell_type": "code",
   "execution_count": 5,
   "metadata": {},
   "outputs": [
    {
     "name": "stdout",
     "output_type": "stream",
     "text": [
      "5188\n"
     ]
    },
    {
     "data": {
      "image/png": "[encoded data removed]",
      "text/plain": [
       "<Figure size 432x288 with 1 Axes>"
      ]
     },
     "metadata": {
      "needs_background": "light"
     },
     "output_type": "display_data"
    }
   ],
   "source": [
    "import pickle\n",
    "import matplotlib.pyplot as plt\n",
    "\n",
    "latent = pickle.load( open( \"data.p\", \"rb\" ) )\n",
    "print(len(latent))\n",
    "x = [len(l[0]) for l in latent]\n",
    "plt.hist(x, bins=250)\n",
    "plt.show()"
   ]
  },
  {
   "cell_type": "code",
   "execution_count": 6,
   "metadata": {},
   "outputs": [],
   "source": [
    "%load_ext Cython"
   ]
  },
  {
   "cell_type": "code",
   "execution_count": 7,
   "metadata": {
    "scrolled": true
   },
   "outputs": [
    {
     "name": "stdout",
     "output_type": "stream",
     "text": [
      "\t4770 / 5188 in 0.3074474334716797 [sec]\n",
      "\t4780 / 5188 in 0.2789640426635742 [sec]\n",
      "\t4790 / 5188 in 0.2077484130859375 [sec]\n",
      "\t4800 / 5188 in 0.20785903930664062 [sec]\n",
      "\t4810 / 5188 in 0.17184233665466309 [sec]\n",
      "\t4820 / 5188 in 0.238969087600708 [sec]\n",
      "\t4830 / 5188 in 0.18320703506469727 [sec]\n",
      "\t4840 / 5188 in 0.16177010536193848 [sec]\n",
      "\t4850 / 5188 in 0.2353827953338623 [sec]\n",
      "\t4860 / 5188 in 0.1207578182220459 [sec]\n",
      "\t4870 / 5188 in 0.3231356143951416 [sec]\n",
      "\t4880 / 5188 in 0.5890650749206543 [sec]\n",
      "\t4890 / 5188 in 0.07281970977783203 [sec]\n",
      "\t4900 / 5188 in 0.10083770751953125 [sec]\n",
      "\t4910 / 5188 in 0.1743793487548828 [sec]\n",
      "\t4920 / 5188 in 0.20536231994628906 [sec]\n",
      "\t4930 / 5188 in 0.19031119346618652 [sec]\n",
      "\t4940 / 5188 in 0.10016369819641113 [sec]\n",
      "\t4950 / 5188 in 0.2302086353302002 [sec]\n",
      "\t4960 / 5188 in 0.2341291904449463 [sec]\n",
      "\t4970 / 5188 in 0.13728761672973633 [sec]\n",
      "\t4980 / 5188 in 0.07523298263549805 [sec]\n",
      "\t4990 / 5188 in 0.06677532196044922 [sec]\n",
      "\t5000 / 5188 in 0.08729219436645508 [sec]\n",
      "\t5010 / 5188 in 0.041451215744018555 [sec]\n",
      "\t5020 / 5188 in 0.045026302337646484 [sec]\n",
      "\t5030 / 5188 in 0.8823602199554443 [sec]\n",
      "\t5040 / 5188 in 0.2257990837097168 [sec]\n",
      "\t5050 / 5188 in 0.13169503211975098 [sec]\n",
      "\t5060 / 5188 in 0.056398630142211914 [sec]\n",
      "\t5070 / 5188 in 0.05045032501220703 [sec]\n",
      "\t5080 / 5188 in 0.0627892017364502 [sec]\n",
      "\t5090 / 5188 in 0.07867288589477539 [sec]\n",
      "\t5100 / 5188 in 0.05586409568786621 [sec]\n",
      "\t5110 / 5188 in 0.059209346771240234 [sec]\n",
      "\t5120 / 5188 in 0.06591343879699707 [sec]\n",
      "\t5130 / 5188 in 0.02997589111328125 [sec]\n",
      "\t5140 / 5188 in 0.03518414497375488 [sec]\n",
      "\t5150 / 5188 in 0.011900663375854492 [sec]\n",
      "\t5160 / 5188 in 0.055168867111206055 [sec]\n",
      "\t5170 / 5188 in 0.042534828186035156 [sec]\n",
      "\t5180 / 5188 in 0.09490776062011719 [sec]\n"
     ]
    }
   ],
   "source": [
    "%%cython\n",
    "import pickle\n",
    "import numpy as np\n",
    "import matplotlib.pyplot as plt\n",
    "cimport numpy as np\n",
    "import time\n",
    "\n",
    "DTYPE = np.float\n",
    "GAP_PENALTY = 10.0\n",
    "\n",
    "cdef double euc(np.ndarray x, np.ndarray y):\n",
    "    return np.sqrt(np.sum(np.square(x - y)))\n",
    "\n",
    "cdef double min3(float x, float y, float z):\n",
    "    cdef float minimum = x\n",
    "    if y < minimum:\n",
    "        minimum = y\n",
    "    if z < minimum:\n",
    "        minimum = z\n",
    "    return minimum\n",
    "\n",
    "cdef double dtw(np.ndarray x, np.ndarray y):\n",
    "    cdef int n = x.shape[0]\n",
    "    cdef int m = y.shape[0]\n",
    "    cdef int w = max(round((n + m) / 10), abs(n - m) + 2)\n",
    "    \n",
    "    cdef np.ndarray dp = np.ones((n + 1, m + 1)) * float('inf')\n",
    "    cdef int i,j\n",
    "    dp[0,0] = 0.0\n",
    "    for i in range(1, n + 1):\n",
    "        for j in range(max(1, i-w), min(m + 1, i+w)):\n",
    "            dp[i][j] = euc(x[i - 1, :], y[j - 1, :]) + min3(\n",
    "                dp[i - 1][j - 1],\n",
    "                GAP_PENALTY + dp[i - 1][j    ],\n",
    "                GAP_PENALTY + dp[i    ][j - 1]\n",
    "            )\n",
    "    if np.isinf(dp[n][m]):\n",
    "        print('\\t\\tERROR: inf in warping')\n",
    "    return dp[n][m] / (n + m)\n",
    "\n",
    "latent = pickle.load( open( \"data.p\", \"rb\" ) )\n",
    "print(len(latent))\n",
    "n = len(latent)\n",
    "start = time.time()\n",
    "cdef np.ndarray distances = np.ones((n, n)) * float('inf')\n",
    "cdef int i,j\n",
    "for i in range(0, n):\n",
    "    if i % 10 == 0:\n",
    "        end = time.time()\n",
    "        print(\"\\t{} / {} in {} [sec]\".format(i, n, end - start))\n",
    "        start = time.time()\n",
    "    for j in range(i, n):\n",
    "        x = latent[i]\n",
    "        y = latent[j]\n",
    "        if np.abs(len(x[0]) - len(y[0])) < 5:\n",
    "            distances[i][j] = dtw(x[0], y[0])\n",
    "pickle.dump(distances, open( \"distances.p\", \"wb\" ) )"
   ]
  },
  {
   "cell_type": "code",
   "execution_count": 8,
   "metadata": {},
   "outputs": [
    {
     "data": {
      "image/png": "[encoded data removed]",
      "text/plain": [
       "<Figure size 432x288 with 1 Axes>"
      ]
     },
     "metadata": {
      "needs_background": "light"
     },
     "output_type": "display_data"
    },
    {
     "name": "stdout",
     "output_type": "stream",
     "text": [
      "7.402124949296315\n",
      "10.671923637390137\n"
     ]
    },
    {
     "data": {
      "image/png": "[encoded data removed]",
      "text/plain": [
       "<Figure size 432x288 with 1 Axes>"
      ]
     },
     "metadata": {
      "needs_background": "light"
     },
     "output_type": "display_data"
    }
   ],
   "source": [
    "import numpy as np\n",
    "import pickle\n",
    "import matplotlib.pyplot as plt\n",
    "import random\n",
    "\n",
    "latent    = pickle.load( open( \"data.p\", \"rb\" ) )\n",
    "distances = pickle.load( open( \"distances.p\", \"rb\" ) )\n",
    "\n",
    "f = [f for f in distances.flatten() if not np.isinf(f)]\n",
    "random.shuffle(f)\n",
    "th = np.percentile(f, 15)\n",
    "\n",
    "plt.plot(sorted(f[0:1000]))\n",
    "plt.plot(np.ones(1000) * th)\n",
    "plt.show()\n",
    "print(th)\n",
    "max_val = np.max([d for d in distances.flatten() if not np.isinf(d)])\n",
    "print(max_val)\n",
    "for i in range(len(distances)):\n",
    "    for j in range(len(distances)):\n",
    "        if np.isinf(distances[i][j]):\n",
    "            distances[i][j] = distances[j][i]\n",
    "        if np.isnan(distances[i][j]) or np.isinf(distances[i][j]):\n",
    "            distances[i][j] = max_val\n",
    "plt.imshow(distances, cmap='gray')\n",
    "plt.show()"
   ]
  },
  {
   "cell_type": "code",
   "execution_count": 25,
   "metadata": {},
   "outputs": [
    {
     "name": "stdout",
     "output_type": "stream",
     "text": [
      "Distances < 7.402124949296315: 5188 / 26915344 = 0.00019275250578257516\n"
     ]
    }
   ],
   "source": [
    "n = len([x for x in distances.flatten() if x < th])\n",
    "print(\"Distances < {}: {} / {} = {}\".format(th, n, len(distances.flatten()), n / len(distances.flatten())))"
   ]
  },
  {
   "cell_type": "code",
   "execution_count": 10,
   "metadata": {},
   "outputs": [],
   "source": [
    "pickle.dump(distances, open( \"distances_normal.p\", \"wb\" ))"
   ]
  },
  {
   "cell_type": "code",
   "execution_count": 31,
   "metadata": {},
   "outputs": [],
   "source": [
    "import pickle\n",
    "import matplotlib.pyplot as plt\n",
    "latent = pickle.load( open( \"data.p\", \"rb\" ) )\n",
    "distances = pickle.load( open( \"distances_normal.p\", \"rb\" ) )\n",
    "th = 6"
   ]
  },
  {
   "cell_type": "code",
   "execution_count": 32,
   "metadata": {},
   "outputs": [],
   "source": [
    "import sklearn\n",
    "from sklearn.cluster import AgglomerativeClustering"
   ]
  },
  {
   "cell_type": "code",
   "execution_count": 33,
   "metadata": {},
   "outputs": [],
   "source": [
    "ac = AgglomerativeClustering(\n",
    "    n_clusters=None, \n",
    "    affinity='precomputed', \n",
    "    linkage='average', \n",
    "    distance_threshold=th\n",
    ")\n",
    "clusters = ac.fit_predict(distances)"
   ]
  },
  {
   "cell_type": "code",
   "execution_count": 34,
   "metadata": {},
   "outputs": [],
   "source": [
    "c = [[] for i in range(len(set(clusters)))]\n",
    "for i, cluster_id in enumerate(clusters):\n",
    "    latent[i][1:][0]['cluster'] = cluster_id\n",
    "    c[cluster_id].append(latent[i][1:][0])"
   ]
  },
  {
   "cell_type": "code",
   "execution_count": 35,
   "metadata": {},
   "outputs": [
    {
     "name": "stdout",
     "output_type": "stream",
     "text": [
      "73\n",
      "[2, 2, 2, 2, 2, 2, 2, 2, 2, 2, 2, 2, 2, 2, 2, 2, 2, 2, 3, 2, 2, 2, 2, 2, 2, 2, 2, 2, 2, 2, 2, 2, 2, 2, 2, 2, 2, 2, 2, 2, 2, 2, 2, 2, 2, 2, 2, 2, 2, 2, 2, 2, 3, 2, 2, 2, 2, 2, 2, 2, 2, 2, 2, 2, 2, 2, 3, 2, 2, 2, 2, 2, 2]\n",
      "149\n"
     ]
    }
   ],
   "source": [
    "final_clustering = [c for c in c if len(c) > 1 and len(c) < 800]\n",
    "pickle.dump(final_clustering, open( \"final_clustering.p\", \"wb\" ) )\n",
    "print(len(final_clustering))\n",
    "print([len(c) for c in final_clustering])\n",
    "print(sum([len(c) for c in final_clustering]))"
   ]
  },
  {
   "cell_type": "code",
   "execution_count": 43,
   "metadata": {
    "scrolled": true
   },
   "outputs": [
    {
     "name": "stdout",
     "output_type": "stream",
     "text": [
      "[2, 2, 2, 2, 2, 2, 2, 2, 2, 2, 2, 2, 2, 2, 2, 2, 2, 2, 3, 2, 2, 2, 2, 2, 2, 2, 2, 2, 2, 2, 2, 2, 2, 2, 2, 2, 2, 2, 2, 2, 2, 2, 2, 2, 2, 2, 2, 2, 2, 2, 2, 2, 3, 2, 2, 2, 2, 2, 2, 2, 2, 2, 2, 2, 2, 2, 3, 2, 2, 2, 2, 2, 2]\n",
      "CLUSTERS:  73\n",
      "Cluster: 2 58\n",
      "Infile converted from .m4a to \".wav\"\n",
      "data read in!\n",
      "288\n",
      "Infile converted from .m4a to \".wav\"\n",
      "data read in!\n",
      "288\n",
      "Cluster: 2 59\n",
      "Infile converted from .m4a to \".wav\"\n",
      "data read in!\n",
      "288\n",
      "Infile converted from .m4a to \".wav\"\n",
      "data read in!\n",
      "288\n",
      "Cluster: 2 60\n",
      "Infile converted from .m4a to \".wav\"\n",
      "data read in!\n",
      "288\n",
      "Cluster: 2 61\n",
      "Infile converted from .m4a to \".wav\"\n",
      "data read in!\n",
      "480\n",
      "Infile converted from .m4a to \".wav\"\n",
      "data read in!\n",
      "480\n",
      "Cluster: 2 62\n",
      "Infile converted from .m4a to \".wav\"\n",
      "data read in!\n",
      "480\n",
      "Cluster: 2 63\n",
      "Infile converted from .m4a to \".wav\"\n",
      "data read in!\n",
      "480\n",
      "Infile converted from .m4a to \".wav\"\n",
      "data read in!\n",
      "480\n",
      "Cluster: 2 64\n",
      "Infile converted from .m4a to \".wav\"\n",
      "data read in!\n",
      "480\n",
      "Cluster: 2 65\n",
      "Infile converted from .m4a to \".wav\"\n",
      "data read in!\n",
      "864\n",
      "Infile converted from .m4a to \".wav\"\n",
      "data read in!\n",
      "864\n",
      "Cluster: 3 66\n",
      "Infile converted from .m4a to \".wav\"\n",
      "data read in!\n",
      "864\n",
      "Infile converted from .m4a to \".wav\"\n",
      "data read in!\n",
      "864\n",
      "Cluster: 2 67\n",
      "Infile converted from .m4a to \".wav\"\n",
      "data read in!\n",
      "864\n",
      "Cluster: 2 68\n",
      "Infile converted from .m4a to \".wav\"\n",
      "data read in!\n",
      "864\n",
      "Cluster: 2 69\n",
      "Infile converted from .m4a to \".wav\"\n",
      "data read in!\n",
      "864\n",
      "Cluster: 2 70\n",
      "Infile converted from .m4a to \".wav\"\n",
      "data read in!\n",
      "864\n",
      "Infile converted from .m4a to \".wav\"\n",
      "data read in!\n",
      "864\n",
      "Cluster: 2 71\n",
      "Cluster: 2 72\n",
      "Infile converted from .m4a to \".wav\"\n",
      "data read in!\n",
      "864\n"
     ]
    }
   ],
   "source": [
    "from scipy.io import wavfile\n",
    "import sys\n",
    "from google.cloud import storage\n",
    "import pickle\n",
    "import random \n",
    "\n",
    "final_clustering = pickle.load(open( \"final_clustering.p\", \"rb\" ))\n",
    "print([len(c) for c in final_clustering])\n",
    "\n",
    "print(\"CLUSTERS: \", len(final_clustering))\n",
    "\n",
    "cache = {}\n",
    "client = storage.Client.from_service_account_json('../secret.json')\n",
    "bucket = client.get_bucket('wdp-data')\n",
    "\n",
    "cx = 0\n",
    "skip = 58\n",
    "for cluster in final_clustering:\n",
    "    if cx >= skip:\n",
    "        n = len(cluster)\n",
    "        print(\"Cluster: {} {}\".format(n, cx))\n",
    "        audio = []\n",
    "        sampled_cluster = cluster.copy()\n",
    "        random.shuffle(sampled_cluster)\n",
    "        #sampled_cluster = sampled_cluster[:10]\n",
    "        for i, region in enumerate(sampled_cluster):\n",
    "            path = \"audio_files/{}/{}\".format(region['year'], region['filename'])\n",
    "            if path in cache:\n",
    "                stream = cache[path]\n",
    "            else:                \n",
    "                with open(\"/tmp/audio.m4a\", \"wb\") as file_obj:\n",
    "                    blob = bucket.blob(path)\n",
    "                    blob.download_to_file(file_obj)\n",
    "                stream = StreamSpectrogram(\"/tmp/audio.m4a\", [region['start']], [region['stop']])\n",
    "                cache[path] = stream              \n",
    "                print(sys.getsizeof(cache))\n",
    "            spec = fwd_spectrogram(stream.data[region['start']:region['stop']])\n",
    "            audio.extend(stream.data[region['start']:region['stop']])\n",
    "            audio.extend(np.zeros(stream.fs // 10))    \n",
    "        audio = np.array(audio, dtype=audio[0].dtype)\n",
    "        wavfile.write('../data/results/cluster_{}.wav'.format(cx), stream.fs, audio)\n",
    "    cx += 1"
   ]
  },
  {
   "cell_type": "code",
   "execution_count": 38,
   "metadata": {},
   "outputs": [
    {
     "name": "stdout",
     "output_type": "stream",
     "text": [
      "4453\n"
     ]
    }
   ],
   "source": [
    "max_id = run_query(\"\"\"\n",
    "    SELECT \n",
    "        max(id)\n",
    "    FROM \n",
    "        wdp_ds.clustering_results\n",
    "    \"\"\")\n",
    "if max_id[0]['max(id)'] is None:\n",
    "    max_id = 0\n",
    "else:\n",
    "    max_id = max_id[0]['max(id)']\n",
    "print(max_id)"
   ]
  },
  {
   "cell_type": "code",
   "execution_count": 39,
   "metadata": {},
   "outputs": [],
   "source": [
    "import pickle\n",
    "final_clustering = pickle.load(open( \"final_clustering.p\", \"rb\" ))\n",
    "\n",
    "with db.connect() as conn:\n",
    "    id = max_id + 1\n",
    "    for cluster in final_clustering:\n",
    "        for r in cluster:\n",
    "            query = \"INSERT INTO wdp_ds.clustering_results VALUES({}, {}, '{}', {}, {}, '{}', {}, CURRENT_TIMESTAMP)\".format(\n",
    "                id, r['encoding'], r['filename'], r['start'], r['stop'], 'agglomerative_dtw_lstm_v4_2', r['cluster'])        \n",
    "            conn.execute(query)  \n",
    "            id += 1"
   ]
  },
  {
   "cell_type": "code",
   "execution_count": null,
   "metadata": {},
   "outputs": [],
   "source": []
  }
 ],
 "metadata": {
  "kernelspec": {
   "display_name": "Python 3",
   "language": "python",
   "name": "python3"
  },
  "language_info": {
   "codemirror_mode": {
    "name": "ipython",
    "version": 3
   },
   "file_extension": ".py",
   "mimetype": "text/x-python",
   "name": "python",
   "nbconvert_exporter": "python",
   "pygments_lexer": "ipython3",
   "version": "3.5.3"
  }
 },
 "nbformat": 4,
 "nbformat_minor": 4
}
