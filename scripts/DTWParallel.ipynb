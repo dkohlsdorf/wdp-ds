{
 "cells": [
  {
   "cell_type": "code",
   "execution_count": 4,
   "metadata": {},
   "outputs": [
    {
     "name": "stdout",
     "output_type": "stream",
     "text": [
      "Successfully installed apache-beam-2.16.0 avro-python3-1.9.1 crcmod-1.7 dill-0.3.0 docopt-0.6.2 fastavro-0.21.24 fasteners-0.15 google-apitools-0.5.28 google-cloud-bigquery-1.17.1 google-cloud-bigtable-1.0.0 google-cloud-datastore-1.7.4 google-cloud-pubsub-1.0.2 hdfs-2.5.8 httplib2-0.12.0 mock-2.0.0 monotonic-1.5 oauth2client-3.0.0 pbr-5.4.3 pymongo-3.9.0 pyyaml-3.13\n"
     ]
    }
   ],
   "source": [
    "!python3 -m pip install PyMySQL\n",
    "!python3 -m pip install SQLAlchemy\n",
    "!python3 -m pip install google-cloud-storage\n",
    "!python3 -m pip install --upgrade --quiet scikit-sound\n",
    "!python3 -m pip install --upgrade --quiet pygame\n",
    "!sudo apt-get -y install ffmpeg\n",
    "!sudo apt-get -y install python3-pymysql\n",
    "!python3 -m pip install apache-beam[gcp]"
   ]
  },
  {
   "cell_type": "code",
   "execution_count": null,
   "metadata": {},
   "outputs": [
    {
     "name": "stderr",
     "output_type": "stream",
     "text": [
      "WARNING:root:--region not set; will default to us-central1. Future releases of Beam will require the user to set the region explicitly. https://cloud.google.com/compute/docs/regions-zones/regions-zones\n"
     ]
    }
   ],
   "source": [
    "import apache_beam as beam\n",
    "from apache_beam.options.pipeline_options import GoogleCloudOptions, PipelineOptions, StandardOptions\n",
    "import pickle\n",
    "import numpy as np\n",
    "\n",
    "options = PipelineOptions()\n",
    "google_cloud_options = options.view_as(GoogleCloudOptions)\n",
    "google_cloud_options.project = 'wdp-ds'\n",
    "google_cloud_options.job_name = 'heavy-dtw'\n",
    "google_cloud_options.staging_location = 'gs://wdp-data/binaries'\n",
    "google_cloud_options.temp_location = 'gs://wdp-data/temp'\n",
    "options.view_as(StandardOptions).runner = 'DataflowRunner'\n",
    "\n",
    "\n",
    "\n",
    "outputs_prefix = 'gs://wdp-data/distances.txt'\n",
    "with beam.Pipeline(options=options) as p:\n",
    "    \n",
    "    latent = pickle.load( open( \"data.p\", \"rb\" ) )\n",
    "    def dtw_jobs():\n",
    "        for i in range(len(latent)):\n",
    "            for j in range(len(latent)):\n",
    "                if i < j and abs(len(latent[i][0]) - len(latent[j][0])):\n",
    "                    yield (i,j)\n",
    "\n",
    "    def dtw(job):\n",
    "        import numpy as np\n",
    "        GAP_PENALTY = 10.0\n",
    "        id_i = job[0]\n",
    "        id_j = job[1]\n",
    "        x = latent[id_i][0]\n",
    "        y = latent[id_j][0]\n",
    "        n = x.shape[0]\n",
    "        m = y.shape[0]\n",
    "        w = max(round((n + m) / 10), abs(n - m) + 2)\n",
    "\n",
    "        dp = np.ones((n + 1, m + 1)) * float('inf')\n",
    "        dp[0,0] = 0.0\n",
    "        for i in range(1, n + 1):\n",
    "            for j in range(max(1, i-w), min(m + 1, i+w)):\n",
    "                dp[i][j] =  np.sqrt(np.sum(np.square(x[i - 1, :] - y[j - 1, :]))) + min([\n",
    "                    dp[i - 1][j - 1],\n",
    "                    GAP_PENALTY + dp[i - 1][j    ],\n",
    "                    GAP_PENALTY + dp[i    ][j - 1]\n",
    "                ])\n",
    "        if np.isinf(dp[n][m]):\n",
    "            print('\\t\\tERROR: inf in warping')\n",
    "        return (id_i, id_j, dp[n][m] / (n + m))\n",
    "\n",
    "    jobs = p | 'Create Jobs' >> beam.Create(dtw_jobs())\n",
    "    distances = (\n",
    "        jobs \n",
    "        | 'PairwiseDistance' >> beam.Map(dtw)\n",
    "    )\n",
    "    (\n",
    "      distances\n",
    "      | 'Format results' >> beam.Map(lambda result: '{}, {}, {}'.format(result[0], result[1], result[2]))\n",
    "      | 'Write results' >> beam.io.WriteToText(outputs_prefix, num_shards=1)\n",
    "    )\n",
    "    result = p.run()\n",
    "    result.wait_until_finish()"
   ]
  },
  {
   "cell_type": "code",
   "execution_count": null,
   "metadata": {},
   "outputs": [],
   "source": []
  }
 ],
 "metadata": {
  "kernelspec": {
   "display_name": "Python 3",
   "language": "python",
   "name": "python3"
  },
  "language_info": {
   "codemirror_mode": {
    "name": "ipython",
    "version": 3
   },
   "file_extension": ".py",
   "mimetype": "text/x-python",
   "name": "python",
   "nbconvert_exporter": "python",
   "pygments_lexer": "ipython3",
   "version": "3.5.3"
  }
 },
 "nbformat": 4,
 "nbformat_minor": 4
}
