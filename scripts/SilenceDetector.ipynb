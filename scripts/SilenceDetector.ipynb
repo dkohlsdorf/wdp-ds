{
 "cells": [
  {
   "cell_type": "code",
   "execution_count": null,
   "metadata": {},
   "outputs": [],
   "source": [
    "!python3 -m pip install PyMySQL\n",
    "!python3 -m pip install SQLAlchemy\n",
    "!python3 -m pip install google-cloud-storage\n",
    "!python3 -m pip install --upgrade --quiet scikit-sound\n",
    "!python3 -m pip install --upgrade --quiet pygame\n",
    "!sudo apt-get -y install ffmpeg\n",
    "!sudo apt-get -y install python3-pymysql"
   ]
  },
  {
   "cell_type": "code",
   "execution_count": 26,
   "metadata": {},
   "outputs": [],
   "source": [
    "import sqlalchemy\n",
    "import numpy as np\n",
    "\n",
    "from google.cloud import storage\n",
    "from numpy.fft import fft, ifft\n",
    "from sksound.sounds import Sound\n",
    "\n",
    "from tensorflow.keras.models import load_model"
   ]
  },
  {
   "cell_type": "code",
   "execution_count": 27,
   "metadata": {},
   "outputs": [],
   "source": [
    "class StreamSpectrogram:\n",
    "    \n",
    "    def __init__(self, filename, win=32):\n",
    "        sound = Sound(filename)        \n",
    "        self.batch = sound.rate * 60\n",
    "        self.data  = sound.data\n",
    "        if len(self.data.shape) > 1:\n",
    "            self.data = self.data[:, 0]    \n",
    "        self.win = win\n",
    "        self.filter = filter\n",
    "        \n",
    "    def __iter__(self):\n",
    "        self.i = 0\n",
    "        return self\n",
    "\n",
    "    def __next__(self):\n",
    "        if (self.i + 1) * self.batch < len(self.data): \n",
    "            start = self.i       * self.batch\n",
    "            stop  = (self.i + 1) * self.batch\n",
    "            raw   = self.data[start:stop]\n",
    "            spec  = fwd_spectrogram(raw) \n",
    "            t,d   = spec.shape\n",
    "            current = []        \n",
    "            for i in range(self.win, t, self.win // 2):\n",
    "                x      = np.reshape(spec[i - self.win:i], (self.win, d, 1))\n",
    "                mu     = np.mean(x)\n",
    "                std    = np.std(x) + 1.0\n",
    "                window = (x - mu) / std\n",
    "                current.append(window)\n",
    "            self.i += 1\n",
    "            return np.stack(current)\n",
    "        else:\n",
    "            raise StopIteration\n",
    "        \n",
    "def fwd_spectrogram(audio, win=512, step=256):\n",
    "    '''\n",
    "    Compute the spectrogram of audio data\n",
    "\n",
    "    audio: one channel audio\n",
    "    win: window size for dft sliding window\n",
    "    step: step size for dft sliding windo\n",
    "    '''\n",
    "    spectrogram = []\n",
    "    hanning = np.hanning(win)\n",
    "    for i in range(win, len(audio), step):\n",
    "        start = win // 2\n",
    "        dft = np.abs(fft(audio[i - win: i] * hanning))[start:win]\n",
    "        spectrogram.append(dft)\n",
    "    return np.array(spectrogram)"
   ]
  },
  {
   "cell_type": "code",
   "execution_count": 28,
   "metadata": {},
   "outputs": [],
   "source": [
    "# PASSWORDS AND STUFF HERE"
   ]
  },
  {
   "cell_type": "code",
   "execution_count": 29,
   "metadata": {},
   "outputs": [],
   "source": [
    "settings = {\n",
    "   'user': db_user,\n",
    "   'pass': db_password,\n",
    "   'host': host,\n",
    "     'db': db_name\n",
    "}\n",
    "url = 'mysql+pymysql://{user}:{pass}@{host}/{db}'.format(**settings)  # 5432 is the default port\n",
    "db = sqlalchemy.create_engine(url)"
   ]
  },
  {
   "cell_type": "code",
   "execution_count": 30,
   "metadata": {},
   "outputs": [],
   "source": [
    "def run_query(query):\n",
    "    with db.connect() as conn:\n",
    "        rows = []\n",
    "        for row in conn.execute(query).fetchall():\n",
    "            rows.append(dict(row.items()))\n",
    "        return rows"
   ]
  },
  {
   "cell_type": "code",
   "execution_count": 31,
   "metadata": {},
   "outputs": [],
   "source": [
    "files = run_query(\"\"\"\n",
    "    SELECT \n",
    "        x.encoding, y.year, x.filename \n",
    "    FROM \n",
    "        wdp_ds.audio x \n",
    "    JOIN wdp_ds.encoding y ON x.encoding = y.encoding;\n",
    "\"\"\")"
   ]
  },
  {
   "cell_type": "code",
   "execution_count": 32,
   "metadata": {},
   "outputs": [],
   "source": [
    "paths = [\"audio_files/{}/{}\".format(file['year'], file['filename']) for file in files]"
   ]
  },
  {
   "cell_type": "code",
   "execution_count": 33,
   "metadata": {},
   "outputs": [
    {
     "name": "stdout",
     "output_type": "stream",
     "text": [
      "2113\n"
     ]
    }
   ],
   "source": [
    "max_id = run_query(\"\"\"\n",
    "    SELECT \n",
    "        max(id)\n",
    "    FROM \n",
    "        wdp_ds.not_silent\n",
    "    \"\"\")\n",
    "if max_id[0]['max(id)'] is None:\n",
    "    max_id = 0\n",
    "else:\n",
    "    max_id = max_id[0]['max(id)']\n",
    "print(max_id)"
   ]
  },
  {
   "cell_type": "code",
   "execution_count": 22,
   "metadata": {},
   "outputs": [],
   "source": [
    "noise_classifier = load_model('sil.h5')\n",
    "client = storage.Client.from_service_account_json('secret.json')\n",
    "bucket = client.get_bucket('wdp-data')"
   ]
  },
  {
   "cell_type": "code",
   "execution_count": null,
   "metadata": {},
   "outputs": [],
   "source": [
    "id = max_id + 1\n",
    "for path, file_dict in zip(paths, files):\n",
    "    print(path, file_dict)\n",
    "    with open(\"/tmp/audio.m4a\", \"wb\") as file_obj:\n",
    "        blob = bucket.blob(path)\n",
    "        blob.download_to_file(file_obj)\n",
    "    stream = StreamSpectrogram(\"/tmp/audio.m4a\")\n",
    "    not_noise = []\n",
    "    for x in stream:\n",
    "        y = noise_classifier.predict(x).flatten()\n",
    "        not_noise.extend([int(np.round(sample)) == 0 for sample in y])\n",
    "\n",
    "    regions = []\n",
    "    for i in range(0, len(not_noise)):\n",
    "        if not_noise[i]:\n",
    "            start = i * 16 * 256 \n",
    "            stop  = (i + 1) * 16 * 256 \n",
    "            if len(regions) > 0: \n",
    "                last  = regions[-1]\n",
    "                if start - last[1] < 48000 * 0.75:\n",
    "                    start       = regions[-1][0]\n",
    "                    regions[-1] = (start, stop)\n",
    "                else:\n",
    "                    regions.append((start, stop))\n",
    "            else:\n",
    "                regions.append((start, stop))\n",
    "    regions = [(start, stop) for start, stop in regions if stop - start > (16 * 256)]\n",
    "    if len(regions) > 0:\n",
    "        with db.connect() as conn:\n",
    "            for start, stop in regions:                \n",
    "                conn.execute(\"INSERT INTO wdp_ds.not_silent VALUES ({}, {}, '{}', {}, {})\".format(id, file_dict['encoding'], file_dict['filename'], start, stop))  \n",
    "                id += 1\n",
    "    print(file_dict['encoding'], \": \", regions)"
   ]
  },
  {
   "cell_type": "code",
   "execution_count": null,
   "metadata": {},
   "outputs": [],
   "source": []
  }
 ],
 "metadata": {
  "kernelspec": {
   "display_name": "Python 3",
   "language": "python",
   "name": "python3"
  },
  "language_info": {
   "codemirror_mode": {
    "name": "ipython",
    "version": 3
   },
   "file_extension": ".py",
   "mimetype": "text/x-python",
   "name": "python",
   "nbconvert_exporter": "python",
   "pygments_lexer": "ipython3",
   "version": "3.5.3"
  }
 },
 "nbformat": 4,
 "nbformat_minor": 4
}
