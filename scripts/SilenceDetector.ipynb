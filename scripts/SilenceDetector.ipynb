{
 "cells": [
  {
   "cell_type": "code",
   "execution_count": 1,
   "metadata": {},
   "outputs": [
    {
     "name": "stdout",
     "output_type": "stream",
     "text": [
      "pygame 1.9.6\n",
      "Hello from the pygame community. https://www.pygame.org/contribute.html\n"
     ]
    }
   ],
   "source": [
    "import sqlalchemy\n",
    "import numpy as np\n",
    "\n",
    "from google.cloud import storage\n",
    "from numpy.fft import fft, ifft\n",
    "from sksound.sounds import Sound\n",
    "\n",
    "from tensorflow.keras.models import load_model"
   ]
  },
  {
   "cell_type": "code",
   "execution_count": 2,
   "metadata": {},
   "outputs": [],
   "source": [
    "def fwd_spectrogram(audio, win=512, step=256):\n",
    "    '''\n",
    "    Compute the spectrogram of audio data\n",
    "\n",
    "    audio: one channel audio\n",
    "    win: window size for dft sliding window\n",
    "    step: step size for dft sliding windo\n",
    "    '''\n",
    "    spectrogram = []\n",
    "    hanning = np.hanning(win)\n",
    "    for i in range(win, len(audio), step):\n",
    "        start = win // 2\n",
    "        dft = np.abs(fft(audio[i - win: i] * hanning))[start:win]\n",
    "        spectrogram.append(dft)\n",
    "    return np.array(spectrogram)\n",
    "\n",
    "def spectrogram_from_file(filename, win=512, step=256, filter=25):\n",
    "    '''\n",
    "    Read audio and convert to z-normalized spectrogram  \n",
    "    filename: path to the file\n",
    "    max_len: clip files\n",
    "    '''\n",
    "    \n",
    "    sound = Sound(filename) \n",
    "    data  = sound.data\n",
    "    if len(data.shape) > 1:\n",
    "        data = data[:, 0]    \n",
    "    spec =fwd_spectrogram(data)\n",
    "    spec[:filter] = 0.0\n",
    "    return spec\n",
    "\n",
    "def data_gen(file, win):\n",
    "    spec = spectrogram_from_file(file) \n",
    "    (t, d) = spec.shape\n",
    "    for i in range(win, t, win // 2):\n",
    "        x = np.reshape(spec[i - win:i], (win,d,1))\n",
    "        mu  = np.mean(x)\n",
    "        std = np.std(x) + 1.0\n",
    "        yield (x - mu) / std\n"
   ]
  },
  {
   "cell_type": "code",
   "execution_count": 4,
   "metadata": {},
   "outputs": [],
   "source": [
    "# PASSWORDS AND STUFF HERE"
   ]
  },
  {
   "cell_type": "code",
   "execution_count": 5,
   "metadata": {},
   "outputs": [],
   "source": [
    "settings = {\n",
    "   'user': db_user,\n",
    "   'pass': db_password,\n",
    "   'host': host,\n",
    "     'db': db_name\n",
    "}\n",
    "url = 'mysql+pymysql://{user}:{pass}@{host}/{db}'.format(**settings)  # 5432 is the default port\n",
    "db = sqlalchemy.create_engine(url)"
   ]
  },
  {
   "cell_type": "code",
   "execution_count": 6,
   "metadata": {},
   "outputs": [],
   "source": [
    "def run_query(query):\n",
    "    with db.connect() as conn:\n",
    "        rows = []\n",
    "        for row in conn.execute(query).fetchall():\n",
    "            rows.append(dict(row.items()))\n",
    "        return rows"
   ]
  },
  {
   "cell_type": "code",
   "execution_count": 7,
   "metadata": {},
   "outputs": [],
   "source": [
    "files = run_query(\"\"\"\n",
    "    SELECT \n",
    "        x.encoding, y.year, x.filename \n",
    "    FROM \n",
    "        wdp_ds.audio x \n",
    "    JOIN wdp_ds.encoding y ON x.encoding = y.encoding;\n",
    "\"\"\")"
   ]
  },
  {
   "cell_type": "code",
   "execution_count": 8,
   "metadata": {},
   "outputs": [],
   "source": [
    "paths = [\"audio_files/{}/{}\".format(file['year'], file['filename']) for file in files]"
   ]
  },
  {
   "cell_type": "code",
   "execution_count": 18,
   "metadata": {},
   "outputs": [],
   "source": [
    "max_id = run_query(\"\"\"\n",
    "    SELECT \n",
    "        max(id)\n",
    "    FROM \n",
    "        wdp_ds.not_silent\n",
    "    \"\"\")\n",
    "max_id = max_id[0]['max(id)']"
   ]
  },
  {
   "cell_type": "code",
   "execution_count": null,
   "metadata": {},
   "outputs": [
    {
     "name": "stdout",
     "output_type": "stream",
     "text": [
      "Infile converted from .m4a to \".wav\"\n",
      "data read in!\n"
     ]
    }
   ],
   "source": [
    "noise_classifier = load_model('sil.h5')\n",
    "client = storage.Client.from_service_account_json('secret.json')\n",
    "bucket = client.get_bucket('wdp-data')\n",
    "id = max_id\n",
    "skip_until = 5281102\n",
    "process    = False\n",
    "for path, file_dict in zip(paths, files):\n",
    "    if file_dict['encoding'] == 5281102 or skip_until is None:\n",
    "        process = True\n",
    "    if process:\n",
    "        blob = bucket.blob(path)\n",
    "        with open(\"/tmp/audio.m4a\", \"wb\") as file_obj:\n",
    "            blob.download_to_file(file_obj)\n",
    "        x = np.stack([x for x in data_gen(\"/tmp/audio.m4a\", 32)])   \n",
    "        y = noise_classifier.predict(x).flatten()\n",
    "        not_noise = [sample == 0 for sample in y]\n",
    "        regions = []\n",
    "        for i in range(0, len(not_noise)):\n",
    "            if not_noise[i]:\n",
    "                start = i * 16 * 256 \n",
    "                stop  = (i + 1) * 16 * 256 \n",
    "                if len(regions) > 0: \n",
    "                    last  = regions[-1]\n",
    "                    if start - last[1] < 48000 * 0.75:\n",
    "                        start       = regions[-1][0]\n",
    "                        regions[-1] = (start, stop)\n",
    "                    else:\n",
    "                        regions.append((start, stop))\n",
    "                else:\n",
    "                    regions.append((start, stop))\n",
    "        regions = [(start, stop) for start, stop in regions if stop - start > (16 * 256)]\n",
    "        if len(regions) > 0:\n",
    "            with db.connect() as conn:\n",
    "                for start, stop in regions:                \n",
    "                    conn.execute(\"INSERT INTO wdp_ds.not_silent VALUES ({}, {}, {}, {})\".format(id, file_dict['encoding'], start, stop))  \n",
    "                    id += 1\n",
    "        print(file_dict['encoding'], \": \", regions)"
   ]
  },
  {
   "cell_type": "code",
   "execution_count": null,
   "metadata": {},
   "outputs": [],
   "source": []
  }
 ],
 "metadata": {
  "kernelspec": {
   "display_name": "Python 3",
   "language": "python",
   "name": "python3"
  },
  "language_info": {
   "codemirror_mode": {
    "name": "ipython",
    "version": 3
   },
   "file_extension": ".py",
   "mimetype": "text/x-python",
   "name": "python",
   "nbconvert_exporter": "python",
   "pygments_lexer": "ipython3",
   "version": "3.5.3"
  }
 },
 "nbformat": 4,
 "nbformat_minor": 4
}
