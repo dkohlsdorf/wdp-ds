{
 "cells": [
  {
   "cell_type": "code",
   "execution_count": 1,
   "metadata": {},
   "outputs": [
    {
     "name": "stdout",
     "output_type": "stream",
     "text": [
      "Requirement already satisfied: PyMySQL in ./.local/lib/python3.5/site-packages\n",
      "Requirement already satisfied: SQLAlchemy in /usr/local/lib/python3.5/dist-packages\n",
      "Requirement already satisfied: google-cloud-storage in /usr/local/lib/python3.5/dist-packages\n",
      "Requirement already satisfied: google-auth>=1.2.0 in /usr/local/lib/python3.5/dist-packages (from google-cloud-storage)\n",
      "Requirement already satisfied: google-cloud-core<2.0dev,>=1.0.3 in /usr/local/lib/python3.5/dist-packages (from google-cloud-storage)\n",
      "Requirement already satisfied: google-resumable-media!=0.4.0,<0.5dev,>=0.3.1 in /usr/local/lib/python3.5/dist-packages (from google-cloud-storage)\n",
      "Requirement already satisfied: rsa>=3.1.4 in /usr/local/lib/python3.5/dist-packages (from google-auth>=1.2.0->google-cloud-storage)\n",
      "Requirement already satisfied: pyasn1-modules>=0.2.1 in /usr/local/lib/python3.5/dist-packages (from google-auth>=1.2.0->google-cloud-storage)\n",
      "Requirement already satisfied: six>=1.9.0 in /usr/local/lib/python3.5/dist-packages (from google-auth>=1.2.0->google-cloud-storage)\n",
      "Requirement already satisfied: cachetools>=2.0.0 in /usr/local/lib/python3.5/dist-packages (from google-auth>=1.2.0->google-cloud-storage)\n",
      "Requirement already satisfied: google-api-core<2.0.0dev,>=1.14.0 in /usr/local/lib/python3.5/dist-packages (from google-cloud-core<2.0dev,>=1.0.3->google-cloud-storage)\n",
      "Requirement already satisfied: pyasn1>=0.1.3 in /usr/local/lib/python3.5/dist-packages (from rsa>=3.1.4->google-auth>=1.2.0->google-cloud-storage)\n",
      "Requirement already satisfied: pytz in /usr/local/lib/python3.5/dist-packages (from google-api-core<2.0.0dev,>=1.14.0->google-cloud-core<2.0dev,>=1.0.3->google-cloud-storage)\n",
      "Requirement already satisfied: protobuf>=3.4.0 in /usr/local/lib/python3.5/dist-packages (from google-api-core<2.0.0dev,>=1.14.0->google-cloud-core<2.0dev,>=1.0.3->google-cloud-storage)\n",
      "Requirement already satisfied: setuptools>=34.0.0 in /usr/local/lib/python3.5/dist-packages (from google-api-core<2.0.0dev,>=1.14.0->google-cloud-core<2.0dev,>=1.0.3->google-cloud-storage)\n",
      "Requirement already satisfied: googleapis-common-protos<2.0dev,>=1.6.0 in /usr/local/lib/python3.5/dist-packages (from google-api-core<2.0.0dev,>=1.14.0->google-cloud-core<2.0dev,>=1.0.3->google-cloud-storage)\n",
      "Requirement already satisfied: requests<3.0.0dev,>=2.18.0 in /usr/local/lib/python3.5/dist-packages (from google-api-core<2.0.0dev,>=1.14.0->google-cloud-core<2.0dev,>=1.0.3->google-cloud-storage)\n",
      "Requirement already satisfied: chardet<3.1.0,>=3.0.2 in /usr/local/lib/python3.5/dist-packages (from requests<3.0.0dev,>=2.18.0->google-api-core<2.0.0dev,>=1.14.0->google-cloud-core<2.0dev,>=1.0.3->google-cloud-storage)\n",
      "Requirement already satisfied: urllib3!=1.25.0,!=1.25.1,<1.26,>=1.21.1 in /usr/local/lib/python3.5/dist-packages (from requests<3.0.0dev,>=2.18.0->google-api-core<2.0.0dev,>=1.14.0->google-cloud-core<2.0dev,>=1.0.3->google-cloud-storage)\n",
      "Requirement already satisfied: idna<2.9,>=2.5 in /usr/local/lib/python3.5/dist-packages (from requests<3.0.0dev,>=2.18.0->google-api-core<2.0.0dev,>=1.14.0->google-cloud-core<2.0dev,>=1.0.3->google-cloud-storage)\n",
      "Requirement already satisfied: certifi>=2017.4.17 in /usr/local/lib/python3.5/dist-packages (from requests<3.0.0dev,>=2.18.0->google-api-core<2.0.0dev,>=1.14.0->google-cloud-core<2.0dev,>=1.0.3->google-cloud-storage)\n",
      "Reading package lists... Done\n",
      "Building dependency tree       \n",
      "Reading state information... Done\n",
      "ffmpeg is already the newest version (7:3.2.14-1~deb9u1).\n",
      "0 upgraded, 0 newly installed, 0 to remove and 0 not upgraded.\n",
      "Reading package lists... Done\n",
      "Building dependency tree       \n",
      "Reading state information... Done\n",
      "python3-pymysql is already the newest version (0.7.10-1).\n",
      "0 upgraded, 0 newly installed, 0 to remove and 0 not upgraded.\n"
     ]
    }
   ],
   "source": [
    "!python3 -m pip install PyMySQL\n",
    "!python3 -m pip install SQLAlchemy\n",
    "!python3 -m pip install google-cloud-storage\n",
    "!python3 -m pip install --upgrade --quiet scikit-sound\n",
    "!python3 -m pip install --upgrade --quiet pygame\n",
    "!sudo apt-get -y install ffmpeg\n",
    "!sudo apt-get -y install python3-pymysql"
   ]
  },
  {
   "cell_type": "code",
   "execution_count": 2,
   "metadata": {},
   "outputs": [
    {
     "name": "stdout",
     "output_type": "stream",
     "text": [
      "pygame 1.9.6\n",
      "Hello from the pygame community. https://www.pygame.org/contribute.html\n"
     ]
    }
   ],
   "source": [
    "import sqlalchemy\n",
    "import numpy as np\n",
    "\n",
    "from google.cloud import storage\n",
    "from numpy.fft import fft, ifft\n",
    "from sksound.sounds import Sound\n",
    "\n",
    "from tensorflow.keras.models import load_model"
   ]
  },
  {
   "cell_type": "code",
   "execution_count": 3,
   "metadata": {},
   "outputs": [],
   "source": [
    "class StreamSpectrogram:\n",
    "    \n",
    "    def __init__(self, filename, win=32, filter=25):\n",
    "        sound = Sound(filename)        \n",
    "        self.batch = sound.rate * 60\n",
    "        self.data  = sound.data\n",
    "        if len(self.data.shape) > 1:\n",
    "            self.data = self.data[:, 0]    \n",
    "        self.win = win\n",
    "        self.filter = filter\n",
    "        \n",
    "    def __iter__(self):\n",
    "        self.i = 0\n",
    "        return self\n",
    "\n",
    "    def __next__(self):\n",
    "        if (self.i + 1) * self.batch < len(self.data): \n",
    "            start = self.i       * self.batch\n",
    "            stop  = (self.i + 1) * self.batch\n",
    "            raw   = self.data[start:stop]\n",
    "            spec  = fwd_spectrogram(raw) \n",
    "            t,d   = spec.shape\n",
    "            spec[:self.filter] = 0.0\n",
    "            current = []        \n",
    "            for i in range(self.win, t, self.win // 2):\n",
    "                x      = np.reshape(spec[i - self.win:i], (self.win, d, 1))\n",
    "                mu     = np.mean(x)\n",
    "                std    = np.std(x) + 1.0\n",
    "                window = (x - mu) / std\n",
    "                current.append(window)\n",
    "            self.i += 1\n",
    "            return np.stack(current)\n",
    "        else:\n",
    "            raise StopIteration\n",
    "        \n",
    "def fwd_spectrogram(audio, win=512, step=256):\n",
    "    '''\n",
    "    Compute the spectrogram of audio data\n",
    "\n",
    "    audio: one channel audio\n",
    "    win: window size for dft sliding window\n",
    "    step: step size for dft sliding windo\n",
    "    '''\n",
    "    spectrogram = []\n",
    "    hanning = np.hanning(win)\n",
    "    for i in range(win, len(audio), step):\n",
    "        start = win // 2\n",
    "        dft = np.abs(fft(audio[i - win: i] * hanning))[start:win]\n",
    "        spectrogram.append(dft)\n",
    "    return np.array(spectrogram)"
   ]
  },
  {
   "cell_type": "code",
   "execution_count": 4,
   "metadata": {},
   "outputs": [],
   "source": [
    "# PASSWORDS AND STUFF HERE"
   ]
  },
  {
   "cell_type": "code",
   "execution_count": 5,
   "metadata": {},
   "outputs": [],
   "source": [
    "settings = {\n",
    "   'user': db_user,\n",
    "   'pass': db_password,\n",
    "   'host': host,\n",
    "     'db': db_name\n",
    "}\n",
    "url = 'mysql+pymysql://{user}:{pass}@{host}/{db}'.format(**settings)  # 5432 is the default port\n",
    "db = sqlalchemy.create_engine(url)"
   ]
  },
  {
   "cell_type": "code",
   "execution_count": 6,
   "metadata": {},
   "outputs": [],
   "source": [
    "def run_query(query):\n",
    "    with db.connect() as conn:\n",
    "        rows = []\n",
    "        for row in conn.execute(query).fetchall():\n",
    "            rows.append(dict(row.items()))\n",
    "        return rows"
   ]
  },
  {
   "cell_type": "code",
   "execution_count": 7,
   "metadata": {},
   "outputs": [],
   "source": [
    "files = run_query(\"\"\"\n",
    "    SELECT \n",
    "        x.encoding, y.year, x.filename \n",
    "    FROM \n",
    "        wdp_ds.audio x \n",
    "    JOIN wdp_ds.encoding y ON x.encoding = y.encoding;\n",
    "\"\"\")"
   ]
  },
  {
   "cell_type": "code",
   "execution_count": 8,
   "metadata": {},
   "outputs": [],
   "source": [
    "paths = [\"audio_files/{}/{}\".format(file['year'], file['filename']) for file in files]"
   ]
  },
  {
   "cell_type": "code",
   "execution_count": 9,
   "metadata": {},
   "outputs": [
    {
     "name": "stdout",
     "output_type": "stream",
     "text": [
      "0\n"
     ]
    }
   ],
   "source": [
    "max_id = run_query(\"\"\"\n",
    "    SELECT \n",
    "        max(id)\n",
    "    FROM \n",
    "        wdp_ds.not_silent\n",
    "    \"\"\")\n",
    "if max_id[0]['max(id)'] is None:\n",
    "    max_id = 0\n",
    "else:\n",
    "    max_id = max_id[0]['max(id)']\n",
    "print(max_id)"
   ]
  },
  {
   "cell_type": "code",
   "execution_count": 10,
   "metadata": {},
   "outputs": [],
   "source": [
    "noise_classifier = load_model('sil.h5')\n",
    "client = storage.Client.from_service_account_json('secret.json')\n",
    "bucket = client.get_bucket('wdp-data')"
   ]
  },
  {
   "cell_type": "code",
   "execution_count": null,
   "metadata": {},
   "outputs": [
    {
     "name": "stdout",
     "output_type": "stream",
     "text": [
      "5161102 :  [(9338880, 9347072), (11284480, 11300864), (15474688, 15511552), (15659008, 15667200), (15712256, 15794176), (18583552, 18595840), (19886080, 19894272), (20631552, 20639744), (21245952, 21270528), (23642112, 23666688), (26591232, 26607616), (27975680, 27987968), (29298688, 29306880), (30822400, 30830592), (33710080, 33738752), (33787904, 33808384)]\n",
      "audio_files/2011/05161103.m4a {'year': 2011, 'encoding': 5161103, 'filename': '05161103.m4a'}\n",
      "Infile converted from .m4a to \".wav\"\n",
      "data read in!\n",
      "5161103 :  [(724992, 733184), (6701056, 6709248), (6963200, 6971392)]\n",
      "audio_files/2011/05261101C.m4a {'year': 2011, 'encoding': 5261101, 'filename': '05261101C.m4a'}\n",
      "Infile converted from .m4a to \".wav\"\n",
      "data read in!\n",
      "5261101 :  [(0, 8192), (847872, 876544), (3870720, 3878912), (3919872, 3944448), (15118336, 15126528), (21450752, 21475328), (22204416, 22212608), (22372352, 22380544)]\n",
      "audio_files/2011/05261102C.m4a {'year': 2011, 'encoding': 5261102, 'filename': '05261102C.m4a'}\n",
      "Infile converted from .m4a to \".wav\"\n",
      "data read in!\n",
      "5261102 :  [(7176192, 7184384), (10964992, 10973184), (15933440, 15941632), (17211392, 17219584)]\n",
      "audio_files/2011/05261103C.m4a {'year': 2011, 'encoding': 5261103, 'filename': '05261103C.m4a'}\n"
     ]
    }
   ],
   "source": [
    "id = max_id + 1\n",
    "for path, file_dict in zip(paths, files):\n",
    "    print(path, file_dict)\n",
    "    with open(\"/tmp/audio.m4a\", \"wb\") as file_obj:\n",
    "        blob = bucket.blob(path)\n",
    "        blob.download_to_file(file_obj)\n",
    "    stream = StreamSpectrogram(\"/tmp/audio.m4a\")\n",
    "    not_noise = []\n",
    "    for x in stream:\n",
    "        y = noise_classifier.predict(np.stack(x)).flatten()\n",
    "        not_noise.extend([sample == 0 for sample in y])\n",
    "        \n",
    "    regions = []\n",
    "    for i in range(0, len(not_noise)):\n",
    "        if not_noise[i]:\n",
    "            start = i * 16 * 256 \n",
    "            stop  = (i + 1) * 16 * 256 \n",
    "            if len(regions) > 0: \n",
    "                last  = regions[-1]\n",
    "                if start - last[1] < 48000 * 0.75:\n",
    "                    start       = regions[-1][0]\n",
    "                    regions[-1] = (start, stop)\n",
    "                else:\n",
    "                    regions.append((start, stop))\n",
    "            else:\n",
    "                regions.append((start, stop))\n",
    "    regions = [(start, stop) for start, stop in regions if stop - start > (16 * 256)]\n",
    "    if len(regions) > 0:\n",
    "        with db.connect() as conn:\n",
    "            for start, stop in regions:                \n",
    "                conn.execute(\"INSERT INTO wdp_ds.not_silent VALUES ({}, {}, '{}', {}, {})\".format(id, file_dict['encoding'], file_dict['filename'], start, stop))  \n",
    "                id += 1\n",
    "    print(file_dict['encoding'], \": \", regions)"
   ]
  },
  {
   "cell_type": "code",
   "execution_count": null,
   "metadata": {},
   "outputs": [],
   "source": []
  }
 ],
 "metadata": {
  "kernelspec": {
   "display_name": "Python 3",
   "language": "python",
   "name": "python3"
  },
  "language_info": {
   "codemirror_mode": {
    "name": "ipython",
    "version": 3
   },
   "file_extension": ".py",
   "mimetype": "text/x-python",
   "name": "python",
   "nbconvert_exporter": "python",
   "pygments_lexer": "ipython3",
   "version": "3.7.3"
  }
 },
 "nbformat": 4,
 "nbformat_minor": 4
}
