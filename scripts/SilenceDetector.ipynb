{
 "cells": [
  {
   "cell_type": "code",
   "execution_count": null,
   "metadata": {},
   "outputs": [],
   "source": [
    "!python3 -m pip install PyMySQL\n",
    "!python3 -m pip install SQLAlchemy\n",
    "!python3 -m pip install google-cloud-storage\n",
    "!python3 -m pip install --upgrade --quiet scikit-sound\n",
    "!python3 -m pip install --upgrade --quiet pygame\n",
    "!sudo apt-get -y install ffmpeg\n",
    "!sudo apt-get -y install python3-pymysql"
   ]
  },
  {
   "cell_type": "code",
   "execution_count": 1,
   "metadata": {},
   "outputs": [
    {
     "name": "stdout",
     "output_type": "stream",
     "text": [
      "pygame 1.9.6\n",
      "Hello from the pygame community. https://www.pygame.org/contribute.html\n"
     ]
    }
   ],
   "source": [
    "import sqlalchemy\n",
    "import numpy as np\n",
    "\n",
    "from google.cloud import storage\n",
    "from numpy.fft import fft, ifft\n",
    "from sksound.sounds import Sound\n",
    "\n",
    "from tensorflow.keras.models import load_model"
   ]
  },
  {
   "cell_type": "code",
   "execution_count": 2,
   "metadata": {},
   "outputs": [],
   "source": [
    "highpass=25\n",
    "\n",
    "class StreamSpectrogram:\n",
    "    \n",
    "    def __init__(self, filename, win=128):\n",
    "        sound = Sound(filename)        \n",
    "        self.batch = sound.rate * 60\n",
    "        self.data  = sound.data\n",
    "        if len(self.data.shape) > 1:\n",
    "            self.data = self.data[:, 0]    \n",
    "        self.win = win\n",
    "        \n",
    "    def __iter__(self):\n",
    "        self.i = 0\n",
    "        return self\n",
    "\n",
    "    def __next__(self):\n",
    "        if (self.i + 1) * self.batch < len(self.data): \n",
    "            start = self.i       * self.batch\n",
    "            stop  = (self.i + 1) * self.batch\n",
    "            raw   = self.data[start:stop]\n",
    "            spec  = fwd_spectrogram(raw, win=512 + 2 * highpass)[:, 0:256] \n",
    "            t,d   = spec.shape\n",
    "            current = []        \n",
    "            for i in range(self.win, t, self.win // 2):\n",
    "                x      = np.reshape(spec[i - self.win:i], (self.win, d, 1))\n",
    "                mu     = np.mean(x)\n",
    "                std    = np.std(x) + 1.0\n",
    "                window = (x - mu) / std\n",
    "                current.append(window)\n",
    "            self.i += 1\n",
    "            return np.stack(current)\n",
    "        else:\n",
    "            raise StopIteration\n",
    "        \n",
    "def fwd_spectrogram(audio, win=512, step=64):\n",
    "    '''\n",
    "    Compute the spectrogram of audio data\n",
    "\n",
    "    audio: one channel audio\n",
    "    win: window size for dft sliding window\n",
    "    step: step size for dft sliding windo\n",
    "    '''\n",
    "    spectrogram = []\n",
    "    hanning = np.hanning(win)\n",
    "    for i in range(win, len(audio), step):\n",
    "        start = win // 2\n",
    "        dft = np.abs(fft(audio[i - win: i] * hanning))[start:win]\n",
    "        spectrogram.append(dft)\n",
    "    return np.array(spectrogram)"
   ]
  },
  {
   "cell_type": "code",
   "execution_count": 3,
   "metadata": {},
   "outputs": [],
   "source": [
    "# PASSWORDS AND STUFF HERE"
   ]
  },
  {
   "cell_type": "code",
   "execution_count": 4,
   "metadata": {},
   "outputs": [],
   "source": [
    "settings = {\n",
    "   'user': db_user,\n",
    "   'pass': db_password,\n",
    "   'host': host,\n",
    "     'db': db_name\n",
    "}\n",
    "url = 'mysql+pymysql://{user}:{pass}@{host}/{db}'.format(**settings)  # 5432 is the default port\n",
    "db = sqlalchemy.create_engine(url)"
   ]
  },
  {
   "cell_type": "code",
   "execution_count": 5,
   "metadata": {},
   "outputs": [],
   "source": [
    "def run_query(query):\n",
    "    with db.connect() as conn:\n",
    "        rows = []\n",
    "        for row in conn.execute(query).fetchall():\n",
    "            rows.append(dict(row.items()))\n",
    "        return rows"
   ]
  },
  {
   "cell_type": "code",
   "execution_count": 6,
   "metadata": {},
   "outputs": [],
   "source": [
    "files = run_query(\"\"\"\n",
    "    SELECT \n",
    "        x.encoding, y.year, x.filename \n",
    "    FROM \n",
    "        wdp_ds.audio x \n",
    "    JOIN wdp_ds.encoding y ON x.encoding = y.encoding;\n",
    "\"\"\")"
   ]
  },
  {
   "cell_type": "code",
   "execution_count": 7,
   "metadata": {},
   "outputs": [],
   "source": [
    "paths = [\"audio_files/{}/{}\".format(file['year'], file['filename']) for file in files]"
   ]
  },
  {
   "cell_type": "code",
   "execution_count": 8,
   "metadata": {},
   "outputs": [
    {
     "name": "stdout",
     "output_type": "stream",
     "text": [
      "2113\n"
     ]
    }
   ],
   "source": [
    "max_id = run_query(\"\"\"\n",
    "    SELECT \n",
    "        max(id)\n",
    "    FROM \n",
    "        wdp_ds.not_silent\n",
    "    \"\"\")\n",
    "if max_id[0]['max(id)'] is None:\n",
    "    max_id = 0\n",
    "else:\n",
    "    max_id = max_id[0]['max(id)']\n",
    "print(max_id)"
   ]
  },
  {
   "cell_type": "code",
   "execution_count": 9,
   "metadata": {},
   "outputs": [],
   "source": [
    "noise_classifier = load_model('../models/lstm_v3/v3.5/sil.h5')\n",
    "client = storage.Client.from_service_account_json('../secret.json')\n",
    "bucket = client.get_bucket('wdp-data')"
   ]
  },
  {
   "cell_type": "code",
   "execution_count": 10,
   "metadata": {
    "scrolled": true
   },
   "outputs": [
    {
     "name": "stdout",
     "output_type": "stream",
     "text": [
      "7161102 :  [(4587520, 4612096), (4722688, 4747264), (4759552, 4771840), (5214208, 5226496), (5472256, 5492736), (5505024, 5529600), (5824512, 5906432), (9125888, 9134080), (9142272, 9199616), (9822208, 9842688), (9973760, 9998336), (10014720, 10027008), (10035200, 10047488), (10829824, 10838016), (10854400, 10866688), (10899456, 10907648), (18403328, 18411520), (21164032, 21172224), (45977600, 45985792), (50511872, 50520064), (61165568, 61177856), (68014080, 68022272), (80130048, 80138240), (83447808, 83456000), (83795968, 83804160)]\n",
      "audio_files/2011/07161103.m4a {'encoding': 7161103, 'year': 2011, 'filename': '07161103.m4a'} 51\n",
      "Infile converted from .m4a to \".wav\"\n",
      "data read in!\n",
      "7161103 :  [(430080, 438272), (1171456, 1179648), (1318912, 1327104), (5976064, 5984256), (5992448, 6000640), (6524928, 6553600), (6561792, 6594560), (6602752, 6615040), (6647808, 6656000), (7184384, 7196672), (7286784, 7294976), (7311360, 7319552), (8183808, 8192000), (11862016, 11874304), (12804096, 12816384), (12828672, 12840960), (12853248, 12865536), (14577664, 14585856), (14970880, 14987264), (17035264, 17100800)]\n",
      "audio_files/2011/07161104.m4a {'encoding': 7161104, 'year': 2011, 'filename': '07161104.m4a'} 52\n",
      "Infile converted from .m4a to \".wav\"\n",
      "data read in!\n",
      "7161104 :  [(327680, 356352), (1466368, 1482752), (8056832, 8077312), (8085504, 8101888), (8482816, 8491008), (8499200, 8507392), (8536064, 8544256)]\n",
      "audio_files/2011/07291101.m4a {'encoding': 7291101, 'year': 2011, 'filename': '07291101.m4a'} 53\n",
      "Infile converted from .m4a to \".wav\"\n",
      "data read in!\n",
      "7291101 :  [(12943360, 12951552), (12992512, 13000704), (14618624, 14639104), (19324928, 19333120), (25202688, 25210880)]\n",
      "audio_files/2011/07301101.m4a {'encoding': 7301101, 'year': 2011, 'filename': '07301101.m4a'} 54\n",
      "Infile converted from .m4a to \".wav\"\n",
      "data read in!\n",
      "7301101 :  [(700416, 724992), (737280, 753664), (774144, 794624), (802816, 835584), (2506752, 2514944), (3264512, 3338240), (3371008, 3403776), (5771264, 5804032), (6238208, 6258688), (6283264, 6307840), (9756672, 9805824), (10096640, 10104832), (12361728, 12369920), (12468224, 12476416), (16130048, 16146432), (16654336, 16670720), (16678912, 16699392), (17555456, 17563648), (18898944, 18907136), (19701760, 19709952), (22437888, 22458368), (22564864, 22577152), (22609920, 22626304), (29532160, 29548544), (36130816, 36139008), (44023808, 44032000), (45096960, 45137920)]\n",
      "audio_files/2011/08011101.m4a {'encoding': 8011101, 'year': 2011, 'filename': '08011101.m4a'} 55\n",
      "Infile converted from .m4a to \".wav\"\n",
      "data read in!\n",
      "8011101 :  [(0, 8192), (282624, 294912), (1728512, 1736704), (1773568, 1785856), (1814528, 1822720), (4222976, 4231168), (15093760, 15101952), (22802432, 22810624), (23236608, 23273472), (25677824, 25690112), (27504640, 27516928), (30941184, 30953472), (30965760, 30973952), (34385920, 34394112), (38068224, 38076416), (38088704, 38117376), (38125568, 38141952), (38162432, 38174720), (38199296, 38215680), (38223872, 38232064), (38240256, 38273024)]\n"
     ]
    }
   ],
   "source": [
    "id = max_id + 1\n",
    "skip = 34\n",
    "c = 0\n",
    "for path, file_dict in zip(paths, files):\n",
    "    if c > skip:\n",
    "        print(path, file_dict, c)\n",
    "        with open(\"/tmp/audio.m4a\", \"wb\") as file_obj:\n",
    "            blob = bucket.blob(path)\n",
    "            blob.download_to_file(file_obj)\n",
    "        stream = StreamSpectrogram(\"/tmp/audio.m4a\")\n",
    "        not_noise = []\n",
    "        for x in stream:\n",
    "            y = noise_classifier.predict(x).flatten()\n",
    "            not_noise.extend([int(np.round(sample)) == 0 for sample in y])\n",
    "\n",
    "        regions = []\n",
    "        for i in range(0, len(not_noise)):\n",
    "            if not_noise[i]:\n",
    "                # win: 32, step: 256\n",
    "                #start = i * 16 * 256\n",
    "                #stop  = (i + 1) * 16 * 256 \n",
    "\n",
    "                # win: 128, step: 64\n",
    "                start = i * 64 * 64\n",
    "                stop  = (i + 1) * 64 * 64 \n",
    "\n",
    "                if len(regions) > 0: \n",
    "                    last  = regions[-1]\n",
    "                    if start - last[1] < 48000 * 0.1:\n",
    "                        start       = regions[-1][0]\n",
    "                        regions[-1] = (start, stop)\n",
    "                    else:\n",
    "                        regions.append((start, stop))\n",
    "                else:\n",
    "                    regions.append((start, stop))\n",
    "        regions = [(start, stop) for start, stop in regions if stop - start > (64 * 64)]\n",
    "        if len(regions) > 0:\n",
    "            with db.connect() as conn:\n",
    "                for start, stop in regions:                \n",
    "                    conn.execute(\"INSERT INTO wdp_ds.not_silent VALUES ({}, {}, '{}', {}, {})\".format(id, file_dict['encoding'], file_dict['filename'], start, stop))  \n",
    "                    id += 1\n",
    "        print(file_dict['encoding'], \": \", regions)\n",
    "    c += 1"
   ]
  },
  {
   "cell_type": "code",
   "execution_count": null,
   "metadata": {},
   "outputs": [],
   "source": []
  }
 ],
 "metadata": {
  "kernelspec": {
   "display_name": "Python 3",
   "language": "python",
   "name": "python3"
  },
  "language_info": {
   "codemirror_mode": {
    "name": "ipython",
    "version": 3
   },
   "file_extension": ".py",
   "mimetype": "text/x-python",
   "name": "python",
   "nbconvert_exporter": "python",
   "pygments_lexer": "ipython3",
   "version": "3.5.3"
  }
 },
 "nbformat": 4,
 "nbformat_minor": 4
}
