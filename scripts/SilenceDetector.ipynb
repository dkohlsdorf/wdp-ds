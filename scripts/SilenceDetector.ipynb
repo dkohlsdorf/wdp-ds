{
 "cells": [
  {
   "cell_type": "code",
   "execution_count": null,
   "metadata": {},
   "outputs": [],
   "source": [
    "!python3 -m pip install PyMySQL\n",
    "!python3 -m pip install SQLAlchemy\n",
    "!python3 -m pip install google-cloud-storage\n",
    "!python3 -m pip install --upgrade --quiet scikit-sound\n",
    "!python3 -m pip install --upgrade --quiet pygame\n",
    "!sudo apt-get -y install ffmpeg\n",
    "!sudo apt-get -y install python3-pymysql"
   ]
  },
  {
   "cell_type": "code",
   "execution_count": 1,
   "metadata": {},
   "outputs": [
    {
     "name": "stdout",
     "output_type": "stream",
     "text": [
      "pygame 1.9.6\n",
      "Hello from the pygame community. https://www.pygame.org/contribute.html\n"
     ]
    }
   ],
   "source": [
    "import sqlalchemy\n",
    "import numpy as np\n",
    "\n",
    "from google.cloud import storage\n",
    "from numpy.fft import fft, ifft\n",
    "from sksound.sounds import Sound\n",
    "from scipy.io import wavfile\n",
    "\n",
    "from tensorflow.keras.models import load_model"
   ]
  },
  {
   "cell_type": "code",
   "execution_count": 2,
   "metadata": {},
   "outputs": [],
   "source": [
    "highpass=25\n",
    "\n",
    "class StreamSpectrogram:\n",
    "    \n",
    "    def __init__(self, filename, win=128):\n",
    "        sound = Sound(filename)        \n",
    "        self.batch = sound.rate * 60\n",
    "        self.data  = sound.data\n",
    "        self.fs    = sound.rate\n",
    "        if len(self.data.shape) > 1:\n",
    "            self.data = self.data[:, 0]    \n",
    "        self.win = win\n",
    "        \n",
    "    def __iter__(self):\n",
    "        self.i = 0\n",
    "        return self\n",
    "\n",
    "    def __next__(self):\n",
    "        if (self.i + 1) * self.batch < len(self.data): \n",
    "            start = self.i       * self.batch\n",
    "            stop  = (self.i + 1) * self.batch\n",
    "            raw   = self.data[start:stop]\n",
    "            spec  = fwd_spectrogram(raw, win=512 + 2 * highpass)[:, 0:256] \n",
    "            t,d   = spec.shape\n",
    "            current = []        \n",
    "            for i in range(self.win, t, self.win // 2):\n",
    "                x      = np.reshape(spec[i - self.win:i], (self.win, d, 1))\n",
    "                mu     = np.mean(x)\n",
    "                std    = np.std(x) + 1.0\n",
    "                window = (x - mu) / std\n",
    "                current.append(window)\n",
    "            self.i += 1\n",
    "            return np.stack(current)\n",
    "        else:\n",
    "            raise StopIteration\n",
    "     \n",
    "    def snippet(self, start, stop):\n",
    "        w = 512 + 2 * highpass\n",
    "        if start - w > 0:\n",
    "            return self.data[start - w:stop]\n",
    "        else:\n",
    "            return None\n",
    "    \n",
    "def fwd_spectrogram(audio, win=512, step=64):\n",
    "    '''\n",
    "    Compute the spectrogram of audio data\n",
    "\n",
    "    audio: one channel audio\n",
    "    win: window size for dft sliding window\n",
    "    step: step size for dft sliding windo\n",
    "    '''\n",
    "    spectrogram = []\n",
    "    hanning = np.hanning(win)\n",
    "    for i in range(win, len(audio), step):\n",
    "        start = win // 2\n",
    "        dft = np.abs(fft(audio[i - win: i] * hanning))[start:win]\n",
    "        spectrogram.append(dft)\n",
    "    return np.array(spectrogram)"
   ]
  },
  {
   "cell_type": "code",
   "execution_count": 3,
   "metadata": {},
   "outputs": [],
   "source": [
    "# PASSWORDS AND STUFF HERE"
   ]
  },
  {
   "cell_type": "code",
   "execution_count": 4,
   "metadata": {},
   "outputs": [],
   "source": [
    "settings = {\n",
    "   'user': db_user,\n",
    "   'pass': db_password,\n",
    "   'host': host,\n",
    "     'db': db_name\n",
    "}\n",
    "url = 'mysql+pymysql://{user}:{pass}@{host}/{db}'.format(**settings)  # 5432 is the default port\n",
    "db = sqlalchemy.create_engine(url)"
   ]
  },
  {
   "cell_type": "code",
   "execution_count": 5,
   "metadata": {},
   "outputs": [],
   "source": [
    "def run_query(query):\n",
    "    with db.connect() as conn:\n",
    "        rows = []\n",
    "        for row in conn.execute(query).fetchall():\n",
    "            rows.append(dict(row.items()))\n",
    "        return rows"
   ]
  },
  {
   "cell_type": "code",
   "execution_count": 6,
   "metadata": {},
   "outputs": [],
   "source": [
    "files = run_query(\"\"\"\n",
    "    SELECT \n",
    "        x.encoding, y.year, x.filename \n",
    "    FROM \n",
    "        wdp_ds.audio x \n",
    "    JOIN wdp_ds.encoding y ON x.encoding = y.encoding;\n",
    "\"\"\")"
   ]
  },
  {
   "cell_type": "code",
   "execution_count": 7,
   "metadata": {},
   "outputs": [],
   "source": [
    "paths = [\"audio_files/{}/{}\".format(file['year'], file['filename']) for file in files]"
   ]
  },
  {
   "cell_type": "code",
   "execution_count": 8,
   "metadata": {},
   "outputs": [
    {
     "name": "stdout",
     "output_type": "stream",
     "text": [
      "0\n"
     ]
    }
   ],
   "source": [
    "max_id = run_query(\"\"\"\n",
    "    SELECT \n",
    "        max(id)\n",
    "    FROM \n",
    "        wdp_ds.not_silent\n",
    "    \"\"\")\n",
    "if max_id[0]['max(id)'] is None:\n",
    "    max_id = 0\n",
    "else:\n",
    "    max_id = max_id[0]['max(id)']\n",
    "print(max_id)"
   ]
  },
  {
   "cell_type": "code",
   "execution_count": 9,
   "metadata": {},
   "outputs": [],
   "source": [
    "noise_classifier = load_model('../models/lstm_v4/v4.1/sil.h5')\n",
    "client = storage.Client.from_service_account_json('../secret.json')\n",
    "bucket = client.get_bucket('wdp-data')"
   ]
  },
  {
   "cell_type": "code",
   "execution_count": 10,
   "metadata": {},
   "outputs": [
    {
     "name": "stdout",
     "output_type": "stream",
     "text": [
      "5131101 :  [(679936, 729088), (737280, 753664), (831488, 843776), (1720320, 1736704), (1810432, 1839104), (1859584, 1884160), (2027520, 2043904), (2068480, 2076672), (2142208, 2154496), (2183168, 2240512), (2306048, 2318336), (2428928, 2437120), (2531328, 2576384), (2822144, 2830336), (2887680, 2899968), (2936832, 2949120), (2985984, 2994176), (3117056, 3133440), (3166208, 3178496), (3244032, 3252224), (3301376, 3313664), (3567616, 3579904), (3694592, 3702784), (3796992, 3809280), (4255744, 4280320), (4288512, 4321280), (4358144, 4407296), (4448256, 4464640), (4698112, 4734976), (4747264, 4763648), (4771840, 4780032), (4792320, 4800512), (5001216, 5009408), (5021696, 5033984), (5046272, 5054464), (5107712, 5115904), (5124096, 5152768), (5160960, 5173248), (5251072, 5271552), (5304320, 5316608), (5488640, 5517312), (5529600, 5574656), (5623808, 5636096), (5758976, 5767168), (5898240, 5914624), (5955584, 5976064), (6000640, 6033408), (6770688, 6799360), (6868992, 6877184), (6885376, 6893568), (6926336, 7012352), (7102464, 7114752), (7122944, 7139328), (7581696, 7593984), (7655424, 7671808), (7692288, 7753728), (7761920, 7802880), (7815168, 7917568), (8056832, 8069120), (8294400, 8306688), (8830976, 8839168), (9252864, 9412608), (9437184, 9449472), (9469952, 9523200), (9547776, 9584640), (9621504, 9633792), (9863168, 9875456), (9928704, 9940992), (11087872, 11120640), (11317248, 11333632), (11411456, 11431936), (12115968, 12136448), (13033472, 13045760), (13774848, 13791232), (14536704, 14544896), (16658432, 16666624), (16674816, 16711680), (16834560, 16850944), (16912384, 16928768), (16977920, 16986112), (17031168, 17039360), (17047552, 17055744), (17117184, 17137664)]\n",
      "audio_files/2011/05141101.m4a {'year': 2011, 'filename': '05141101.m4a', 'encoding': 5141101} 4\n",
      "Infile converted from .m4a to \".wav\"\n",
      "data read in!\n",
      "5141101 :  [(135168, 143360), (155648, 163840), (401408, 409600), (1363968, 1372160), (1384448, 1392640), (1818624, 1826816), (2158592, 2166784), (2555904, 2564096), (2609152, 2621440), (2629632, 2646016), (2662400, 2703360), (2711552, 2727936), (2764800, 2777088), (3084288, 3092480), (3477504, 3485696), (3600384, 3641344), (3694592, 3702784), (3715072, 3723264), (3780608, 3792896), (3801088, 3809280), (3842048, 3891200), (4251648, 4263936), (4927488, 4935680), (4988928, 5001216), (6135808, 6148096), (6348800, 6365184), (6467584, 6483968), (7065600, 7102464), (7110656, 7151616), (7163904, 7172096), (7356416, 7393280), (7417856, 7458816), (7577600, 7614464), (7888896, 7917568), (8097792, 8105984), (8482816, 8491008), (8540160, 8564736), (9195520, 9207808), (10457088, 10469376), (10534912, 10547200), (10649600, 10670080), (11091968, 11100160), (11386880, 11403264), (11427840, 11436032), (12230656, 12238848), (12361728, 12382208), (12390400, 12414976), (12423168, 12460032), (13082624, 13090816), (13238272, 13246464), (13459456, 13541376), (13570048, 13582336), (13787136, 13795328), (14000128, 14028800), (14102528, 14110720), (14569472, 14581760), (14659584, 14667776), (14856192, 14868480), (14888960, 14897152), (15712256, 15724544), (16449536, 16457728), (16662528, 16670720), (17059840, 17068032), (17149952, 17158144), (17395712, 17403904), (18919424, 18931712), (19341312, 19353600), (19529728, 19542016), (19562496, 19595264), (19623936, 19664896), (20209664, 20217856), (20267008, 20287488), (20660224, 20672512), (20987904, 21004288), (21012480, 21037056), (21098496, 21110784), (21467136, 21487616), (21508096, 21532672), (21540864, 21553152), (21630976, 21639168), (21663744, 21671936)]\n",
      "audio_files/2011/05141102.m4a {'year': 2011, 'filename': '05141102.m4a', 'encoding': 5141102} 5\n",
      "Infile converted from .m4a to \".wav\"\n",
      "data read in!\n",
      "5141102 :  [(176128, 184320), (192512, 204800), (294912, 311296), (319488, 339968), (413696, 425984), (1089536, 1097728), (1372160, 1384448), (1527808, 1536000), (1658880, 1679360), (1781760, 1798144), (2035712, 2052096), (2060288, 2080768), (2166784, 2174976), (3575808, 3588096), (3596288, 3633152), (4255744, 4272128), (4546560, 4579328), (4608000, 4640768), (4722688, 4730880), (5046272, 5066752), (5230592, 5246976), (5283840, 5296128), (5332992, 5341184), (5378048, 5390336), (6508544, 6541312), (6610944, 6627328), (6635520, 6754304), (7278592, 7307264), (8097792, 8114176), (8146944, 8159232), (8523776, 8540160), (8626176, 8667136), (8675328, 8683520), (11141120, 11169792), (11317248, 11350016), (12259328, 12271616), (12345344, 12353536), (12365824, 12414976), (12423168, 12447744), (12505088, 12513280), (12529664, 12537856), (12812288, 12845056), (12857344, 12865536), (14958592, 14987264), (14999552, 15020032), (16883712, 16924672), (16990208, 17022976), (17547264, 17559552), (17862656, 17870848), (17895424, 17903616), (18034688, 18046976), (18518016, 18538496), (19189760, 19197952), (19226624, 19238912), (19247104, 19255296), (19513344, 19521536), (20017152, 20029440)]\n",
      "audio_files/2011/05161101.m4a {'year': 2011, 'filename': '05161101.m4a', 'encoding': 5161101} 6\n",
      "Infile converted from .m4a to \".wav\"\n",
      "data read in!\n",
      "5161101 :  [(20480, 28672), (356352, 380928), (417792, 430080), (712704, 720896), (745472, 774144), (5644288, 5652480), (6000640, 6017024), (7278592, 7286784), (9838592, 9879552), (9904128, 9920512), (9932800, 9990144), (10006528, 10022912), (10063872, 10104832), (11464704, 11485184), (11505664, 11526144), (11616256, 11628544), (12046336, 12062720), (12070912, 12091392), (12111872, 12128256), (14151680, 14163968), (14192640, 14209024), (14536704, 14544896), (14864384, 14872576), (15568896, 15581184), (17186816, 17195008), (18567168, 18575360), (21544960, 21553152), (21561344, 21590016), (22777856, 22786048), (25264128, 25276416), (27402240, 27410432), (27926528, 27938816), (29257728, 29270016), (29704192, 29712384), (33947648, 33959936), (36294656, 36306944), (36675584, 36683776)]\n",
      "audio_files/2011/05161102.m4a {'year': 2011, 'filename': '05161102.m4a', 'encoding': 5161102} 7\n",
      "Infile converted from .m4a to \".wav\"\n",
      "data read in!\n",
      "5161102 :  [(0, 8192), (200704, 258048), (286720, 303104), (544768, 569344), (585728, 593920), (655360, 667648), (1126400, 1134592), (2777088, 2785280), (3371008, 3379200), (3534848, 3551232), (3895296, 4005888), (4022272, 4038656), (6635520, 6643712), (6713344, 6729728), (6782976, 6807552), (6836224, 6877184), (6901760, 6909952), (6922240, 6930432), (6983680, 7000064), (7081984, 7090176), (7098368, 7106560), (7131136, 7147520), (7176192, 7196672), (7229440, 7249920), (7393280, 7401472), (7544832, 7557120), (7737344, 7749632), (7802880, 7827456), (7847936, 7884800), (7901184, 7917568), (8007680, 8052736), (8138752, 8146944), (8269824, 8359936), (8777728, 8785920), (9269248, 9281536), (9371648, 9392128), (9400320, 9408512), (9515008, 9531392), (9555968, 9601024), (9719808, 9728000), (9752576, 9801728), (9809920, 9969664), (9977856, 10035200), (10059776, 10072064), (10084352, 10104832), (10113024, 10141696), (10162176, 10182656), (10424320, 10436608), (10481664, 10518528), (10534912, 10551296), (12201984, 12214272), (13692928, 13713408), (14123008, 14135296), (14151680, 14200832), (14348288, 14364672), (14704640, 14749696), (14774272, 14843904), (14884864, 14921728), (14929920, 15020032), (15032320, 15056896), (15069184, 15265792), (15273984, 15290368), (15298560, 15347712), (15355904, 15413248), (15462400, 15618048), (15626240, 15687680), (15704064, 15896576), (15945728, 16031744), (16072704, 16101376), (16117760, 16134144), (16482304, 16494592), (16539648, 16560128), (16691200, 16699392), (16867328, 16961536), (17477632, 17498112), (17506304, 17522688), (18083840, 18141184), (18149376, 18243584), (18251776, 18296832), (18321408, 18354176), (18362368, 18395136), (18411520, 18444288), (18489344, 18505728), (18546688, 18558976), (18702336, 18714624), (18759680, 18767872), (18780160, 18817024), (18829312, 18841600), (18853888, 18898944), (18927616, 18972672), (19042304, 19103744), (19120128, 19132416), (19144704, 19156992), (19247104, 19267584), (19341312, 19378176), (19435520, 19496960), (19521536, 19660800), (19668992, 19685376), (19697664, 19709952), (19808256, 19857408), (19890176, 19898368), (20066304, 20074496), (20086784, 20099072), (20197376, 20213760), (20279296, 20303872), (20348928, 20365312), (20643840, 20664320), (20676608, 20709376), (20942848, 20951040), (20959232, 20983808), (21037056, 21061632), (21069824, 21114880), (21123072, 21139456), (22249472, 22257664), (23412736, 23478272), (23498752, 23506944), (23515136, 23535616), (23560192, 23584768), (23642112, 23670784), (23683072, 23715840), (23728128, 23777280), (23793664, 23822336), (23998464, 24035328), (24104960, 24117248), (24276992, 24289280), (24739840, 24752128), (24764416, 24780800), (26079232, 26107904), (26116096, 26128384), (26144768, 26152960), (26161152, 26173440), (26206208, 26234880), (26284032, 26308608), (26349568, 26357760), (26390528, 26439680), (26447872, 26456064), (26603520, 26611712), (26931200, 26943488), (26988544, 27000832), (27140096, 27156480), (27418624, 27426816), (27910144, 27918336), (27951104, 27959296), (28012544, 28045312), (28086272, 28094464), (28102656, 28114944), (28344320, 28356608), (28966912, 28999680), (29048832, 29057024), (29077504, 29089792), (29241344, 29278208), (29298688, 29310976), (29347840, 29356032), (29843456, 29851648), (29933568, 29945856), (29982720, 30023680), (30081024, 30089216), (30097408, 30212096), (30478336, 30502912), (30515200, 30584832), (30666752, 30679040), (30724096, 30756864), (30789632, 30801920), (30810112, 30822400), (30855168, 30928896), (31383552, 31395840), (31408128, 31416320), (31424512, 31494144), (31678464, 31690752), (31731712, 31756288), (31936512, 31944704), (32010240, 32018432), (32055296, 32063488), (32198656, 32206848), (32231424, 32251904), (32403456, 32423936), (32436224, 32444416), (32452608, 32509952), (32796672, 32874496), (32899072, 32919552), (33263616, 33271808), (33288192, 33329152), (33357824, 33419264), (33624064, 33640448), (33742848, 33763328), (33828864, 33837056), (33873920, 33902592), (34029568, 34050048), (34119680, 34152448), (34222080, 34271232)]\n",
      "audio_files/2011/05161103.m4a {'year': 2011, 'filename': '05161103.m4a', 'encoding': 5161103} 8\n",
      "Infile converted from .m4a to \".wav\"\n",
      "data read in!\n",
      "5161103 :  [(163840, 196608), (380928, 397312), (552960, 573440), (798720, 827392), (839680, 856064), (897024, 905216), (950272, 970752), (4583424, 4595712), (5775360, 5799936), (5816320, 5828608), (5849088, 5857280), (5890048, 5898240), (5947392, 5959680), (5967872, 5988352), (6029312, 6041600), (6057984, 6090752), (6103040, 6123520), (6139904, 6152192), (6258688, 6279168), (6316032, 6336512), (6402048, 6475776), (6647808, 6660096), (6668288, 6701056), (6733824, 6778880), (6848512, 6897664), (6909952, 6946816), (6955008, 6987776), (6995968, 7004160), (7032832, 7045120), (7237632, 7278592), (7327744, 7380992), (7397376, 7405568), (7471104, 7483392), (7520256, 7589888), (8458240, 8654848), (8663040, 8687616), (10289152, 10305536), (10510336, 10526720), (10534912, 10571776), (10579968, 10592256), (10620928, 10629120), (10665984, 10678272), (10817536, 10842112), (11276288, 11296768)]\n",
      "audio_files/2011/05261101C.m4a {'year': 2011, 'filename': '05261101C.m4a', 'encoding': 5261101} 9\n"
     ]
    },
    {
     "ename": "KeyboardInterrupt",
     "evalue": "",
     "output_type": "error",
     "traceback": [
      "\u001b[0;31m---------------------------------------------------------------------------\u001b[0m",
      "\u001b[0;31mKeyboardInterrupt\u001b[0m                         Traceback (most recent call last)",
      "\u001b[0;32m<ipython-input-10-ec612a7a5513>\u001b[0m in \u001b[0;36m<module>\u001b[0;34m\u001b[0m\n\u001b[1;32m      8\u001b[0m             \u001b[0mblob\u001b[0m \u001b[0;34m=\u001b[0m \u001b[0mbucket\u001b[0m\u001b[0;34m.\u001b[0m\u001b[0mblob\u001b[0m\u001b[0;34m(\u001b[0m\u001b[0mpath\u001b[0m\u001b[0;34m)\u001b[0m\u001b[0;34m\u001b[0m\u001b[0m\n\u001b[1;32m      9\u001b[0m             \u001b[0mblob\u001b[0m\u001b[0;34m.\u001b[0m\u001b[0mdownload_to_file\u001b[0m\u001b[0;34m(\u001b[0m\u001b[0mfile_obj\u001b[0m\u001b[0;34m)\u001b[0m\u001b[0;34m\u001b[0m\u001b[0m\n\u001b[0;32m---> 10\u001b[0;31m         \u001b[0mstream\u001b[0m \u001b[0;34m=\u001b[0m \u001b[0mStreamSpectrogram\u001b[0m\u001b[0;34m(\u001b[0m\u001b[0;34m\"/tmp/audio.m4a\"\u001b[0m\u001b[0;34m)\u001b[0m\u001b[0;34m\u001b[0m\u001b[0m\n\u001b[0m\u001b[1;32m     11\u001b[0m         \u001b[0mnot_noise\u001b[0m \u001b[0;34m=\u001b[0m \u001b[0;34m[\u001b[0m\u001b[0;34m]\u001b[0m\u001b[0;34m\u001b[0m\u001b[0m\n\u001b[1;32m     12\u001b[0m         \u001b[0;32mfor\u001b[0m \u001b[0mx\u001b[0m \u001b[0;32min\u001b[0m \u001b[0mstream\u001b[0m\u001b[0;34m:\u001b[0m\u001b[0;34m\u001b[0m\u001b[0m\n",
      "\u001b[0;32m<ipython-input-2-b41227ac8272>\u001b[0m in \u001b[0;36m__init__\u001b[0;34m(self, filename, win)\u001b[0m\n\u001b[1;32m      4\u001b[0m \u001b[0;34m\u001b[0m\u001b[0m\n\u001b[1;32m      5\u001b[0m     \u001b[0;32mdef\u001b[0m \u001b[0m__init__\u001b[0m\u001b[0;34m(\u001b[0m\u001b[0mself\u001b[0m\u001b[0;34m,\u001b[0m \u001b[0mfilename\u001b[0m\u001b[0;34m,\u001b[0m \u001b[0mwin\u001b[0m\u001b[0;34m=\u001b[0m\u001b[0;36m128\u001b[0m\u001b[0;34m)\u001b[0m\u001b[0;34m:\u001b[0m\u001b[0;34m\u001b[0m\u001b[0m\n\u001b[0;32m----> 6\u001b[0;31m         \u001b[0msound\u001b[0m \u001b[0;34m=\u001b[0m \u001b[0mSound\u001b[0m\u001b[0;34m(\u001b[0m\u001b[0mfilename\u001b[0m\u001b[0;34m)\u001b[0m\u001b[0;34m\u001b[0m\u001b[0m\n\u001b[0m\u001b[1;32m      7\u001b[0m         \u001b[0mself\u001b[0m\u001b[0;34m.\u001b[0m\u001b[0mbatch\u001b[0m \u001b[0;34m=\u001b[0m \u001b[0msound\u001b[0m\u001b[0;34m.\u001b[0m\u001b[0mrate\u001b[0m \u001b[0;34m*\u001b[0m \u001b[0;36m60\u001b[0m\u001b[0;34m\u001b[0m\u001b[0m\n\u001b[1;32m      8\u001b[0m         \u001b[0mself\u001b[0m\u001b[0;34m.\u001b[0m\u001b[0mdata\u001b[0m  \u001b[0;34m=\u001b[0m \u001b[0msound\u001b[0m\u001b[0;34m.\u001b[0m\u001b[0mdata\u001b[0m\u001b[0;34m\u001b[0m\u001b[0m\n",
      "\u001b[0;32m~/.local/lib/python3.5/site-packages/sksound/sounds.py\u001b[0m in \u001b[0;36m__init__\u001b[0;34m(self, inFile, inData, inRate)\u001b[0m\n\u001b[1;32m    256\u001b[0m             \u001b[0;32mtry\u001b[0m\u001b[0;34m:\u001b[0m\u001b[0;34m\u001b[0m\u001b[0m\n\u001b[1;32m    257\u001b[0m                 \u001b[0mself\u001b[0m\u001b[0;34m.\u001b[0m\u001b[0msource\u001b[0m \u001b[0;34m=\u001b[0m \u001b[0minFile\u001b[0m\u001b[0;34m\u001b[0m\u001b[0m\n\u001b[0;32m--> 258\u001b[0;31m                 \u001b[0mself\u001b[0m\u001b[0;34m.\u001b[0m\u001b[0mread_sound\u001b[0m\u001b[0;34m(\u001b[0m\u001b[0mself\u001b[0m\u001b[0;34m.\u001b[0m\u001b[0msource\u001b[0m\u001b[0;34m)\u001b[0m\u001b[0;34m\u001b[0m\u001b[0m\n\u001b[0m\u001b[1;32m    259\u001b[0m             \u001b[0;32mexcept\u001b[0m \u001b[0mFileNotFoundError\u001b[0m \u001b[0;32mas\u001b[0m \u001b[0merr\u001b[0m\u001b[0;34m:\u001b[0m\u001b[0;34m\u001b[0m\u001b[0m\n\u001b[1;32m    260\u001b[0m                 \u001b[0mprint\u001b[0m\u001b[0;34m(\u001b[0m\u001b[0merr\u001b[0m\u001b[0;34m)\u001b[0m\u001b[0;34m\u001b[0m\u001b[0m\n",
      "\u001b[0;32m~/.local/lib/python3.5/site-packages/sksound/sounds.py\u001b[0m in \u001b[0;36mread_sound\u001b[0;34m(self, inFile)\u001b[0m\n\u001b[1;32m    307\u001b[0m             \u001b[0moutFile\u001b[0m \u001b[0;34m=\u001b[0m \u001b[0mroot\u001b[0m \u001b[0;34m+\u001b[0m \u001b[0;34m'.wav'\u001b[0m\u001b[0;34m\u001b[0m\u001b[0m\n\u001b[1;32m    308\u001b[0m             \u001b[0mcmd\u001b[0m \u001b[0;34m=\u001b[0m \u001b[0;34m[\u001b[0m\u001b[0mself\u001b[0m\u001b[0;34m.\u001b[0m\u001b[0minfo\u001b[0m\u001b[0;34m.\u001b[0m\u001b[0mffmpeg\u001b[0m\u001b[0;34m,\u001b[0m \u001b[0;34m'-i'\u001b[0m\u001b[0;34m,\u001b[0m \u001b[0minFile\u001b[0m\u001b[0;34m,\u001b[0m \u001b[0moutFile\u001b[0m\u001b[0;34m,\u001b[0m \u001b[0;34m'-y'\u001b[0m\u001b[0;34m]\u001b[0m\u001b[0;34m\u001b[0m\u001b[0m\n\u001b[0;32m--> 309\u001b[0;31m             \u001b[0msubprocess\u001b[0m\u001b[0;34m.\u001b[0m\u001b[0mrun\u001b[0m\u001b[0;34m(\u001b[0m\u001b[0mcmd\u001b[0m\u001b[0;34m)\u001b[0m\u001b[0;34m\u001b[0m\u001b[0m\n\u001b[0m\u001b[1;32m    310\u001b[0m             \u001b[0mprint\u001b[0m\u001b[0;34m(\u001b[0m\u001b[0;34m'Infile converted from '\u001b[0m \u001b[0;34m+\u001b[0m \u001b[0mext\u001b[0m \u001b[0;34m+\u001b[0m \u001b[0;34m' to \".wav\"'\u001b[0m\u001b[0;34m)\u001b[0m\u001b[0;34m\u001b[0m\u001b[0m\n\u001b[1;32m    311\u001b[0m \u001b[0;34m\u001b[0m\u001b[0m\n",
      "\u001b[0;32m/usr/lib/python3.5/subprocess.py\u001b[0m in \u001b[0;36mrun\u001b[0;34m(input, timeout, check, *popenargs, **kwargs)\u001b[0m\n\u001b[1;32m    383\u001b[0m     \u001b[0;32mwith\u001b[0m \u001b[0mPopen\u001b[0m\u001b[0;34m(\u001b[0m\u001b[0;34m*\u001b[0m\u001b[0mpopenargs\u001b[0m\u001b[0;34m,\u001b[0m \u001b[0;34m**\u001b[0m\u001b[0mkwargs\u001b[0m\u001b[0;34m)\u001b[0m \u001b[0;32mas\u001b[0m \u001b[0mprocess\u001b[0m\u001b[0;34m:\u001b[0m\u001b[0;34m\u001b[0m\u001b[0m\n\u001b[1;32m    384\u001b[0m         \u001b[0;32mtry\u001b[0m\u001b[0;34m:\u001b[0m\u001b[0;34m\u001b[0m\u001b[0m\n\u001b[0;32m--> 385\u001b[0;31m             \u001b[0mstdout\u001b[0m\u001b[0;34m,\u001b[0m \u001b[0mstderr\u001b[0m \u001b[0;34m=\u001b[0m \u001b[0mprocess\u001b[0m\u001b[0;34m.\u001b[0m\u001b[0mcommunicate\u001b[0m\u001b[0;34m(\u001b[0m\u001b[0minput\u001b[0m\u001b[0;34m,\u001b[0m \u001b[0mtimeout\u001b[0m\u001b[0;34m=\u001b[0m\u001b[0mtimeout\u001b[0m\u001b[0;34m)\u001b[0m\u001b[0;34m\u001b[0m\u001b[0m\n\u001b[0m\u001b[1;32m    386\u001b[0m         \u001b[0;32mexcept\u001b[0m \u001b[0mTimeoutExpired\u001b[0m\u001b[0;34m:\u001b[0m\u001b[0;34m\u001b[0m\u001b[0m\n\u001b[1;32m    387\u001b[0m             \u001b[0mprocess\u001b[0m\u001b[0;34m.\u001b[0m\u001b[0mkill\u001b[0m\u001b[0;34m(\u001b[0m\u001b[0;34m)\u001b[0m\u001b[0;34m\u001b[0m\u001b[0m\n",
      "\u001b[0;32m/usr/lib/python3.5/subprocess.py\u001b[0m in \u001b[0;36mcommunicate\u001b[0;34m(self, input, timeout)\u001b[0m\n\u001b[1;32m    791\u001b[0m                 \u001b[0mstderr\u001b[0m \u001b[0;34m=\u001b[0m \u001b[0mself\u001b[0m\u001b[0;34m.\u001b[0m\u001b[0mstderr\u001b[0m\u001b[0;34m.\u001b[0m\u001b[0mread\u001b[0m\u001b[0;34m(\u001b[0m\u001b[0;34m)\u001b[0m\u001b[0;34m\u001b[0m\u001b[0m\n\u001b[1;32m    792\u001b[0m                 \u001b[0mself\u001b[0m\u001b[0;34m.\u001b[0m\u001b[0mstderr\u001b[0m\u001b[0;34m.\u001b[0m\u001b[0mclose\u001b[0m\u001b[0;34m(\u001b[0m\u001b[0;34m)\u001b[0m\u001b[0;34m\u001b[0m\u001b[0m\n\u001b[0;32m--> 793\u001b[0;31m             \u001b[0mself\u001b[0m\u001b[0;34m.\u001b[0m\u001b[0mwait\u001b[0m\u001b[0;34m(\u001b[0m\u001b[0;34m)\u001b[0m\u001b[0;34m\u001b[0m\u001b[0m\n\u001b[0m\u001b[1;32m    794\u001b[0m         \u001b[0;32melse\u001b[0m\u001b[0;34m:\u001b[0m\u001b[0;34m\u001b[0m\u001b[0m\n\u001b[1;32m    795\u001b[0m             \u001b[0;32mif\u001b[0m \u001b[0mtimeout\u001b[0m \u001b[0;32mis\u001b[0m \u001b[0;32mnot\u001b[0m \u001b[0;32mNone\u001b[0m\u001b[0;34m:\u001b[0m\u001b[0;34m\u001b[0m\u001b[0m\n",
      "\u001b[0;32m/usr/lib/python3.5/subprocess.py\u001b[0m in \u001b[0;36mwait\u001b[0;34m(self, timeout, endtime)\u001b[0m\n\u001b[1;32m   1387\u001b[0m                         \u001b[0;32mif\u001b[0m \u001b[0mself\u001b[0m\u001b[0;34m.\u001b[0m\u001b[0mreturncode\u001b[0m \u001b[0;32mis\u001b[0m \u001b[0;32mnot\u001b[0m \u001b[0;32mNone\u001b[0m\u001b[0;34m:\u001b[0m\u001b[0;34m\u001b[0m\u001b[0m\n\u001b[1;32m   1388\u001b[0m                             \u001b[0;32mbreak\u001b[0m  \u001b[0;31m# Another thread waited.\u001b[0m\u001b[0;34m\u001b[0m\u001b[0m\n\u001b[0;32m-> 1389\u001b[0;31m                         \u001b[0;34m(\u001b[0m\u001b[0mpid\u001b[0m\u001b[0;34m,\u001b[0m \u001b[0msts\u001b[0m\u001b[0;34m)\u001b[0m \u001b[0;34m=\u001b[0m \u001b[0mself\u001b[0m\u001b[0;34m.\u001b[0m\u001b[0m_try_wait\u001b[0m\u001b[0;34m(\u001b[0m\u001b[0;36m0\u001b[0m\u001b[0;34m)\u001b[0m\u001b[0;34m\u001b[0m\u001b[0m\n\u001b[0m\u001b[1;32m   1390\u001b[0m                         \u001b[0;31m# Check the pid and loop as waitpid has been known to\u001b[0m\u001b[0;34m\u001b[0m\u001b[0;34m\u001b[0m\u001b[0m\n\u001b[1;32m   1391\u001b[0m                         \u001b[0;31m# return 0 even without WNOHANG in odd situations.\u001b[0m\u001b[0;34m\u001b[0m\u001b[0;34m\u001b[0m\u001b[0m\n",
      "\u001b[0;32m/usr/lib/python3.5/subprocess.py\u001b[0m in \u001b[0;36m_try_wait\u001b[0;34m(self, wait_flags)\u001b[0m\n\u001b[1;32m   1337\u001b[0m             \u001b[0;34m\"\"\"All callers to this function MUST hold self._waitpid_lock.\"\"\"\u001b[0m\u001b[0;34m\u001b[0m\u001b[0m\n\u001b[1;32m   1338\u001b[0m             \u001b[0;32mtry\u001b[0m\u001b[0;34m:\u001b[0m\u001b[0;34m\u001b[0m\u001b[0m\n\u001b[0;32m-> 1339\u001b[0;31m                 \u001b[0;34m(\u001b[0m\u001b[0mpid\u001b[0m\u001b[0;34m,\u001b[0m \u001b[0msts\u001b[0m\u001b[0;34m)\u001b[0m \u001b[0;34m=\u001b[0m \u001b[0mos\u001b[0m\u001b[0;34m.\u001b[0m\u001b[0mwaitpid\u001b[0m\u001b[0;34m(\u001b[0m\u001b[0mself\u001b[0m\u001b[0;34m.\u001b[0m\u001b[0mpid\u001b[0m\u001b[0;34m,\u001b[0m \u001b[0mwait_flags\u001b[0m\u001b[0;34m)\u001b[0m\u001b[0;34m\u001b[0m\u001b[0m\n\u001b[0m\u001b[1;32m   1340\u001b[0m             \u001b[0;32mexcept\u001b[0m \u001b[0mChildProcessError\u001b[0m\u001b[0;34m:\u001b[0m\u001b[0;34m\u001b[0m\u001b[0m\n\u001b[1;32m   1341\u001b[0m                 \u001b[0;31m# This happens if SIGCLD is set to be ignored or waiting\u001b[0m\u001b[0;34m\u001b[0m\u001b[0;34m\u001b[0m\u001b[0m\n",
      "\u001b[0;31mKeyboardInterrupt\u001b[0m: "
     ]
    }
   ],
   "source": [
    "id = max_id + 1\n",
    "skip = 0\n",
    "c = 0\n",
    "for path, file_dict in zip(paths, files):\n",
    "    if c > skip:\n",
    "        print(path, file_dict, c)\n",
    "        with open(\"/tmp/audio.m4a\", \"wb\") as file_obj:\n",
    "            blob = bucket.blob(path)\n",
    "            blob.download_to_file(file_obj)\n",
    "        stream = StreamSpectrogram(\"/tmp/audio.m4a\")\n",
    "        not_noise = []\n",
    "        for x in stream:\n",
    "            y = noise_classifier.predict(x).flatten()\n",
    "            not_noise.extend([int(np.round(sample)) == 0 for sample in y])\n",
    "\n",
    "        regions = []\n",
    "        for i in range(0, len(not_noise)):\n",
    "            if not_noise[i]:\n",
    "                #win: 32, step: 256\n",
    "                #start = i * 16 * 256\n",
    "                #stop  = (i + 1) * 16 * 256 \n",
    "                # win: 128, step: 64\n",
    "                start = i * 64 * 64\n",
    "                stop  = (i + 1) * 64 * 64 \n",
    "\n",
    "                if len(regions) > 0: \n",
    "                    last  = regions[-1]\n",
    "                    if start - last[1] < 48000 * 0.1:\n",
    "                        start       = regions[-1][0]\n",
    "                        regions[-1] = (start, stop)\n",
    "                    else:\n",
    "                        regions.append((start, stop))\n",
    "                else:\n",
    "                    regions.append((start, stop))\n",
    "        regions = [(start, stop) for start, stop in regions if stop - start > (64 * 64)]\n",
    "        if len(regions) > 0:\n",
    "            #for start, stop in regions:\n",
    "            #    audio = stream.snippet(start, stop)\n",
    "            #   if audio is not None:\n",
    "            #       wavfile.write('../data/silence/{}_{}_{}.wav'.format(file_dict['encoding'], start,stop), stream.fs, audio)\n",
    "\n",
    "            with db.connect() as conn:\n",
    "                for start, stop in regions:                \n",
    "                    conn.execute(\"INSERT INTO wdp_ds.not_silent VALUES ({}, {}, '{}', {}, {})\".format(id, file_dict['encoding'], file_dict['filename'], start, stop))  \n",
    "                    id += 1\n",
    "        print(file_dict['encoding'], \": \", regions)\n",
    "    c += 1"
   ]
  },
  {
   "cell_type": "code",
   "execution_count": null,
   "metadata": {},
   "outputs": [],
   "source": []
  }
 ],
 "metadata": {
  "kernelspec": {
   "display_name": "Python 3",
   "language": "python",
   "name": "python3"
  },
  "language_info": {
   "codemirror_mode": {
    "name": "ipython",
    "version": 3
   },
   "file_extension": ".py",
   "mimetype": "text/x-python",
   "name": "python",
   "nbconvert_exporter": "python",
   "pygments_lexer": "ipython3",
   "version": "3.5.3"
  }
 },
 "nbformat": 4,
 "nbformat_minor": 4
}
